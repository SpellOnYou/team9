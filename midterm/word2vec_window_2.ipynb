{
  "nbformat": 4,
  "nbformat_minor": 0,
  "metadata": {
    "colab": {
      "name": "word2vec_window-2.ipynb",
      "provenance": [],
      "collapsed_sections": [],
      "toc_visible": true,
      "machine_shape": "hm",
      "include_colab_link": true
    },
    "kernelspec": {
      "name": "python3",
      "display_name": "Python 3"
    },
    "language_info": {
      "name": "python"
    }
  },
  "cells": [
    {
      "cell_type": "markdown",
      "metadata": {
        "id": "view-in-github",
        "colab_type": "text"
      },
      "source": [
        "<a href=\"https://colab.research.google.com/github/SpellOnYou/CLab21/blob/main/midterm/word2vec_window_2.ipynb\" target=\"_parent\"><img src=\"https://colab.research.google.com/assets/colab-badge.svg\" alt=\"Open In Colab\"/></a>"
      ]
    },
    {
      "cell_type": "code",
      "metadata": {
        "id": "J4u2pZT597aZ"
      },
      "source": [
        "from pathlib import Path"
      ],
      "execution_count": 1,
      "outputs": []
    },
    {
      "cell_type": "code",
      "metadata": {
        "id": "gO1KG0KR9Jz-",
        "outputId": "de5fbddb-128e-4baa-e079-6ea0007b2320",
        "colab": {
          "base_uri": "https://localhost:8080/"
        }
      },
      "source": [
        "from google.colab import drive\n",
        "drive.mount('/gdrive')"
      ],
      "execution_count": 2,
      "outputs": [
        {
          "output_type": "stream",
          "text": [
            "Mounted at /gdrive\n"
          ],
          "name": "stdout"
        }
      ]
    },
    {
      "cell_type": "code",
      "metadata": {
        "id": "QtgesJRb9Szz"
      },
      "source": [
        "!cp -R /gdrive/MyDrive/2021/TL/2021-05-24/extracted/AA/. ."
      ],
      "execution_count": 12,
      "outputs": []
    },
    {
      "cell_type": "code",
      "metadata": {
        "id": "-HMU8UEWAZXV",
        "outputId": "fcbe1c2a-3820-4a9a-a2fe-50df61ba4dd0",
        "colab": {
          "base_uri": "https://localhost:8080/"
        }
      },
      "source": [
        "!head -n10 /content/processed/wiki_00"
      ],
      "execution_count": 32,
      "outputs": [
        {
          "output_type": "stream",
          "text": [
            "Anarchism is a political philosophy and movement that is sceptical of authority and rejects all involuntary, coercive forms of hierarchy. Anarchism calls for the abolition of the state, which it holds to be undesirable, unnecessary, and harmful. As a historically far-left movement, it is usually described alongside libertarian Marxism as the libertarian wing (libertarian socialism) of the socialist movement and has a strong historical association with anti-capitalism and socialism.\n",
            "The history of anarchy goes back to prehistory, when humans arguably lived in anarchic societies long before the establishment of formal states, realms or empires. With the rise of organised hierarchical bodies, scepticism toward authority also rose, but it was not until the 19th century that a self-conscious political movement emerged. During the latter half of the 19th and the first decades of the 20th century, the anarchist movement flourished in most parts of the world and had a significant role in workers' struggles for emancipation. Various anarchist schools of thought formed during this period. Anarchists have taken part in several revolutions, most notably in the Spanish Civil War, whose end marked the end of the classical era of anarchism. In the last decades of the 20th and into the 21st century, the anarchist movement has been resurgent once more.\n",
            "Anarchism employs a diversity of tactics in order to meet its ideal ends which can be broadly separated into revolutionary and evolutionary tactics. There is significant overlap between the two which are merely descriptive. Revolutionary tactics aim to bring down authority and state, having taken a violent turn in the past. Evolutionary tactics aim to prefigure what an anarchist society would be like. Anarchist thought, criticism and praxis have played a part in diverse areas of human society. Criticisms of anarchism include claims that it is internally inconsistent, violent, or utopian.\n",
            "The etymological origin of \"anarchism\" is from the Ancient Greek \"anarkhia\", meaning \"without a ruler\", composed of the prefix \"an-\" (i.e. \"without\") and the word \"arkhos\" (i.e. \"leader\" or \"ruler\"). The suffix \"-ism\" denotes the ideological current that favours anarchy. \"Anarchism\" appears in English from 1642 as \"anarchisme\" and \"anarchy\" from 1539; early English usages emphasised a sense of disorder. Various factions within the French Revolution labelled their opponents as \"anarchists\", although few such accused shared many views with later anarchists. Many revolutionaries of the 19th century such as William Godwin (1756–1836) and Wilhelm Weitling (1808–1871) would contribute to the anarchist doctrines of the next generation, but they did not use \"anarchist\" or \"anarchism\" in describing themselves or their beliefs.\n",
            "The first political philosopher to call himself an \"anarchist\" () was Pierre-Joseph Proudhon (1809–1865), marking the formal birth of anarchism in the mid-19th century. Since the 1890s and beginning in France, \"libertarianism\" has often been used as a synonym for anarchism and its use as a synonym is still common outside the United States. On the other hand, some use \"libertarianism\" to refer to individualistic free-market philosophy only, referring to free-market anarchism as \"libertarian anarchism\".\n",
            "While the term \"libertarian\" has been largely synonymous with anarchism, its meaning has more recently diluted with wider adoption from ideologically disparate groups, including both the New Left and libertarian Marxists (who do not associate themselves with authoritarian socialists or a vanguard party) as well as extreme liberals (primarily concerned with civil liberties). Additionally, some anarchists use \"libertarian socialist\" to avoid anarchism's negative connotations and emphasise its connections with socialism. Matthew S. Adams and Carl Levy write that \"anarchism\" is used to \"describe the anti-authoritarian wing of the socialist movement.\" Noam Chomsky describes anarchism, alongside libertarian Marxism, as \"the libertarian wing of socialism.\" Daniel Guérin wrote:\n",
            "[A]narchism is really a synonym for socialism. The anarchist is primarily a socialist whose aim is to abolish the exploitation of man by man. Anarchism is only one of the streams of socialist thought, that stream whose main components are concern for liberty and haste to abolish the State.\n",
            "While opposition to the state is central to anarchist thought, defining anarchism is not an easy task as there is a lot of discussion among scholars and anarchists on the matter and various currents perceive anarchism slightly differently. Hence, it might be true to say that anarchism is a cluster of political philosophies opposing authority and hierarchical organisation (including capitalism, nationalism, the state and all associated institutions) in the conduct of all human relations in favour of a society based on decentralisation, freedom and voluntary association. However, this definition has the same shortcomings as the definition based on anti-authoritarianism (which is an \"a posteriori\" conclusion), anti-statism (anarchism is much more than that) and etymology (which is simply a negation of a ruler). Nonetheless, major elements of the definition of anarchism include the will for a non-coercive society, the rejection of the state apparatus, the belief that human nature allows humans to exist in or progress toward such a non-coercive society and a suggestion on how to act to pursue the ideal of anarchy.\n",
            "Herbert L. Osgood claimed that anarchism is \"the extreme antithesis\" of authoritarian communism and state socialism. Peter Marshall states that \"[i]n general anarchism is closer to socialism than liberalism. [...] Anarchism finds itself largely in the socialist camp, but it also has outriders in liberalism. It cannot be reduced to socialism, and is best seen as a separate and distinctive doctrine.\" According to Jeremy Jennings, \"[i]t is hard not to conclude that these ideas\", referring to anarcho-capitalism, \"are described as anarchist only on the basis of a misunderstanding of what anarchism is.\" Jennings adds that \"anarchism does not stand for the untrammelled freedom of the individual (as the 'anarcho-capitalists' appear to believe) but, as we have already seen, for the extension of individuality and community.\" Nicolas Walter wrote that \"anarchism does derive from liberalism and socialism both historically and ideologically. [...] In a sense, anarchists always remain liberals and socialists, and whenever they reject what is good in either they betray anarchism itself. [...] We are liberals but more so, and socialists but more so.\" Michael Newman includes anarchism as one of many socialist traditions, especially the more socialist-aligned tradition following Proudhon and Mikhail Bakunin. Brian Morriss argues that it is \"conceptually and historically misleading\" to \"create a dichotomy between socialism and anarchism.\"\n",
            "During the prehistoric era of mankind, an established authority did not exist. It was after the creation of towns and cities that institutions of authority were established and anarchistic ideas espoused as a reaction. The most notable precursors to anarchism in the ancient world were in China and Greece. In China, philosophical anarchism (i.e. the discussion on the legitimacy of the state) was delineated by Taoist philosophers Zhuang Zhou and Laozi. Alongside Stoicism, Taoism has been said to have had \"significant anticipations\" of anarchism.\n"
          ],
          "name": "stdout"
        }
      ]
    },
    {
      "cell_type": "code",
      "metadata": {
        "id": "mkAHp92x93En"
      },
      "source": [
        "src_path = Path('/content')\n",
        "trg_path = Path('/content/processed')\n",
        "trg_path.mkdir(parents = True, exist_ok = True)"
      ],
      "execution_count": 2,
      "outputs": []
    },
    {
      "cell_type": "code",
      "metadata": {
        "id": "YnjeK-7v-rTN"
      },
      "source": [
        "def get_wiki(fname):\n",
        "    if fname in list(i.name for i in src_path.iterdir()):\n",
        "        all_sents = []\n",
        "        with (trg_path/fname).open('w') as wf:\n",
        "            with (src_path/fname).open() as rf:\n",
        "                all_sents += [doc for doc in rf.read().split('\\n\\n') if doc if not doc.startswith('<doc') if not doc.startswith('</doc')]\n",
        "            print('\\n'.join(all_sents), file = wf)\n",
        "        print(f\"{fname} written done to {trg_path/fname}\")"
      ],
      "execution_count": 27,
      "outputs": []
    },
    {
      "cell_type": "code",
      "metadata": {
        "id": "2eoNS7_BAFeB",
        "outputId": "508c1c11-85db-43ac-f726-c949346b6a76",
        "colab": {
          "base_uri": "https://localhost:8080/"
        }
      },
      "source": [
        "get_wiki('wiki_00')"
      ],
      "execution_count": 28,
      "outputs": [
        {
          "output_type": "stream",
          "text": [
            "wiki_00 written done to /content/processed/wiki_00\n"
          ],
          "name": "stdout"
        }
      ]
    },
    {
      "cell_type": "code",
      "metadata": {
        "id": "JHfYpVZVBMPU",
        "outputId": "2cbc06b3-267a-4214-8d32-15d6709a9d39",
        "colab": {
          "base_uri": "https://localhost:8080/"
        }
      },
      "source": [
        "trg_path"
      ],
      "execution_count": 3,
      "outputs": [
        {
          "output_type": "execute_result",
          "data": {
            "text/plain": [
              "PosixPath('/content/processed')"
            ]
          },
          "metadata": {
            "tags": []
          },
          "execution_count": 3
        }
      ]
    },
    {
      "cell_type": "code",
      "metadata": {
        "id": "mqd6BDL19S3z"
      },
      "source": [
        "def get_data(wikiname):\n",
        "    with (trg_path/wikiname).open('r') as f:\n",
        "        ls = f.readlines()\n",
        "    return ls"
      ],
      "execution_count": 5,
      "outputs": []
    },
    {
      "cell_type": "code",
      "metadata": {
        "id": "xcxz8WnS-FS4",
        "outputId": "b6d3667b-5326-4cde-a757-39e627885f78",
        "colab": {
          "base_uri": "https://localhost:8080/"
        }
      },
      "source": [
        "wiki_00=get_data('wiki_00')\n",
        "len(wiki_00)"
      ],
      "execution_count": 6,
      "outputs": [
        {
          "output_type": "execute_result",
          "data": {
            "text/plain": [
              "2751282"
            ]
          },
          "metadata": {
            "tags": []
          },
          "execution_count": 6
        }
      ]
    },
    {
      "cell_type": "code",
      "metadata": {
        "id": "IwVxf8CQA5Py"
      },
      "source": [
        "wiki_00_split = wiki_00[:int(len(wiki_00)*0.5)]"
      ],
      "execution_count": 8,
      "outputs": []
    },
    {
      "cell_type": "code",
      "metadata": {
        "id": "7_yxYE-BEEay",
        "outputId": "f27f38ad-8b52-4651-8194-ae93eb8a8d51",
        "colab": {
          "base_uri": "https://localhost:8080/"
        }
      },
      "source": [
        "len(wiki_00_split)"
      ],
      "execution_count": 9,
      "outputs": [
        {
          "output_type": "execute_result",
          "data": {
            "text/plain": [
              "1375641"
            ]
          },
          "metadata": {
            "tags": []
          },
          "execution_count": 9
        }
      ]
    },
    {
      "cell_type": "markdown",
      "metadata": {
        "id": "HZzAUPWNYKtK"
      },
      "source": [
        "# Vectorizer"
      ]
    },
    {
      "cell_type": "code",
      "metadata": {
        "id": "QHmHwIS_rulC"
      },
      "source": [
        "class Vocabulary:\n",
        "    def __init__(self, corpus):\n",
        "        '''\n",
        "        Args:\n",
        "            corpus: List(str)\n",
        "        '''    \n",
        "        self.corpus = corpus\n",
        "        self.sents = [list(map(self._cleansing_token, doc.split(' '))) for doc in corpus]\n",
        "        self.vocab = list({token for sentence in self.sents for token in sentence}) + ['UNK']\n",
        "        self._token_to_idx()\n",
        "        self._idx_to_token()        \n",
        "\n",
        "    def _cleansing_token(self, token):\n",
        "        return token.strip(\"\\\"\\'\\.\\'\\(\\)\\-\").lower()\n",
        "    def _token_to_idx(self):\n",
        "        self._token_to_idx = {token:idx for idx, token in enumerate(self.vocab)}\n",
        "    \n",
        "    def _idx_to_token(self):\n",
        "        self._idx_to_token = {idx:token for idx, token in enumerate(self.vocab)}\n",
        "\n",
        "    def lookup_token(self, token):\n",
        "        if token in self._token_to_idx:\n",
        "            return self._token_to_idx[token]\n",
        "        else:\n",
        "            return self._token_to_idx['UNK']\n",
        "        \n",
        "    def lookup_idx(self, idx):\n",
        "        \"\"\"\n",
        "        Args:\n",
        "            idx: int\n",
        "        \"\"\"\n",
        "        # assert type(idx) == int\n",
        "        return self._idx_to_token[idx]"
      ],
      "execution_count": 10,
      "outputs": []
    },
    {
      "cell_type": "code",
      "metadata": {
        "id": "2J1HaoiCs7oI"
      },
      "source": [
        "vocabulary = Vocabulary(wiki_00)"
      ],
      "execution_count": 38,
      "outputs": []
    },
    {
      "cell_type": "code",
      "metadata": {
        "colab": {
          "base_uri": "https://localhost:8080/"
        },
        "id": "m5YBaaGOuqAF",
        "outputId": "6bc3961d-cc3e-4e9b-fbcf-5c0e657b8120"
      },
      "source": [
        "len(vocabulary.vocab)"
      ],
      "execution_count": 39,
      "outputs": [
        {
          "output_type": "execute_result",
          "data": {
            "text/plain": [
              "2896376"
            ]
          },
          "metadata": {
            "tags": []
          },
          "execution_count": 39
        }
      ]
    },
    {
      "cell_type": "code",
      "metadata": {
        "colab": {
          "base_uri": "https://localhost:8080/"
        },
        "id": "etrlne0rvraY",
        "outputId": "6c967e1e-fe96-451d-808c-4b584ed106a1"
      },
      "source": [
        "vocabulary.lookup_token('add')"
      ],
      "execution_count": 40,
      "outputs": [
        {
          "output_type": "execute_result",
          "data": {
            "text/plain": [
              "1160644"
            ]
          },
          "metadata": {
            "tags": []
          },
          "execution_count": 40
        }
      ]
    },
    {
      "cell_type": "code",
      "metadata": {
        "id": "m_5K8Zyo4FIz"
      },
      "source": [
        "from itertools import cycle"
      ],
      "execution_count": 11,
      "outputs": []
    },
    {
      "cell_type": "code",
      "metadata": {
        "id": "mMItwoeJxKi-"
      },
      "source": [
        "class Vectorizer(Vocabulary):\n",
        "    \"\"\"vectorizer which converts vocabulary tokens in sentence to word pairs given window size\"\"\"\n",
        "    def __init__(self, *args):\n",
        "        #inherit all method / attribute from vocab\n",
        "        super().__init__(*args)\n",
        "        # self.__call__(self)\n",
        "        self.pairs = []\n",
        "\n",
        "    def __call__(self, wd_size=2):\n",
        "        for sent in self.sents:\n",
        "            for idx, token in enumerate(sent):\n",
        "                # print(sent)\n",
        "                context_words = sent[(idx-wd_size):idx]+ sent[(idx+1): (idx+wd_size+1)]\n",
        "                # print(sent, '\\n', context_words, token); break\n",
        "                context_indices = map(self.lookup_token, context_words)\n",
        "                # print()\n",
        "                self.pairs += [*zip(cycle([self.lookup_token(token)]), context_indices)]"
      ],
      "execution_count": 12,
      "outputs": []
    },
    {
      "cell_type": "code",
      "metadata": {
        "id": "jmyA8yONzt19"
      },
      "source": [
        "vect = Vectorizer(wiki_00_split)\n",
        "vect(2)"
      ],
      "execution_count": null,
      "outputs": []
    },
    {
      "cell_type": "code",
      "metadata": {
        "id": "gtr2NMmQCTVF"
      },
      "source": [
        "del wiki_00_split\n",
        "gc.collect()"
      ],
      "execution_count": null,
      "outputs": []
    },
    {
      "cell_type": "code",
      "metadata": {
        "id": "7uiqEYAY7Vmk"
      },
      "source": [
        "len(vect.sents)"
      ],
      "execution_count": null,
      "outputs": []
    },
    {
      "cell_type": "code",
      "metadata": {
        "id": "Gyosl7_Kz07R"
      },
      "source": [
        "len(vect.pairs)"
      ],
      "execution_count": null,
      "outputs": []
    },
    {
      "cell_type": "markdown",
      "metadata": {
        "id": "Z9l4PdzPR_Bx"
      },
      "source": [
        "# Train embedding model"
      ]
    },
    {
      "cell_type": "code",
      "metadata": {
        "id": "eFg4sZP1RnE_"
      },
      "source": [
        "class Linear():\n",
        "    def __init__(self, w, b):\n",
        "        self.w, self.b = w, b\n",
        "    def forward(self, x): \n",
        "        self.inp = x\n",
        "        self.out = self.inp@self.w + self.b\n",
        "        return self.out\n",
        "    \n",
        "    def backward(self):\n",
        "        self.inp.g = self.out.g @ self.w.t()\n",
        "        self.w.g = (self.inp.unsqueeze(-1) * self.out.g.unsqueeze(1)).sum(0)\n",
        "        self.b.g = self.out.g.sum(0)\n",
        "\n",
        "class Relu():\n",
        "    def forward(self, x):\n",
        "        self.inp = x\n",
        "        self.out = x.clamp_min(0.) - 0.5\n",
        "        return self.out\n",
        "\n",
        "    def backward(self):\n",
        "        self.inp.g = self.out.g* (self.inp>0).float()        \n",
        "\n",
        "class Softmax():\n",
        "    def forward(self, x):\n",
        "        self.inp = x\n",
        "        self.out = (x.exp()/ x.exp().sum(-1, keepdim=True))\n",
        "        return self.out\n",
        "\n",
        "    def backward(self):\n",
        "        self.inp.g = (1-self.out.g)*self.out.g"
      ],
      "execution_count": null,
      "outputs": []
    },
    {
      "cell_type": "code",
      "metadata": {
        "id": "E2RimNF3RnKQ"
      },
      "source": [
        "class CrossEntropy():\n",
        "    def __call__(self, pred, y):\n",
        "        \n",
        "        self.yhat, self.y = pred, y\n",
        "        #P(\\hat{y})\n",
        "        self.log_p_yhat = self.log_softmax(pred)\n",
        "        self.out = self.nll(self.log_p_yhat, y)\n",
        "        \n",
        "        return self.out\n",
        "\n",
        "    #negative log likelihood\n",
        "    def nll(self, pred, y):\n",
        "        # print(pred.shape, y.shape)\n",
        "        return -pred[range(y.shape[0]), y.max(-1).indices].mean()\n",
        "\n",
        "    def log_softmax(self, x): return x - x.exp().sum(-1,keepdim=True).log()\n",
        "\n",
        "    def backward(self, inp):\n",
        "        # set_trace()\n",
        "        self.yhat.g = (inp.unsqueeze(1)*(self.yhat - self.y).unsqueeze(-1)).sum(-1)\n",
        "        # self.yhat.g = (self.yhat.exp()/(self.yhat.exp().sum(-1,keepdim=True))) - self.y\n",
        "\n",
        "class DummyModel():\n",
        "    def __init__(self, w1, b1, w2, b2):\n",
        "        self.loss = CrossEntropy()\n",
        "        self.layers = [Linear(w1,b1), Relu(), Linear(w2, b2)]\n",
        "    \n",
        "    def forward(self, x):\n",
        "        self.x= x\n",
        "\n",
        "        for layer in self.layers:\n",
        "            x = layer.forward(x)\n",
        "        self.out = x\n",
        "        return self.out\n",
        "\n",
        "    def backward(self, x2):\n",
        "        self.loss.backward(x2)\n",
        "        for layer in reversed(self.layers):\n",
        "            layer.backward()"
      ],
      "execution_count": null,
      "outputs": []
    },
    {
      "cell_type": "code",
      "metadata": {
        "id": "4zxLzYtnChsm"
      },
      "source": [
        "n, m, h, c = *train_x.shape, 100, train_y.shape[1]\n",
        "\n",
        "w1 = randn(m, h) / math.sqrt(h)\n",
        "w2 = randn(h, c)\n",
        "b1 = randn(h)\n",
        "b2 = randn(c)"
      ],
      "execution_count": null,
      "outputs": []
    },
    {
      "cell_type": "code",
      "metadata": {
        "id": "Lg0f9xRvCg_e"
      },
      "source": [
        "model = DummyModel(w1, b1, w2, b2)\n",
        "\n",
        "def train(epochs, bs, lr):\n",
        "    for e in range(epochs):\n",
        "        for bs_i in range((n-1)//bs + 1):\n",
        "            tot_w_mean, tot_w_std = 0, 0\n",
        "            str_idx, end_idx = bs_i*bs, (bs_i+1)*bs\n",
        "            x_batch, y_batch = train_x[str_idx:end_idx], train_y[str_idx:end_idx]\n",
        "            prediction = model.forward(x_batch)\n",
        "            loss = model.loss(prediction, y_batch)\n",
        "\n",
        "            model.backward(model.layers[-1].inp)\n",
        "            \n",
        "            with no_grad():\n",
        "                for layer in model.layers:\n",
        "                    if hasattr(layer, 'w'): #if they have parameter attribute\n",
        "                        tot_w_mean+= layer.w.g.mean()\n",
        "                        tot_w_std += layer.w.g.std()\n",
        "                        layer.w -= layer.w.g * lr\n",
        "                        layer.b -= layer.b.g * lr\n",
        "                        layer.w.g.zero_() #initialize them to zero\n",
        "                        layer.b.g.zero_()\n",
        "            if bs_i % 20 ==0: print(tot_w_mean/bs, tot_w_std/bs)"
      ],
      "execution_count": null,
      "outputs": []
    },
    {
      "cell_type": "markdown",
      "metadata": {
        "id": "qa07_X10EQvk"
      },
      "source": [
        "## Next: using vect.pairs,\n",
        "- make one hot encoding with left side integer (X data)\n",
        "- save right side integer to Y data"
      ]
    },
    {
      "cell_type": "code",
      "metadata": {
        "id": "1N5wKP1p8bwv"
      },
      "source": [
        ""
      ],
      "execution_count": null,
      "outputs": []
    }
  ]
}