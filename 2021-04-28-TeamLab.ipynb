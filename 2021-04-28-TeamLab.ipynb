{
  "nbformat": 4,
  "nbformat_minor": 0,
  "metadata": {
    "colab": {
      "name": "Untitled0.ipynb",
      "provenance": [],
      "authorship_tag": "ABX9TyNZNDqiTkiOPH3dzNFz7u1m",
      "include_colab_link": true
    },
    "kernelspec": {
      "name": "python3",
      "display_name": "Python 3"
    },
    "language_info": {
      "name": "python"
    }
  },
  "cells": [
    {
      "cell_type": "markdown",
      "metadata": {
        "id": "view-in-github",
        "colab_type": "text"
      },
      "source": [
        "<a href=\"https://colab.research.google.com/github/SpellOnYou/CLab21/blob/main/2021-04-28-TeamLab.ipynb\" target=\"_parent\"><img src=\"https://colab.research.google.com/assets/colab-badge.svg\" alt=\"Open In Colab\"/></a>"
      ]
    },
    {
      "cell_type": "markdown",
      "metadata": {
        "id": "5GbfLxO2b6kp"
      },
      "source": [
        "Plans for today\n",
        "\n",
        "1. look into data\n",
        "2. set up github private repository\n",
        "3. list up feasible model\n",
        "\n",
        "Achieved\n",
        "\n",
        "1. decided on topic data\n",
        "2. explored data to decide on evaluation\n",
        "3. overall plan for project\n",
        "4. set up github private repository\n",
        "5. setting evaluation method. F-score\n",
        "\n",
        "Next Week\n",
        "\n",
        "1. ask questions regarding 1) library usage 2) pre-trained parameter 3) val-prediction.csv\n",
        "2. text pre-processing (i.e. tokenization, numericalization, vectorization)\n",
        "3. overall schedule\n",
        "\n",
        "Plans for the week (26.04.2021 - 03.05.2021):\n",
        "\n",
        "Implement evaluation method and test with our topic data\n",
        "Start implementing baseline method\n",
        "Test evaluation method using baseline algorithm\n"
      ]
    },
    {
      "cell_type": "code",
      "metadata": {
        "id": "FHuQIpjVdTQr"
      },
      "source": [
        ""
      ],
      "execution_count": null,
      "outputs": []
    }
  ]
}