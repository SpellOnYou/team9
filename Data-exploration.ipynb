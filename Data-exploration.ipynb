{
  "nbformat": 4,
  "nbformat_minor": 0,
  "metadata": {
    "accelerator": "GPU",
    "colab": {
      "name": "CL.ipynb",
      "provenance": [],
      "machine_shape": "hm",
      "include_colab_link": true
    },
    "kernelspec": {
      "display_name": "Python 3",
      "name": "python3"
    },
    "language_info": {
      "name": "python"
    }
  },
  "cells": [
    {
      "cell_type": "markdown",
      "metadata": {
        "id": "view-in-github",
        "colab_type": "text"
      },
      "source": [
        "<a href=\"https://colab.research.google.com/github/SpellOnYou/CLab21/blob/main/Data-exploration.ipynb\" target=\"_parent\"><img src=\"https://colab.research.google.com/assets/colab-badge.svg\" alt=\"Open In Colab\"/></a>"
      ]
    },
    {
      "cell_type": "code",
      "metadata": {
        "colab": {
          "base_uri": "https://localhost:8080/"
        },
        "id": "5CZ4KjTWm7AJ",
        "outputId": "62cac4e1-391f-4e5f-85cc-58381472e8b9"
      },
      "source": [
        "from google.colab import drive\n",
        "drive.mount('/gdrive')"
      ],
      "execution_count": 1,
      "outputs": [
        {
          "output_type": "stream",
          "text": [
            "Drive already mounted at /gdrive; to attempt to forcibly remount, call drive.mount(\"/gdrive\", force_remount=True).\n"
          ],
          "name": "stdout"
        }
      ]
    },
    {
      "cell_type": "code",
      "metadata": {
        "id": "eDeCc3w8nNAL"
      },
      "source": [
        "!cp -R /gdrive/MyDrive/2021/CLTeamLAB/2021-04-19/tl2021 /content"
      ],
      "execution_count": 2,
      "outputs": []
    },
    {
      "cell_type": "code",
      "metadata": {
        "id": "Q-ywJhHAnAaZ"
      },
      "source": [
        "from pathlib import Path\n",
        "data_path = Path('/content/tl2021/')"
      ],
      "execution_count": 1,
      "outputs": []
    },
    {
      "cell_type": "code",
      "metadata": {
        "id": "zjZjIMT7unfq"
      },
      "source": [
        "# ! [ -e /content ] && pip install -Uqq fastai  # upgrade fastai on colab\n",
        "from fastai.text.all import *"
      ],
      "execution_count": 2,
      "outputs": []
    },
    {
      "cell_type": "markdown",
      "metadata": {
        "id": "eb5OUXmXqiuP"
      },
      "source": [
        "## Restaurants"
      ]
    },
    {
      "cell_type": "markdown",
      "metadata": {
        "id": "TQoOWdqYv4Sk"
      },
      "source": [
        "- convert files to csv"
      ]
    },
    {
      "cell_type": "code",
      "metadata": {
        "id": "bFoQAH2SnyC9"
      },
      "source": [
        "food_path = data_path/'restaurants'"
      ],
      "execution_count": 3,
      "outputs": []
    },
    {
      "cell_type": "code",
      "metadata": {
        "id": "1WJIHGTun3nT",
        "colab": {
          "base_uri": "https://localhost:8080/"
        },
        "outputId": "30a6a76e-79f5-4a3a-b326-fb1559695b37"
      },
      "source": [
        "list(food_path.iterdir())"
      ],
      "execution_count": 4,
      "outputs": [
        {
          "output_type": "execute_result",
          "data": {
            "text/plain": [
              "[Path('/content/tl2021/restaurants/menu_dev-predicted.txt'),\n",
              " Path('/content/tl2021/restaurants/menu_test.txt'),\n",
              " Path('/content/tl2021/restaurants/menu_dev.txt'),\n",
              " Path('/content/tl2021/restaurants/menu_train.txt')]"
            ]
          },
          "metadata": {
            "tags": []
          },
          "execution_count": 4
        }
      ]
    },
    {
      "cell_type": "code",
      "metadata": {
        "id": "GdhdFzpup7Lt",
        "colab": {
          "base_uri": "https://localhost:8080/"
        },
        "outputId": "72e1e52d-78dd-4e5e-f2eb-ee35de055da1"
      },
      "source": [
        "for f in food_path.iterdir():\n",
        "    !wc {f}"
      ],
      "execution_count": 5,
      "outputs": [
        {
          "output_type": "stream",
          "text": [
            " 606  607 1710 /content/tl2021/restaurants/menu_dev-predicted.txt\n",
            "    606  410328 2951692 /content/tl2021/restaurants/menu_test.txt\n",
            "    606  387336 2777016 /content/tl2021/restaurants/menu_dev.txt\n",
            "    4859  3112313 22249469 /content/tl2021/restaurants/menu_train.txt\n"
          ],
          "name": "stdout"
        }
      ]
    },
    {
      "cell_type": "code",
      "metadata": {
        "id": "ukS9Agf8pEB3"
      },
      "source": [
        "import pandas as pd"
      ],
      "execution_count": 6,
      "outputs": []
    },
    {
      "cell_type": "code",
      "metadata": {
        "id": "tf4yErfzn9pz"
      },
      "source": [
        "with open(food_path/'menu_train.txt') as f:\n",
        "    lines = []\n",
        "    for line in f.readlines():\n",
        "        lines += [line.split('\\t')]\n",
        "\n",
        "train_df = pd.DataFrame(lines)\n",
        "train_df.head()\n",
        "train_df.to_csv('/content/train.csv')"
      ],
      "execution_count": 10,
      "outputs": []
    },
    {
      "cell_type": "code",
      "metadata": {
        "id": "6cajwhjowhu-",
        "colab": {
          "base_uri": "https://localhost:8080/"
        },
        "outputId": "0bbc318a-c89b-4b9c-a3ba-3549948ba69e"
      },
      "source": [
        "train_df[4].unique()"
      ],
      "execution_count": 11,
      "outputs": [
        {
          "output_type": "execute_result",
          "data": {
            "text/plain": [
              "array([\"squid tofu lunch cooked squid tofu vegetables with seasoned soy sauce;edamame broiled green soybeans;hotate scallop;oyako don dinner chicken vegetables and egg cooked with sweet seasoned soy sauce over rice;kitsune dinner noodles with fried bean cake;gomae spinach with sesame sauce;zaru soba lunch cold buckwheat noodle served with cold soba sauce;sashimi thinly sliced tuna;unajyu lunch barbecued eel served over rice;new york roll shrimp avocado;colorfull roll maguro hamachi sake tobiko shrio maguro abi hirame unagi crab avocado sprout cucumber;saba mackerel;tekka red tuna maki;broiled chicken teriyaki dinner;white tuna special dinner albacore sashimi tekka don;curry udon lunch homemade curry with japanese white noodles;tempura dinner deep fried prawns and vegetables;saba teriyaki lunch;tamago cooked egg;ama ebi sweet shrimp;ginger yaki lunch sliced beef cooked with a shoga ginger seasoned sauce;nasu hasamiyaki lunch sliced beef japanese eggplant broiled with ginger seasoned sauce;inari sweet fried tofu;rib eye teriyaki dinner;miso soup with clam;shrimp tempura roll;shiro maguro white tuna;beef lunch noodles with beef;donburi special i lunch beef tariyaki and tempura over rice;tempura sashimi and gyoza dinner;sashimi moriawase thinly sliced raw filet of tuna yellow tail salmon others dinner;maguro red tuna;tobiko flying fish roe;shabu shabu lunch beef and vegetables cooked in broth served with a special dipping sauce;hiya yako cold tofu;seafood tempura dinner deep fried seafood and vegetables;curry udon dinner homemade curry with japanese white noodles;tamago don lunch egg and vegetables cooked with sweet seasoned soy sauce over rice;tsukemono picked vegetables dinner;unagi sushi lunch barbecued eel pcs;udon sukiyaki dinner japanese white noodles and sukiyaki cooked with beef tofu and vegetables in a soy flavored broth;tempura and beef teriyaki dinner;tempura sashimi and gyoza lunch;salmon shioyaki lunch;tamagotoji lunch noodles with scrambled egg;udon yosenabe lunch simmered seafood and vegetables with japanese white noodles in a soup pot;spider roll soft shell crab;hamachi yellow tail;miso ramen dinner pork and vegetables over ramen in soybean broth;salmon nabe lunch thinly sliced salmon tofu vegetables and egg cooked in a soy flavored broth;miso soup with tofu wakame;donburi special i dinner beef tariyaki and tempura over rice;teriyaki don lunch sliced beef teriyaki over rice;tofu umani lunch cooked bean cake shrimp vegetables with beef gravy;sukiyaki lunch thinly sliced beef bamboo shoots tofu egg and vegetables cooked in a soy flavored broth;ginger yaki dinner sliced beef cooked with a shoga ginger seasoned sauce;ebi cooked shrimp;tempura and chicken teriyaki lunch;gyoza nabe dinner seasoned grounded pork wrapped in thin pastry cooked with vegetables in broth served with lemon flavored sauce;tanuki lunch noodles with fried dough;tempura sashimi and beef teriyaki dinner;tempura sashimi and chicken teriyaki lunch;rib eye teriyaki lunch;agedashi tofu lunch deep fried diced bean cake and vegetables served with a dipping sauce;tako octopus;squid tofu dinner cooked squid tofu vegetables with seasoned soy sauce;salmon nabe dinner thinly sliced salmon tofu vegetables and egg cooked in a soy flavored broth;katsu don lunch pork cutlets egg and vegetables cooked with sweet seasoned soy sauce over rice;tempura lunch deep fried prawns and vegetables;garlic chicken lunch broiled chicken with garlic seasoned sweet soy sauce;ten don dinner tempura with tempura sauce over rice;kamboko don lunch fish cake vegetables and egg with sweet seasoned soy sauce over rice;chirashi dinner assorted raw filet of fresh fish and egg omelette over rice bowl;seafood tempura lunch deep fried seafood and vegetables;philadelphia salmon cream cheese;sake salmon;tempura and sashimi dinner;donburi special ii dinner tekka don chicken teriyaki and tempura over rice;california roll;okame dinner noodles with fish cake;hokkigai surf clam;pork ginger yaki lunch sliced pork cooked with ginger seasoned sauce;chanko nabe lunch fish chicken vegetables and egg cooked in broth served with lemon flavored sauce;tamago don dinner egg and vegetables cooked with sweet seasoned soy sauce over rice;top sirloin teriyaki dinner;tonkatsu dinner deep fried pork cutlet;sake maki;saba shioyaki dinner;oyako don lunch chicken vegetables and egg cooked with sweet seasoned soy sauce over rice;mixed maki dinner california kappa tekka roll pcs;no name deep fried hamachi sake cucumber;salmon teriyaki lunch;natto soba lunch zaru soba with fermented soy soy bean;tekka don lunch sliced red tuna over rice bowl;pork ginger yaki dinner sliced pork cooked with ginger seasoned sauce;house green salad large;tempura and sashimi lunch;udon sukiyaki lunch japanese white noodles and sukiyaki cooked with beef tofu and vegetables in a soy flavored broth;fried oysters lunch;gomoku ramen lunch roast pork cooked egg fish cake spinach green onion over ramen in meat broth;saba mackerel nizakana lunch thinly sliced mackerel tofu and eggplants cooked in a special flavored broth;white tuna special lunch albacore sashimi tekka don;unagi roll eel avocado;katsu curry lunch homemade curry and deep fried pork cutlet with rice;special roll deep fried hamachi sake maguro;tororo zaru saba dinner zaru soba with japanese mountain potato;age dashi tofu deep fried tofu in com starch;pork teriyaki lunch;tempura combination dinner deep fried fish chicken prawns and vegetables;agedashi tofu dinner deep fried diced bean cake and vegetables served with a dipping sauce;tempura combination lunch deep fried fish chicken prawns and vegetables;ten don lunch tempura with tempura sauce over rice;tempura and beef teriyaki lunch;saba teriyaki dinner;chanko nabe dinner fish chicken vegetables and egg cooked in broth served with lemon flavored sauce;plain dinner;soft shell crab deep fried;zaru chucka lunch lettuce fish cake cooked egg roast pork cucumber on cold ramen with special sauce;top sirloin teriyaki lunch;house green salad small;tai red snapper;tiger roll ebi avocado;fried oyster;hamachi nigiri or sashimi lunch yellow tail pcs;takuwan pickled radish dinner;roast pork ramen dinner roast pork over ramen in meal broth;oshinko maki;fried oysters dinner;veggie nabe lunch mixed vegetables and tofu in a soup pot;hamachi don dinner sliced yellow tail over rice bowl;tempura sashimi and chicken teriyaki dinner;tempura and chicken teriyaki dinner;natto fermented soy bean with mustard;gyoza dinner seasoned ground pork wrapped in thin pastry;tsukimi dinner noodles with egg;avocado maki;tanuki dinner noodles with fried dough;okame lunch noodles with fish cake;ice cream green tea red bean;suno mono seafood cucumber with vinegar sauce;caterpillar roll unagi cucumber avocado;hirame halibut;futo maki egg crab vegetable;seafood nabe dinner assorted seafood tofu egg and vegetables cooked in broth served with lemon flavored sauce;nigiri sushi tuna roll sight assorted nigiri dinner;roast pork ramen lunch roast pork over ramen in meal broth;steamed rice dinner;oshi tashi spinach with vinegar sauce;sashimi lunch thinly sliced raw filet of tuna;tori nabe lunch chicken vegetables egg and soy bean cakes cooked in broth served with lemon flavored sauce;unajyu dinner barbecued eel served over rice;sanppo roll deep fried hamachi sake tobiko cucumber;gomoku ramen dinner roast pork cooked egg fish cake spinach green onion over ramen in meat broth;deluxe sashimi tuna yellow tail salmon halibut others dinner;san francisco roll crab avocado unagi;saba mackerel misoni dinner thinly sliced mackerel tofu and eggplants cooked in a soy flavored broth;raingoo roll maguro sake shiro maguro red snapper ebi unagi avocado crab;spicy sake roll;salmon teriyaki dinner;beef dinner noodles with beef;maguro special lunch red tuna sashimi sushi and tekka roll;gari pickled ginger dinner;saba negi mackerel w onion;miso soup tofu dinner;gyoza nabe lunch seasoned grounded pork wrapped in thin pastry cooked with vegetables in broth served with lemon flavored sauce;miss vivian roll shrimp tempura cucumber shrio maguro ponz sauce;tori nabe dinner chicken vegetables egg and soy bean cakes cooked in broth served with lemon flavored sauce;plain lunch;zaru soba dinner cold buckwheat noodle served with cold soba sauce;giant roll soft shell crab avocado cucumber crab unagi;wakame salad seaweed salad;kamboko don dinner fish cake vegetables and egg with sweet seasoned soy sauce over rice;nabeyaki dinner noodles with chicken tempura fish cake and vegetables;spicy tuna roll w vegetable;ika squid;island roll shrimp tempura cucumber crab sake avocado lemon;oyster nabe lunch oyster vegetables and egg cooked in broth served with lemon flavored sauce;dragon roll shrimp tempura avocado unagi crab ebi tobiko cucumber;ikura salmon roe;kappa cucumber maki;garlic chicken dinner broiled chicken with garlic seasoned sweet soy sauce;roast pork lunch pan fried roast pork with vegetables;shabu shabu dinner beef and vegetables cooked in broth served with a special dipping sauce;tonkatsu lunch deep fried pork cutlet;yaki soba dinner ramen noodles fried with meat and vegetables;miso ramen lunch pork and vegetables over ramen in soybean broth;alaska roll salmon avocado;gyoza lunch seasoned ground pork wrapped in thin pastry;yaki soba lunch ramen noodles fried with meat and vegetables;tempura zaru soba lunch zaru soba with deep fried prawns and vegetables;sanppo sashimi special a;sukiyaki don lunch sukiyaki over rice;tempura dinner noodles with tempura;broiled chicken teriyaki lunch;hamachi negi maki;nasu hasamiyaki dinner sliced beef japanese eggplant broiled with ginger seasoned sauce;tororo zaru saba lunch zaru soba with japanese mountain potato;sashimi dinner thinly sliced raw filet of tuna;saba mackerel nizakana dinner thinly sliced mackerel tofu and eggplants cooked in a special flavored broth;tsukimi lunch noodles with egg;tempura sashimi and beef teriyaki lunch;oyster teriyaki dinner;pork teriyaki dinner;deluxe sushi tuna roll pcs futomaki pcs assorted nigiri dinner;saba mackerel misoni lunch thinly sliced mackerel tofu and eggplants cooked in a soy flavored broth;vegetable tempura lunch deep fried sweet potato pumpkin broccoli mushroom others;hamachi don lunch sliced yellow tail over rice bowl;katsu don dinner pork cutlets egg and vegetables cooked with sweet seasoned soy sauce over rice;yaki tori;roast pork dinner pan fried roast pork with vegetables;maguro special dinner red tuna sashimi sushi and tekka roll;shoyu steak lunch mushroom butter soy sauce;tempura lunch noodles with tempura;spicy hamachi roll;unagi sushi dinner barbecued eel pcs;unaten roll shrimp tempura unagi;dynamite roll deep fried hamachi sake maguro tobiko ponz sauce;salmon skin roll;kitsune lunch noodles with fried bean cake;tofu umani dinner cooked bean cake shrimp vegetables with beef gravy;'ers roll sake avocado lemon;salmon shioyaki dinner;lion king roll crab avocado baked sake;union roll smoked sake avocado cream cheese;teriyaki don dinner sliced beef teriyaki over rice;rock n roll unagi cucumber avocado;sukiyaki dinner thinly sliced beef bamboo shoots tofu egg and vegetables cooked in a soy flavored broth;gogo roll shrimp tempura avocado cucumber crab tobiko;zaru chucka dinner lettuce fish cake cooked egg roast pork cucumber on cold ramen with special sauce;natto soba dinner zaru soba with fermented soy soy bean;tempura gyoza and beef teriyaki lunch;hamachi nigiri or sashimi dinner yellow tail pcs;donburi special ii lunch tekka don chicken teriyaki and tempura over rice;tekka don dinner sliced red tuna over rice bowl;gyoza home made pot sticker;beef curry dinner;oyster teriyaki lunch;shoyu steak dinner mushroom butter soy sauce;oyster nabe dinner oyster vegetables and egg cooked in broth served with lemon flavored sauce;beef curry lunch;chirashi lunch assorted raw filet of fresh fish and egg omelette over rice bowl;tempura deep fried prawns and vegetables;udon yosenabe dinner simmered seafood and vegetables with japanese white noodles in a soup pot;nabeyaki lunch noodles with chicken tempura fish cake and vegetables;sanppo sashimi special b;tempura gyoza and beef teriyaki dinner;tempura zaru soba dinner zaru soba with deep fried prawns and vegetables;sukiyaki don dinner sukiyaki over rice;california roll w tobiko;vegetable tempura dinner deep fried sweet potato pumpkin broccoli mushroom others;veggie nabe dinner mixed vegetables and tofu in a soup pot;saba shioyaki lunch;kani king crab legs;mixed maki lunch california kappa tekka roll pcs;sushi sashimi dinner;tamagotoji dinner noodles with scrambled egg;red white roll spicy tuna maguro shiro maguro;katsu curry dinner homemade curry and deep fried pork cutlet with rice;unagi water eel;seafood nabe lunch assorted seafood tofu egg and vegetables cooked in broth served with lemon flavored sauce\\n\",\n",
              "       'bin frittata artisan ham swiss cheese potatoes mixed greens;sweet corn fritters wildflower honey whipped butter;strawberry eclairs white chocolate mousse hazelnuts;grilled cheese on whole wheat fontina smoked mozzarella oven roasted tomatoes arugula basil mayo;beef brisket panini fontina oven roasted tomatoes arugula horseradish sauce items marked with served before pm;hot beef brisket sandwich creamy horseradish sauce slaw french fries;roasted wild mushroom panini fromage blanc gypsy peppers creamy smoked pepper dip;house made chicken sausage grilled summer squash basil pesto;bacon wrapped sea scallops summer melon herb salad balsamic;american artisan cheeses small house made crackers fruit and condiments items marked with served before pm;warm marinated olives items marked with served before pm;wild mushroom gypsy pepper panini fromage blanc creamy smoked pepper dip items marked with served before pm;grilled summer squash goat cheese basil pesto breadcrumbs;lemon pound cake organic blackberries;fennel rubbed roasted pork swiss panini whole grain mustard pickles;house made duck sausage potato fig salad whole grain mustard;country pork spareribs peach jalape o barbeque sauce;heirloom tomatoes cucumbers goat cheese arugula red wine vinaigrette;bin mixed nuts items marked with served before pm;little green salad nectarines fresh ricotta sunflower seeds sauvignon blanc vinaigrette items marked with served before pm;american artisan cheeses large house made crackers fruit and condiments items marked with served before pm;old fashioned chocolate pudding whipped cream shortbread cookies;washugyu kobe flank steak roasted gypsy peppers onions herb butter;steamed mussels early girl tomato sauce basil chili oil grilled croutons;lamb meatballs eggplant salad green tomato sauce;french fries cucumber yogurt dip herb mayonnaise heinz items marked with served before pm;grilled chicken salad avocado corn cherry tomato organic little gem lettuce buttermilk dressing;grilled eggplant cherry tomatoes fennel meyer lemon oil grilled bread;avocado corn cherry tomato salad organic little gem lettuce buttermilk dressing;baked feta feta strawberry onion jam crostini items marked with served before pm;washington mussels early girl tomato sauce basil chili oil grilled croutons;grilled albacore tuna fresh shell beans marinated green beans spicy cayenne pepper sauce;french fries cucumber yogurt dip spicy avocado puree heinz\\n',\n",
              "       \"thai sticky rice;papaya salad green papaya tomatoes carrots baby shrimp and cashews with spicy lime juice;duck tamarind crispy duck topped with tamarind sauce cashew nuts and fried onions;duck with peanut sauce crispy duck topped with peanut sauce on a bed of steamed broccoli;basil salmon fillet of salmon served with chef's thai chili sauce;mango salad with tomatoes cucumber onion and a spicy lime juice dressing;spicy avocado salad with tomatoes cucumber onion and a spicy lime juice dressing;pad thai noodles thai noodles stir fried with your choice of jumbo shrimp chicken or vegetables and served with bean curd egg bean sprouts and scallions;kwaytio kee mao noodles broad rice noodles sauteed with chili sweet soy sauce basil tomatoes and bean sprouts;cucumber salad topped with ground peanuts;panang curry choice of meat or vegetables mixed with coconut milk basil and pepper;garlic shrimp sauteed grilled shrimp with garlic peppers onions and bamboo shoots;golden soft shell crab with curry sauce soft shell crab topped with red curry young peppercorn bell pepper and basil;gai ta krai chicken breast marinated with lemongrass grilled and served over a bed of braised onions shiitake mushrooms and sweet basil with a black bean sauce;broccoli with thai basil sauteed with baby corn thai basil and chili paste;sweet and sour chicken sauteed chicken with onions tomatoes peppers cucumbers and pinapple;bean curd sheets shiitake mushrooms bamboo shoots and bean curd wrapped with bean curd skin and served on a bed on spinach topped with basil black bean sauce;house soup chicken with vegetables;singapore noodles glass noodles with chicken shrimp onions green and red peppers and curry powder;jasmine white rice;pad roum mitt sauteed mixed vegetables and bean curd with a light brown sauce;thai salad cucumber lettuce tomatoes bean sprouts and bean curd with our famous thai peanut dressing;tom yum gung soup hot and sour lemongrass broth with shrimp bell peppers and mushrooms;thai pineapple fried rice choice of chicken beef shrimp or vegetable cashew nuts onions tomatoes carrots green peas and pineapple;nua pad puk grilled pepper steak topped with sauteed onions and chef's sauce;yum nua salad grilled sliced beef with onions tomatoes lettuce and thai herbs marinated in spicy lime juice sauce;shrimp roll served with plum chili sauce;seafood extravaganza scallops shrimp and calamari in a spicy chili oil with black bean sauce;coconut cup cake;satay appetizer grilled chicken or beef in skewers served with peanut sauce and sour sauce;pad woosen noodles sti fried glass noodles with chicken and shrimp in thick sweet soy sauce;duck basil braised with garlic chili paste and fresh basil leaves;gai pad khing stir fried julienned ginger tree ear yellow beans onions pepper and oyster sauce;pad see yu noodles stir fried broad rice noodles chinese broccoli and egg with chicken or beef in thai style;eggplant with sweet basil sauteed with tofu garlic and chili paste;brown rice;goong malay red curry spicy red curry with shrimp scallops calamari string beans pineapple and coconut milk;mango salmon seared fillet of salmon topped with fresh mango onions cashew nuts tomatoes and lime juice;steamed vegetable dumpling appetizer pcs;hoy jow appetizer crab roll minced crab meat and a cuttle fish wrapped with tofu paper;massaman curry choice of chicken or beef mixed with coconut milk tamarind juice potatoes and peanuts;string beans sauteed with soybeans garlic and bean curd;vegetable soup tomatoes baby corn tree ear mushrooms sour vegetables and egg whites;shrimp with cashew nuts sauteed shrimp with peppers dried chilies onions mushrooms and cashew nuts;lemongrass shrimp thai style stir fried shrimp with fresh lemongrass onions pepper and lime juice;lemongrass beef thai style stir fried beef with fresh lemongrass onions peppers and lime juice;po pia taud appetizer spring roll pieces filled with bamboo shoots cabbage and carrots with thai sweet and sour sauce;gai pad bai ga prow thai style spicy chicken with fresh sweet basil pepper and thai chili sauce;peanut chicken sauteed breast of chicken on steamed broccoli with peanut sauce;mango sticky rice;lad nar noodles chinese broccoli broad rice noodles and your choice of chicken or beef gravy;spicy mint fried rice chili garlic onions and fresh mint with choice of chicken or beef;gaeng khiao wan curry green curry with chicken basil eggplant pepper and coconut milk;mango chicken mango tomatoes scallions and pink onions;seafood salad salad with shrimp or squid mint leaves and lime juice;fried tofu appetizer deep fried tofu or tora with sweet chili sauce;gai pad prik king stir fried chicken with string beans chili paste soy beans and basil;thai coconut noodles thai glass noodles stir fried with fresh coconut milk shrimp chicken and vegetables;red curry duck crispy duck topped with carrots broccoli ginger and garlic;gai ka na sauteed chicken with chinese broccoli and baby corn;lemongrass pork chop grilled thin slices of pork chops marinated with lemongrass galangal garlic and lime juice;fried calamari appetizer deep fried calamari with sweet chili sauce;fish cake appetizer pcs;grilled seared salmon coated with thai spices with a sauce of soy bean garlic ginger and chili on a sizzling platter;nasi goreng bali indonesian fried rice with chicken and shrimp topped with an egg sunny side up;gai tom kha soup coconut milk soup with thai style chicken lime juice and mushrooms;nua nam mun hoy stir fried beef with black beans oyster sauce mushrooms scallions and ginger;ice cream vanilla or green tea;gai pad prik haeng stir fried chicken with cashews pepper dried chili mushrooms and bamboo shoots;summer roll appetizer pcs;fried banana banana wrapped in spring roll skin and topped with honey and sesame seeds;avocado curry green curry with choice of tofu or meat\\n\",\n",
              "       ...,\n",
              "       \"vinegar braised chicken w figs bacon anson mills girts brussels sprouts;crab latke w lemon capers joe's mustard sauce;sea scallops w local cauliflower raisins and capers fried bread romesco;shellfish cioppino w spicy tomatoes fennel garden herbs and grilled bread;spice crusted tuna w grilled romaine roasted olives hard cooked egg banana cauda;pan roasted skate w maine lobster chowder vegetables and sauce americaine;grilled flatbread w sopressata pepper hash pecorino fried egg;supper burger brisket ground in house daily w bacon gruyere caramelized onions roasted tomato duck fat fingerlings;crispy squid w sichuan sausage sambal;bosteon bibb and herb salad w honeycrisp apples bacon cornbread buttermilk dressing;slow cooked pork belly w warm fingerling and green bean salad bacon dressing apple chutney;duck and waffles crispy confit duck leg w pecan sage waffle braised red cabbage maple bourbon jus;moroccan lamb ribs w smoked eggplant yogurt apricot chutney mint;smoked butternut squash soup w cinnamon marshmallow apples sage;beef short rib osso buco style w creamy saffron cous cous marrow butter gremolata;crispy rabbit schnitzel w shaved autumn vegetables grain mustard sage;cheese full board our daily selection w preserves house baked crackers;strozzapreti pasta w shaved brussels sprouts leeks hazelnuts sage brown butter;farmhouse platter a sampling og both;duck fat fingerlings w truffle mayo;cheese cheese our daily selection w preserves house baked crackers;deviled eggs of the day;warm acorn squash and leek salad w clothbound cheddar spicy walnuts dried cranberries;striped bass w pennsylvania mushroom hash braised chard limoncello vinaigrette;smoked chicken wings w birch beer black pepper buttermilk;roasted marrow bones w shallot marmalade parsley salad sea salt lemon toasts\\n\",\n",
              "       'sorbets strawberry lychee grapefruit compari;napoleon marsala sabayon peaches almond millefeiulle;doubleshot espresso tiramisu mascarpone cocoa kahlua amaretto;prime rib burger with shoestring fries;grilled cheese with shoestring fries;creme brulee pastry chef s daily creation;chicken fingers;oodles of noodles pasta tossed in butter parmesan;cardamom carrot cake crystallized ginger walnuts creme fraiche;flourless chocolate cake bailey s dark chocolate mousse hazelnut gelato;flatbread pizza with tomato sauce and mozzarella;lemon goat cheese cheesecake blueberry compote candied lemon zest\\n',\n",
              "       \"meat combo pizza pepperoni sausage and ground beef;pasta with grilled chicken and broccoli;fried calamari;spinach fresh tomato and fresh garlic pizza;burger deluxe served on sesame bun with pickles lettuce tomato and fries;fresh mozzarella and tomato cold hero;eggs and peppers hot hero;homemade vegetable lasagna veggie;chicken with broccoli pizza;linguini with clam sauce served with italian bread;chicken cutlet cold heros;calzone with chicken white meat;belmora special cold hero ham salami pepperoni mozzarella and american cheese;homemade baked ziti with melted mozzarella and ricotta;pasta with spinach olive oil and fresh garlic;ricotta pizza with eggplant;shrimp parmigiana;meatball hot hero popular;belmora special with everything pizza;ricotta pizza with spinach;fried eggplant hot hero;garlic knots;ricotta pizza with broccoli;eggplant parmigiana;meat roll;sausage and pepper and onion hot hero;antipasto;chicken cutlet hot hero;sausage and peppers parmigiana;fresh mozzarella salad;ravioli;fried mushrooms;mixed green salad with individual tuna;veal cutlet hot hero;fried zucchini sticks;garlic bread;'' belmora personal pie;garlic bread with mozzarella;greek salad;chicken parmigiana;pasta with sausage;stromboli mozzarella ricotta ground beef pepperoni and sausage;caesar salad;eggplant rollatini;chicken pizza;veal and pepper hot hero;green salads small;french fries;diet vegetable pizza veggie;baked ziti siciliana;onion rings;ham and cheese cold heros;'' regular cheese pizza;mozzarella sticks;chicken with buffalo sauce pizza;pasta with broccoli olive oil and fresh garlic;belmora sicilian special with everything;veal parmigiana;pasta with meatballs popular;sausage hot hero;double crust stuffed pie;stuffed shells;pasta with italian tomato sauce;chicken fingers and fries;fried shrimp hot hero;grilled chicken over greek salad;manicotti;chicken nuggets and fries;'' sicilian cheese pizza;grilled chicken cold heros;side of meatballs;vegetable roll veggie;diet cheese pizza;grilled chicken over mixed green salad;pasta with bolognese;green salads large;pasta pie ziti;pasta with olive oil and fresh garlic;chicken with mushroom pizza popular;buffalo wings and fries;grilled chicken over caesar salad;vegetable special pizza veggie;cheese calzone mozzarella and ricotta and parmesan;homemade meat lasagna;pepper steak hot hero;chicken mushroom;side of sausage\"],\n",
              "      dtype=object)"
            ]
          },
          "metadata": {
            "tags": []
          },
          "execution_count": 11
        }
      ]
    },
    {
      "cell_type": "markdown",
      "metadata": {
        "id": "7FdDFvRKv7Lw"
      },
      "source": [
        "### Only use text column"
      ]
    },
    {
      "cell_type": "code",
      "metadata": {
        "id": "i4HMwhIZ0HV4",
        "colab": {
          "base_uri": "https://localhost:8080/",
          "height": 72
        },
        "outputId": "4b9791b9-681d-44db-c1a3-e18c3b1089ca"
      },
      "source": [
        "dls = TextDataLoaders.from_df(train_df, path='/content', text_col=4, label_col=0)"
      ],
      "execution_count": 12,
      "outputs": [
        {
          "output_type": "display_data",
          "data": {
            "text/html": [
              ""
            ],
            "text/plain": [
              "<IPython.core.display.HTML object>"
            ]
          },
          "metadata": {
            "tags": []
          }
        },
        {
          "output_type": "stream",
          "text": [
            "/usr/local/lib/python3.7/dist-packages/numpy/core/_asarray.py:83: VisibleDeprecationWarning: Creating an ndarray from ragged nested sequences (which is a list-or-tuple of lists-or-tuples-or ndarrays with different lengths or shapes) is deprecated. If you meant to do this, you must specify 'dtype=object' when creating the ndarray\n",
            "  return array(a, dtype, copy=False, order=order)\n"
          ],
          "name": "stderr"
        }
      ]
    },
    {
      "cell_type": "code",
      "metadata": {
        "id": "jJnfFCGHv_kz",
        "colab": {
          "base_uri": "https://localhost:8080/",
          "height": 871
        },
        "outputId": "45ea37b4-26cd-47fb-bc8f-a1fe9b9752b0"
      },
      "source": [
        "dls.show_batch()"
      ],
      "execution_count": 12,
      "outputs": [
        {
          "output_type": "display_data",
          "data": {
            "text/html": [
              "<table border=\"1\" class=\"dataframe\">\n",
              "  <thead>\n",
              "    <tr style=\"text-align: right;\">\n",
              "      <th></th>\n",
              "      <th>text</th>\n",
              "      <th>category</th>\n",
              "    </tr>\n",
              "  </thead>\n",
              "  <tbody>\n",
              "    <tr>\n",
              "      <th>0</th>\n",
              "      <td>xxbos california 's with angel hair with marinara sauce sauteed fresh tomatoes fresh basil in a marinara sauce;chicken sundried tomatoes wrap grilled chicken sundried tomatoes lettuce tomatoes and vinaigrette;sausage roll italian sweet sausage peppers onions cheese;garlic burger lb sandwich burger topped w black olivers and fresh garlic;baked ziti ziti ricotta cheese marinara sauce melted mozzarella cheese;spinach alfredo pizza medium cheese ricotta cheese garlic and spinach no xxunk sticks group order full tray people served w marinara sauce individual sm in plate for group order half tray people for group order full tray people xxunk grilled chicken individual order sm xxunk fresh mozzarella pizza with a touch of red sauce;veal hero deep fried in veggie oil served with lettuce tomatoes and vinaigrette on a hero;fried xxunk parmigiana individual order w xxunk extra regular topping xxunk burger with cheese deluxe carrots green beans sweet peas yellow onions canola oil wheat xxunk salad</td>\n",
              "      <td>$</td>\n",
              "    </tr>\n",
              "    <tr>\n",
              "      <th>1</th>\n",
              "      <td>xxbos hearty veg minestrone bowl;garden pizza sm fresh vegetables with red sauce or white sauce for an au gratin effect with regular or whole wheat xxunk chicken steak sandwich with deluxe xxunk chicken xxunk jack cheese xxunk parmigiana with xxunk joe pizza ind chili chopped beef hot dogs onions green peppers grated cheese;florentine pizza sm spinach feta cheese with grated cheese mozzarella;pesto pizza pesto sauce with corn vine ripe yellow red tomatoes fresh mozzarella in xxunk pizza sm chili con carne onions green peppers green cheese;lamb gyro lettuce tomato onion feta cucumber in pita honey mustard sauce with chicken tsatsiki with lamb also piaz salad chick peas beans beets or todays soup xxunk deluxe crabcake burger with lobster sauce with real maryland xxunk nick angus burger with melted swiss cheese fried mushrooms carmelized onions and fresh tomato on grilled thick challah bread served with seasoned waffle xxunk play sandwich three</td>\n",
              "      <td>$$</td>\n",
              "    </tr>\n",
              "    <tr>\n",
              "      <th>2</th>\n",
              "      <td>xxbos mediterranean plate tuscan white bean hummus feta topped with extra virgin olive oil and a greek salad served with traditional pizza pita bread;sesame ginger chicken dumplings sesame ginger chicken inside delicate wonton xxunk with a mild soy ginger chili sauce topped with toasted sesame seeds and xxunk wraps with chicken minced chicken and shrimp wok seared with shitake mushrooms water chestnuts green onions in a soy ginger sauce served on a bed of crispy rice noodles with a side of spicy chili ginger sauce;herb onion focaccia with checca italian xxunk herb onion pizza bread hearth baked and served with a combination of fresh roma tomatos basil garlic and extra virgin olive xxunk bbq steak tacos korean steak napa cabbage romaine onions scallions and cilantro served with corn tortillas spicy chili sauce and sesame xxunk spring rolls choose any two flour tortilla sprinkled with herbs and baked in our pizza</td>\n",
              "      <td>$$</td>\n",
              "    </tr>\n",
              "    <tr>\n",
              "      <th>3</th>\n",
              "      <td>xxbos the continental breakfast fresh baked bagels pastries and croissants served with cream cheese spread butter and preserves plus orange juice and coffee xxunk octopus sushi;vegetable lover wrap platters x large;pasta with veal cutlet xxunk strips served with fries and choice of salad or cole xxunk your own pizza large;homemade cheeseburger plate served with fries onion rings and cole xxunk ga chicken noodle soup large noodle soup with natural chicken broth and shredded chicken xxunk lover wrap platter large;beef with lobster sauce small;tuna xxunk maki pcs soft shell crab avocado cucumber and xxunk tai gan sach noodle soup x large noodle soup with eye round steak soft tendons and beef xxunk parmigiana pasta xxunk goo gai pan xxunk gau beef;pho chin nam noodle soup large noodle soup with well done eye round xxunk chien hai san prepared with shrimp crab meat squid and fish cake;bun chao tom nem nuong grilled</td>\n",
              "      <td>$$$</td>\n",
              "    </tr>\n",
              "    <tr>\n",
              "      <th>4</th>\n",
              "      <td>xxbos the chi town tasting plate buffalo wings crispy cheese dippers onion strings chicken thumbs and fries with three dipping sauces all natural marinara bleu cheese and tamarind xxunk shrimp sirloin a certified angus beef half pound of top sirloin and five skewered shrimp basted in a basil and garlic marinade served with a breadstick and two sides add a side salad for an additional xxunk hot chocolate brownie sundae;roasted red pepper chicken deep dish xxunk scampi platter shrimp garlic plum tomatoes scampi sauce vermicelli and xxunk foster four scoops of vanilla ice cream covered with a sauce of banana rum and brown xxunk chicken deep dish xxunk nachos tortilla chips tomato salsa beef chili cheddar mozzarella jalapeos and sour cream add gaucamole for an additional charge;bbq chicken chicken breast mozzarella red onions and a citrus bbq sauce;oz usda choice topped sirloin steak with wowza sauce wowza sauce infused with</td>\n",
              "      <td>$$</td>\n",
              "    </tr>\n",
              "    <tr>\n",
              "      <th>5</th>\n",
              "      <td>xxbos forest curry with vegetables with green bean bamboo shoot basil pepper thai xxunk vegetable with mussels with garlic and soy bean sauce;pad kana with soft shell crab saute with chinese broccoli in soybean sauce;pineapple fried rice with shrimp fried rice with pineapple onion tomato;pad kana with squid saute with chinese broccoli in soybean sauce;forest curry with mixed seafood with green bean bamboo shoot basil pepper thai herb;pad preaw wan with duck saute with mix vegetables and pineapple in sweet and sour sauce;tom kha with vegetable s coconut milk soup with lemongrass thai herbs and cilantro;pad kana with tofu saute with chinese broccoli in soybean sauce;pineapple fried rice with mixed seafood with onion tomato pineapple;green curry with vegetarian duck in coconut milk with bamboo shoot pepper eggplant;pad kao pod with pork saute with baby corn onion scallion mushroom pepper;pad gra prow with mussels saute with basil onion pepper scallion bokchoy</td>\n",
              "      <td>$</td>\n",
              "    </tr>\n",
              "    <tr>\n",
              "      <th>6</th>\n",
              "      <td>xxbos breadsticks pc breadsticks baked to golden brown includes marinara sauce for dipping;cheese pizza sm;buffalo chicken xl;buffalo chicken xxunk feast sm a mouthwatering combination of spicy pepperoni italian sausage green peppers fresh mushrooms onions and cheese;italian pepperoni salami ham topped with banana peppers green peppers onions provolone cheese;italian sausage marinara in a breadbowl penne pasta tossed with a meaty italian sausage smothered in zesty marinara sauce and topped with provolone cheese;italian sausage and peppers sliced italian sausage roasted red peppers green peppers banana peppers onions provolone cheese and tomato basil xxunk sticks breadsticks sprinkled with cinnamon sugar includes sweet vanilla xxunk sausage peppers sliced italian sausage roasted red peppers green peppers banana peppers onions provolone cheese and tomato basil marinara all on our artisan italian bread and baked to a golden xxunk bbq chicken small tender chicken breast bbq sauce and onions with provolone and cheddar cheeses on a cheddar</td>\n",
              "      <td>$</td>\n",
              "    </tr>\n",
              "    <tr>\n",
              "      <th>7</th>\n",
              "      <td>xxbos walnut shrimps battered then fried jumbo shrimps topped with spicy mayo and honey glazed walnuts served with steamed broccoli on crunchy noodles;happy family lunch a combination of scallops shrimps beef pork and chicken stir fried with veggies in brown sauce;sesame chicken lunch white meat battered fried and then stir fried with our sesame sauce served with xxunk pho lunch our version of vietnamese combo beef noodle soup served with bean sprouts basils and lemon;lobster sashimi lobster sashimi with no rice with lobster miso xxunk makimono regular sushi rolls or six pieces per roll available as temaki hand roll for the same price shrimps cucumber tobiko and spicy xxunk salmon lunch california maki topped with fresh salmon then blazed in our miso sauce by strong fire topped with caviar and scallions served with a blazed fish xxunk squid scallop crabmeat mushrooms and mayo baked then poured onto california maki finished</td>\n",
              "      <td>$$</td>\n",
              "    </tr>\n",
              "    <tr>\n",
              "      <th>8</th>\n",
              "      <td>xxbos saigon black pepper beef stir fried with black pepper asparagus and fresh japanese mushroom;grilled striped bass whole striped bass grilled with a spicy shrimp paste sauce wrapped in banana leaves;bangkok sweet basil shrimp or scallop with fresh mushrooms carrot sweet peas yellow squash and xxunk poh piah fried vegetarian spring roll served with hot sauce;ikan merah special ex xxunk choice red snapper filet quick fried and smothered in a spicy lemongrass shrimp sauce;malaysian honey ribs marinated spareribs in a special sauce;ayam basil sauteed chicken breast with basil leaves mushroom carrots snow peas and baby xxunk pancake famous penang crispy pancakes stuffed with ground peanuts crispy outside moist xxunk duck slices of duck sauteed with asparagus and mushrooms in a light brown garlic xxunk lemak choice of shrimp beef or chicken with green and red peppers onions carrots dried red chilis and ginger in a spicy aromatic chili xxunk shell</td>\n",
              "      <td>$$</td>\n",
              "    </tr>\n",
              "  </tbody>\n",
              "</table>"
            ],
            "text/plain": [
              "<IPython.core.display.HTML object>"
            ]
          },
          "metadata": {
            "tags": []
          }
        }
      ]
    },
    {
      "cell_type": "code",
      "metadata": {
        "id": "vl5hH4Dg4bTA"
      },
      "source": [
        "??accuracy"
      ],
      "execution_count": 16,
      "outputs": []
    },
    {
      "cell_type": "code",
      "metadata": {
        "id": "aKtd7RKEwAqP",
        "colab": {
          "base_uri": "https://localhost:8080/",
          "height": 17
        },
        "outputId": "181f313d-faf4-4cf2-84f2-54dff0b68301"
      },
      "source": [
        "learn = text_classifier_learner(dls, AWD_LSTM, drop_mult=0.5, metrics=accuracy)"
      ],
      "execution_count": 13,
      "outputs": [
        {
          "output_type": "display_data",
          "data": {
            "text/html": [
              ""
            ],
            "text/plain": [
              "<IPython.core.display.HTML object>"
            ]
          },
          "metadata": {
            "tags": []
          }
        }
      ]
    },
    {
      "cell_type": "code",
      "metadata": {
        "id": "zJ2-M48qwNaU",
        "colab": {
          "base_uri": "https://localhost:8080/",
          "height": 229
        },
        "outputId": "63fa9ac4-73a5-4e47-91fd-cecfb5868864"
      },
      "source": [
        "learn.fine_tune(4, 1e-2)"
      ],
      "execution_count": 14,
      "outputs": [
        {
          "output_type": "display_data",
          "data": {
            "text/html": [
              "<table border=\"1\" class=\"dataframe\">\n",
              "  <thead>\n",
              "    <tr style=\"text-align: left;\">\n",
              "      <th>epoch</th>\n",
              "      <th>train_loss</th>\n",
              "      <th>valid_loss</th>\n",
              "      <th>accuracy</th>\n",
              "      <th>time</th>\n",
              "    </tr>\n",
              "  </thead>\n",
              "  <tbody>\n",
              "    <tr>\n",
              "      <td>0</td>\n",
              "      <td>1.211792</td>\n",
              "      <td>1.036851</td>\n",
              "      <td>0.580247</td>\n",
              "      <td>00:19</td>\n",
              "    </tr>\n",
              "  </tbody>\n",
              "</table>"
            ],
            "text/plain": [
              "<IPython.core.display.HTML object>"
            ]
          },
          "metadata": {
            "tags": []
          }
        },
        {
          "output_type": "display_data",
          "data": {
            "text/html": [
              "<table border=\"1\" class=\"dataframe\">\n",
              "  <thead>\n",
              "    <tr style=\"text-align: left;\">\n",
              "      <th>epoch</th>\n",
              "      <th>train_loss</th>\n",
              "      <th>valid_loss</th>\n",
              "      <th>accuracy</th>\n",
              "      <th>time</th>\n",
              "    </tr>\n",
              "  </thead>\n",
              "  <tbody>\n",
              "    <tr>\n",
              "      <td>0</td>\n",
              "      <td>0.948418</td>\n",
              "      <td>1.016564</td>\n",
              "      <td>0.600823</td>\n",
              "      <td>00:39</td>\n",
              "    </tr>\n",
              "    <tr>\n",
              "      <td>1</td>\n",
              "      <td>0.872113</td>\n",
              "      <td>0.960301</td>\n",
              "      <td>0.618313</td>\n",
              "      <td>00:39</td>\n",
              "    </tr>\n",
              "    <tr>\n",
              "      <td>2</td>\n",
              "      <td>0.784860</td>\n",
              "      <td>0.878018</td>\n",
              "      <td>0.652263</td>\n",
              "      <td>00:39</td>\n",
              "    </tr>\n",
              "    <tr>\n",
              "      <td>3</td>\n",
              "      <td>0.709740</td>\n",
              "      <td>0.913991</td>\n",
              "      <td>0.637860</td>\n",
              "      <td>00:39</td>\n",
              "    </tr>\n",
              "  </tbody>\n",
              "</table>"
            ],
            "text/plain": [
              "<IPython.core.display.HTML object>"
            ]
          },
          "metadata": {
            "tags": []
          }
        }
      ]
    },
    {
      "cell_type": "markdown",
      "metadata": {
        "id": "749s1ro44MbN"
      },
      "source": [
        "### Add restaurants name & region"
      ]
    },
    {
      "cell_type": "code",
      "metadata": {
        "id": "STIFnLJj5bf2"
      },
      "source": [
        "dls = TextDataLoaders.from_df(train_df, path='/content', text_col=[1,2,3,4], label_col=0)"
      ],
      "execution_count": null,
      "outputs": []
    },
    {
      "cell_type": "code",
      "metadata": {
        "colab": {
          "base_uri": "https://localhost:8080/",
          "height": 836
        },
        "id": "TVtFbFHe7NOO",
        "outputId": "41554263-fa83-46be-90c1-24fe5a96fe53"
      },
      "source": [
        "dls.show_batch()"
      ],
      "execution_count": 13,
      "outputs": [
        {
          "output_type": "display_data",
          "data": {
            "text/html": [
              "<table border=\"1\" class=\"dataframe\">\n",
              "  <thead>\n",
              "    <tr style=\"text-align: right;\">\n",
              "      <th></th>\n",
              "      <th>text</th>\n",
              "      <th>category</th>\n",
              "    </tr>\n",
              "  </thead>\n",
              "  <tbody>\n",
              "    <tr>\n",
              "      <th>0</th>\n",
              "      <td>xxbos xxfld 1 xxmaj xxunk xxfld 2 pizza xxfld 3 nyc xxfld 4 california 's with angel hair with marinara sauce sauteed fresh tomatoes fresh basil in a marinara sauce;chicken sundried tomatoes wrap grilled chicken sundried tomatoes lettuce tomatoes and vinaigrette;sausage roll italian sweet sausage peppers onions cheese;garlic burger lb sandwich burger topped w black olivers and fresh garlic;baked ziti ziti ricotta cheese marinara sauce melted mozzarella cheese;spinach alfredo pizza medium cheese ricotta cheese garlic and spinach no xxunk sticks group order full tray people served w marinara sauce individual sm in plate for group order half tray people for group order full tray people xxunk grilled chicken individual order sm xxunk fresh mozzarella pizza with a touch of red sauce;veal hero deep fried in veggie oil served with lettuce tomatoes and vinaigrette on a hero;fried xxunk parmigiana individual order w xxunk extra regular topping xxunk burger with cheese deluxe</td>\n",
              "      <td>$</td>\n",
              "    </tr>\n",
              "    <tr>\n",
              "      <th>1</th>\n",
              "      <td>xxbos xxfld 1 xxup xxunk xxmaj express xxfld 2 pizza xxfld 3 boston xxfld 4 the continental breakfast fresh baked bagels pastries and croissants served with cream cheese spread butter and preserves plus orange juice and coffee xxunk octopus sushi;vegetable lover wrap platters x large;pasta with veal cutlet xxunk strips served with fries and choice of salad or cole xxunk your own pizza large;homemade cheeseburger plate served with fries onion rings and cole xxunk ga chicken noodle soup large noodle soup with natural chicken broth and shredded chicken xxunk lover wrap platter large;beef with lobster sauce small;tuna xxunk maki pcs soft shell crab avocado cucumber and xxunk tai gan sach noodle soup x large noodle soup with eye round steak soft tendons and beef xxunk parmigiana pasta xxunk goo gai pan xxunk gau beef;pho chin nam noodle soup large noodle soup with well done eye round xxunk chien hai san</td>\n",
              "      <td>$$$</td>\n",
              "    </tr>\n",
              "    <tr>\n",
              "      <th>2</th>\n",
              "      <td>xxbos xxfld 1 xxmaj domino 's xxmaj pizza xxfld 2 pizza xxfld 3 nyc xxfld 4 breadsticks pc breadsticks baked to golden brown includes marinara sauce for dipping;cheese pizza sm;buffalo chicken xl;buffalo chicken xxunk feast sm a mouthwatering combination of spicy pepperoni italian sausage green peppers fresh mushrooms onions and cheese;italian pepperoni salami ham topped with banana peppers green peppers onions provolone cheese;italian sausage marinara in a breadbowl penne pasta tossed with a meaty italian sausage smothered in zesty marinara sauce and topped with provolone cheese;italian sausage and peppers sliced italian sausage roasted red peppers green peppers banana peppers onions provolone cheese and tomato basil xxunk sticks breadsticks sprinkled with cinnamon sugar includes sweet vanilla xxunk sausage peppers sliced italian sausage roasted red peppers green peppers banana peppers onions provolone cheese and tomato basil marinara all on our artisan italian bread and baked to a golden xxunk bbq chicken small</td>\n",
              "      <td>$</td>\n",
              "    </tr>\n",
              "    <tr>\n",
              "      <th>3</th>\n",
              "      <td>xxbos xxfld 1 xxmaj typhoon xxmaj asian xxmaj bistro xxfld 2 sushi bars xxfld 3 boston xxfld 4 walnut shrimps battered then fried jumbo shrimps topped with spicy mayo and honey glazed walnuts served with steamed broccoli on crunchy noodles;happy family lunch a combination of scallops shrimps beef pork and chicken stir fried with veggies in brown sauce;sesame chicken lunch white meat battered fried and then stir fried with our sesame sauce served with xxunk pho lunch our version of vietnamese combo beef noodle soup served with bean sprouts basils and lemon;lobster sashimi lobster sashimi with no rice with lobster miso xxunk makimono regular sushi rolls or six pieces per roll available as temaki hand roll for the same price shrimps cucumber tobiko and spicy xxunk salmon lunch california maki topped with fresh salmon then blazed in our miso sauce by strong fire topped with caviar and scallions served with</td>\n",
              "      <td>$$</td>\n",
              "    </tr>\n",
              "    <tr>\n",
              "      <th>4</th>\n",
              "      <td>xxbos xxfld 1 xxmaj penang xxfld 2 otherasian xxfld 3 nyc xxfld 4 saigon black pepper beef stir fried with black pepper asparagus and fresh japanese mushroom;grilled striped bass whole striped bass grilled with a spicy shrimp paste sauce wrapped in banana leaves;bangkok sweet basil shrimp or scallop with fresh mushrooms carrot sweet peas yellow squash and xxunk poh piah fried vegetarian spring roll served with hot sauce;ikan merah special ex xxunk choice red snapper filet quick fried and smothered in a spicy lemongrass shrimp sauce;malaysian honey ribs marinated spareribs in a special sauce;ayam basil sauteed chicken breast with basil leaves mushroom carrots snow peas and baby xxunk pancake famous penang crispy pancakes stuffed with ground peanuts crispy outside moist xxunk duck slices of duck sauteed with asparagus and mushrooms in a light brown garlic xxunk lemak choice of shrimp beef or chicken with green and red peppers onions carrots</td>\n",
              "      <td>$$</td>\n",
              "    </tr>\n",
              "    <tr>\n",
              "      <th>5</th>\n",
              "      <td>xxbos xxfld 1 xxmaj mama ' xxmaj mexico xxmaj restaurant &amp; xxmaj bar xxfld 2 mexican xxfld 3 nyc xxfld 4 filete pancho villa guajillo chile ribbed grilled filet mignon topped with molcajete sauce smashed spicy roasted tomatoes and melted cheese served over a flat crispy tostada with a guajillo chile sauce grilled cactus served with black beans and rice;paella a la mexicana seafood combination with half a lobster mussels clams shrimp scallops calamari red snapper and salmon with a light guajillo chile sauce and vegetables served over rice;fajita del mar marinated grilled salmon and red snapper onions peppers tomatoes and zucchini served with refried beans rice and flour tortillas on the side;camarones a la brasa grilled prawns marinated with a guajillo chile sauce served overflowing in a coconut shell filled with mesclun baby greens rice and beans on the side;enchiladas de pato soft corn tortillas rolled with shredded duck</td>\n",
              "      <td>$$</td>\n",
              "    </tr>\n",
              "    <tr>\n",
              "      <th>6</th>\n",
              "      <td>xxbos xxfld 1 xxmaj mama xxmaj mexico xxfld 2 mexican xxfld 3 nyc xxfld 4 filete pancho villa guajillo chile ribbed grilled filet mignon topped with molcajete sauce smashed spicy roasted tomatoes and melted cheese served over a flat crispy tostada with a guajillo chile sauce grilled cactus served with black beans and rice;paella a la mexicana seafood combination with half a lobster mussels clams shrimp scallops calamari red snapper and salmon with a light guajillo chile sauce and vegetables served over rice;fajita del mar marinated grilled salmon and red snapper onions peppers tomatoes and zucchini served with refried beans rice and flour tortillas on the side;camarones a la brasa grilled prawns marinated with a guajillo chile sauce served overflowing in a coconut shell filled with mesclun baby greens rice and beans on the side;enchiladas de pato soft corn tortillas rolled with shredded duck and green sauce topped with melted</td>\n",
              "      <td>$$$</td>\n",
              "    </tr>\n",
              "    <tr>\n",
              "      <th>7</th>\n",
              "      <td>xxbos xxfld 1 xxmaj cambodian xxmaj cuisine xxfld 2 otherasian xxfld 3 nyc xxfld 4 s e a chhar kroeurng beef your choice of meat sauteed hot spicy with sweet basil bell pepper onion snow peas cabbage bok choy accented with lemon grass and galangal flavor served with xxunk chhar pluong shrimp your choice of meat sauteed with pluong nut snow peas broccoli bell pepper and onoin in our delight sauce;kuey teo koke soup less rice noodle a bowl of soft rice noodle topped with shrimp fish ball chicken slices bean sprout lettuce or watercress scallion and preserved cabbage dressed with our house special sauce;kuey teo tuek b curd skin a bowl of soft rice noodle topped with bean sprout lettuce scallion preserved cabbage and combination of meat immersed in our house specialty soup xxunk xxunk fish chop non dairy fried or steamed salmon or tilapia filet in our hot</td>\n",
              "      <td>$$</td>\n",
              "    </tr>\n",
              "    <tr>\n",
              "      <th>8</th>\n",
              "      <td>xxbos xxfld 1 xxmaj sunset xxmaj grill &amp; xxmaj tap xxfld 2 american ( traditional ) xxfld 3 boston xxfld 4 avocado chicken melt golden ale bbq chicken topped with pepperjack cheese avocado wedges lettuce and tomatoes on a toasted roll served with curly fries substitute salad instead of fries for an additional xxunk ' cajun jambalaya xxunk pasta or red bean rice with blackened chicken andouille sausage bayou shrimp scallions tomato tri colored peppers okra and onion with spicy broth bread available upon xxunk extra xxunk fe chicken chimichanga a red chili tortilla stuffed with santa fe seasoned chicken mango salsa and monterey jack cheese fried crispy and served with black bean corn vinaigrette salad and red chili dipping sauce;tuscan flat bread pizza thin and crispy topped with hummus olive oil fire roasted garlic red pepper sundried tomatoes artichokes and mozzarella cheese add shrimp or chicken for an additional</td>\n",
              "      <td>$$</td>\n",
              "    </tr>\n",
              "  </tbody>\n",
              "</table>"
            ],
            "text/plain": [
              "<IPython.core.display.HTML object>"
            ]
          },
          "metadata": {
            "tags": []
          }
        }
      ]
    },
    {
      "cell_type": "code",
      "metadata": {
        "id": "XOEnxUIl7Oim"
      },
      "source": [
        "learn = text_classifier_learner(dls, AWD_LSTM, drop_mult=0.5, metrics=accuracy)"
      ],
      "execution_count": 14,
      "outputs": []
    },
    {
      "cell_type": "code",
      "metadata": {
        "colab": {
          "base_uri": "https://localhost:8080/",
          "height": 229
        },
        "id": "zMEkhgFF7Pou",
        "outputId": "169e8118-d3af-41da-85c9-3f395c999ed7"
      },
      "source": [
        "learn.fine_tune(4, 1e-2)"
      ],
      "execution_count": 15,
      "outputs": [
        {
          "output_type": "display_data",
          "data": {
            "text/html": [
              "<table border=\"1\" class=\"dataframe\">\n",
              "  <thead>\n",
              "    <tr style=\"text-align: left;\">\n",
              "      <th>epoch</th>\n",
              "      <th>train_loss</th>\n",
              "      <th>valid_loss</th>\n",
              "      <th>accuracy</th>\n",
              "      <th>time</th>\n",
              "    </tr>\n",
              "  </thead>\n",
              "  <tbody>\n",
              "    <tr>\n",
              "      <td>0</td>\n",
              "      <td>1.215243</td>\n",
              "      <td>0.950834</td>\n",
              "      <td>0.595679</td>\n",
              "      <td>00:19</td>\n",
              "    </tr>\n",
              "  </tbody>\n",
              "</table>"
            ],
            "text/plain": [
              "<IPython.core.display.HTML object>"
            ]
          },
          "metadata": {
            "tags": []
          }
        },
        {
          "output_type": "display_data",
          "data": {
            "text/html": [
              "<table border=\"1\" class=\"dataframe\">\n",
              "  <thead>\n",
              "    <tr style=\"text-align: left;\">\n",
              "      <th>epoch</th>\n",
              "      <th>train_loss</th>\n",
              "      <th>valid_loss</th>\n",
              "      <th>accuracy</th>\n",
              "      <th>time</th>\n",
              "    </tr>\n",
              "  </thead>\n",
              "  <tbody>\n",
              "    <tr>\n",
              "      <td>0</td>\n",
              "      <td>0.930118</td>\n",
              "      <td>0.852575</td>\n",
              "      <td>0.624486</td>\n",
              "      <td>00:40</td>\n",
              "    </tr>\n",
              "    <tr>\n",
              "      <td>1</td>\n",
              "      <td>0.864404</td>\n",
              "      <td>0.770299</td>\n",
              "      <td>0.668724</td>\n",
              "      <td>00:41</td>\n",
              "    </tr>\n",
              "    <tr>\n",
              "      <td>2</td>\n",
              "      <td>0.781746</td>\n",
              "      <td>0.810437</td>\n",
              "      <td>0.670782</td>\n",
              "      <td>00:40</td>\n",
              "    </tr>\n",
              "    <tr>\n",
              "      <td>3</td>\n",
              "      <td>0.713050</td>\n",
              "      <td>0.745923</td>\n",
              "      <td>0.697531</td>\n",
              "      <td>00:41</td>\n",
              "    </tr>\n",
              "  </tbody>\n",
              "</table>"
            ],
            "text/plain": [
              "<IPython.core.display.HTML object>"
            ]
          },
          "metadata": {
            "tags": []
          }
        }
      ]
    },
    {
      "cell_type": "markdown",
      "metadata": {
        "id": "N92uyIKS8igG"
      },
      "source": [
        " ### Add valid(dev?) data"
      ]
    },
    {
      "cell_type": "code",
      "metadata": {
        "id": "YoLlrAa48jik"
      },
      "source": [
        "def get_df(path, fname, sep='\\t'):\n",
        "    with open(path/fname) as f:\n",
        "        lines = []\n",
        "        for line in f.readlines():\n",
        "            lines += [line.split(sep)]\n",
        "    return pd.DataFrame(lines)"
      ],
      "execution_count": 107,
      "outputs": []
    },
    {
      "cell_type": "code",
      "metadata": {
        "id": "SNmdSLz59GFx"
      },
      "source": [
        "valid_df = get_df(food_path, 'menu_test.txt')\n",
        "valid_df['is_valid'] = True"
      ],
      "execution_count": 108,
      "outputs": []
    },
    {
      "cell_type": "code",
      "metadata": {
        "id": "yRsbtHgX9fCV"
      },
      "source": [
        "train_df = get_df(food_path, 'menu_dev.txt')\n",
        "train_df['is_valid'] = False"
      ],
      "execution_count": 110,
      "outputs": []
    },
    {
      "cell_type": "code",
      "metadata": {
        "colab": {
          "base_uri": "https://localhost:8080/",
          "height": 246
        },
        "id": "AyelhvZl8jmU",
        "outputId": "fbc30718-d395-4b9a-ffaa-82df03f886e3"
      },
      "source": [
        "train_df.head(2)"
      ],
      "execution_count": 111,
      "outputs": [
        {
          "output_type": "execute_result",
          "data": {
            "text/html": [
              "<div>\n",
              "<style scoped>\n",
              "    .dataframe tbody tr th:only-of-type {\n",
              "        vertical-align: middle;\n",
              "    }\n",
              "\n",
              "    .dataframe tbody tr th {\n",
              "        vertical-align: top;\n",
              "    }\n",
              "\n",
              "    .dataframe thead th {\n",
              "        text-align: right;\n",
              "    }\n",
              "</style>\n",
              "<table border=\"1\" class=\"dataframe\">\n",
              "  <thead>\n",
              "    <tr style=\"text-align: right;\">\n",
              "      <th></th>\n",
              "      <th>0</th>\n",
              "      <th>1</th>\n",
              "      <th>2</th>\n",
              "      <th>3</th>\n",
              "      <th>4</th>\n",
              "      <th>is_valid</th>\n",
              "    </tr>\n",
              "  </thead>\n",
              "  <tbody>\n",
              "    <tr>\n",
              "      <th>0</th>\n",
              "      <td>$</td>\n",
              "      <td>Sweetgreen</td>\n",
              "      <td>american (new)</td>\n",
              "      <td>washington</td>\n",
              "      <td>baby arugula;wrap it up choose any combination o greens and goods then let us wrap it up;guacamole greens guac deconstructed mesclun with fresh avocado grilled chicken grape tomatoes red onion crushed tortilla chips topped with lime cilantro jalapeno vinaigrette served with warm bread;le parisien baby arugula with roasted turkey breast brie pears toasted almonds topped with champagne vinaigrette served with warm bread;old school favorites cobb plus caprese chinese chicken chicken caesar with parmesan crisp;the yogurt big plain tart choose any fruit crunch extra toppings live active culture...</td>\n",
              "      <td>False</td>\n",
              "    </tr>\n",
              "    <tr>\n",
              "      <th>1</th>\n",
              "      <td>$</td>\n",
              "      <td>Westside Coffee Shop II</td>\n",
              "      <td>coffee &amp; tea</td>\n",
              "      <td>nyc</td>\n",
              "      <td>pig feet stew patitas de cerdo guisadas;beef soup sopa de res;pastrami;steak with onions;import beers;beef ox tail stew rabito guisado;combination no two tacos rice and beans salad;roast pork burrito;fried pork meat masita de cerdo frita;beef tripe soup sopa de mondongo;roast pork;combination no two quesadillas rice and beans salad;one enchilada;assorted tropical sodas;avocado or mixed aguacate o miixta;combination no one nacho one enchilada rice and beans salad;rice with chicken arroz con pollo;pork soup sancocho de cerdo;lettuce and tomato lechuga y tomate;combination no one empanada one...</td>\n",
              "      <td>False</td>\n",
              "    </tr>\n",
              "  </tbody>\n",
              "</table>\n",
              "</div>"
            ],
            "text/plain": [
              "   0  ... is_valid\n",
              "0  $  ...    False\n",
              "1  $  ...    False\n",
              "\n",
              "[2 rows x 6 columns]"
            ]
          },
          "metadata": {
            "tags": []
          },
          "execution_count": 111
        }
      ]
    },
    {
      "cell_type": "code",
      "metadata": {
        "id": "cGPpE4ec-AOM"
      },
      "source": [
        "df = train_df.append(valid_df)"
      ],
      "execution_count": 112,
      "outputs": []
    },
    {
      "cell_type": "markdown",
      "metadata": {
        "id": "JQ4Z328X8jo4"
      },
      "source": [
        "`\n",
        "TextDataLoaders.from_df(df, path='.',  seed=None, text_col=0, label_col=1, label_delim=None, y_block=None, text_vocab=None, is_lm=False, valid_col=None, tok_tfm=None, tok_text_col='text', seq_len=72, backwards=False, bs=64, val_bs=None, shuffle=True, device=None)\n",
        "`"
      ]
    },
    {
      "cell_type": "code",
      "metadata": {
        "collapsed": true,
        "id": "VC_C-6G-Nm8i"
      },
      "source": [
        "series_len = lambda x: len(set([j for i in df[x].to_list() for j in i.split()]))"
      ],
      "execution_count": 142,
      "outputs": []
    },
    {
      "cell_type": "code",
      "metadata": {
        "id": "nCRqdS_uP7mt",
        "outputId": "e0e09720-374a-4bd2-d715-574b7c20beed",
        "colab": {
          "base_uri": "https://localhost:8080/"
        }
      },
      "source": [
        "sum(map(series_len, range(1, 5)))"
      ],
      "execution_count": 149,
      "outputs": [
        {
          "output_type": "execute_result",
          "data": {
            "text/plain": [
              "80519"
            ]
          },
          "metadata": {
            "tags": []
          },
          "execution_count": 149
        }
      ]
    },
    {
      "cell_type": "code",
      "metadata": {
        "colab": {
          "base_uri": "https://localhost:8080/",
          "height": 72
        },
        "id": "eh6G6aSN-aqd",
        "outputId": "e35d2499-a930-49a9-a6a9-e91ef53fbc0b"
      },
      "source": [
        "dls = TextDataLoaders.from_df(df, path='.', text_col = [1,2,3,4], label_col = 0, valid_col='is_valid')"
      ],
      "execution_count": 23,
      "outputs": [
        {
          "output_type": "display_data",
          "data": {
            "text/html": [
              ""
            ],
            "text/plain": [
              "<IPython.core.display.HTML object>"
            ]
          },
          "metadata": {
            "tags": []
          }
        },
        {
          "output_type": "stream",
          "text": [
            "/usr/local/lib/python3.7/dist-packages/numpy/core/_asarray.py:83: VisibleDeprecationWarning: Creating an ndarray from ragged nested sequences (which is a list-or-tuple of lists-or-tuples-or ndarrays with different lengths or shapes) is deprecated. If you meant to do this, you must specify 'dtype=object' when creating the ndarray\n",
            "  return array(a, dtype, copy=False, order=order)\n"
          ],
          "name": "stderr"
        }
      ]
    },
    {
      "cell_type": "code",
      "metadata": {
        "id": "atRHOy0v-6V9"
      },
      "source": [
        "learn = text_classifier_learner(dls, AWD_LSTM, drop_mult=0.5, metrics=accuracy)"
      ],
      "execution_count": 26,
      "outputs": []
    },
    {
      "cell_type": "code",
      "metadata": {
        "colab": {
          "base_uri": "https://localhost:8080/",
          "height": 229
        },
        "id": "GFfNYGZ2-9kF",
        "outputId": "35901473-3480-489e-a9e7-5106467027a9"
      },
      "source": [
        "learn.fine_tune(4, 1e-2)"
      ],
      "execution_count": 25,
      "outputs": [
        {
          "output_type": "display_data",
          "data": {
            "text/html": [
              "<table border=\"1\" class=\"dataframe\">\n",
              "  <thead>\n",
              "    <tr style=\"text-align: left;\">\n",
              "      <th>epoch</th>\n",
              "      <th>train_loss</th>\n",
              "      <th>valid_loss</th>\n",
              "      <th>accuracy</th>\n",
              "      <th>time</th>\n",
              "    </tr>\n",
              "  </thead>\n",
              "  <tbody>\n",
              "    <tr>\n",
              "      <td>0</td>\n",
              "      <td>1.446142</td>\n",
              "      <td>1.318202</td>\n",
              "      <td>0.487644</td>\n",
              "      <td>00:06</td>\n",
              "    </tr>\n",
              "  </tbody>\n",
              "</table>"
            ],
            "text/plain": [
              "<IPython.core.display.HTML object>"
            ]
          },
          "metadata": {
            "tags": []
          }
        },
        {
          "output_type": "display_data",
          "data": {
            "text/html": [
              "<table border=\"1\" class=\"dataframe\">\n",
              "  <thead>\n",
              "    <tr style=\"text-align: left;\">\n",
              "      <th>epoch</th>\n",
              "      <th>train_loss</th>\n",
              "      <th>valid_loss</th>\n",
              "      <th>accuracy</th>\n",
              "      <th>time</th>\n",
              "    </tr>\n",
              "  </thead>\n",
              "  <tbody>\n",
              "    <tr>\n",
              "      <td>0</td>\n",
              "      <td>1.237009</td>\n",
              "      <td>1.353090</td>\n",
              "      <td>0.471170</td>\n",
              "      <td>00:09</td>\n",
              "    </tr>\n",
              "    <tr>\n",
              "      <td>1</td>\n",
              "      <td>1.173328</td>\n",
              "      <td>1.140795</td>\n",
              "      <td>0.606260</td>\n",
              "      <td>00:09</td>\n",
              "    </tr>\n",
              "    <tr>\n",
              "      <td>2</td>\n",
              "      <td>1.084859</td>\n",
              "      <td>1.065472</td>\n",
              "      <td>0.599671</td>\n",
              "      <td>00:09</td>\n",
              "    </tr>\n",
              "    <tr>\n",
              "      <td>3</td>\n",
              "      <td>1.015343</td>\n",
              "      <td>1.151057</td>\n",
              "      <td>0.574959</td>\n",
              "      <td>00:09</td>\n",
              "    </tr>\n",
              "  </tbody>\n",
              "</table>"
            ],
            "text/plain": [
              "<IPython.core.display.HTML object>"
            ]
          },
          "metadata": {
            "tags": []
          }
        }
      ]
    },
    {
      "cell_type": "code",
      "metadata": {
        "id": "2GeC9oWEBI3s"
      },
      "source": [
        "learn = text_classifier_learner(dls, AWD_LSTM, drop_mult=0.5, metrics=accuracy)"
      ],
      "execution_count": 38,
      "outputs": []
    },
    {
      "cell_type": "code",
      "metadata": {
        "colab": {
          "base_uri": "https://localhost:8080/",
          "height": 300
        },
        "id": "fHS4Uawl_YSS",
        "outputId": "01705a35-e0e5-4b78-cddf-47b69f97a822"
      },
      "source": [
        "learn.lr_find()"
      ],
      "execution_count": 29,
      "outputs": [
        {
          "output_type": "display_data",
          "data": {
            "text/html": [
              ""
            ],
            "text/plain": [
              "<IPython.core.display.HTML object>"
            ]
          },
          "metadata": {
            "tags": []
          }
        },
        {
          "output_type": "execute_result",
          "data": {
            "text/plain": [
              "SuggestedLRs(lr_min=0.025118863582611083, lr_steep=0.05754399299621582)"
            ]
          },
          "metadata": {
            "tags": []
          },
          "execution_count": 29
        },
        {
          "output_type": "display_data",
          "data": {
            "image/png": "[encoded data removed]",
            "text/plain": [
              "<Figure size 432x288 with 1 Axes>"
            ]
          },
          "metadata": {
            "tags": [],
            "needs_background": "light"
          }
        }
      ]
    },
    {
      "cell_type": "code",
      "metadata": {
        "colab": {
          "base_uri": "https://localhost:8080/",
          "height": 409
        },
        "id": "ZlVD14ag_bVa",
        "outputId": "8a6f7c4a-a232-402d-cccc-8052e8cd30dd"
      },
      "source": [
        "learn.fine_tune(10, 1e-2)"
      ],
      "execution_count": 39,
      "outputs": [
        {
          "output_type": "display_data",
          "data": {
            "text/html": [
              "<table border=\"1\" class=\"dataframe\">\n",
              "  <thead>\n",
              "    <tr style=\"text-align: left;\">\n",
              "      <th>epoch</th>\n",
              "      <th>train_loss</th>\n",
              "      <th>valid_loss</th>\n",
              "      <th>accuracy</th>\n",
              "      <th>time</th>\n",
              "    </tr>\n",
              "  </thead>\n",
              "  <tbody>\n",
              "    <tr>\n",
              "      <td>0</td>\n",
              "      <td>1.390434</td>\n",
              "      <td>1.243273</td>\n",
              "      <td>0.551895</td>\n",
              "      <td>00:06</td>\n",
              "    </tr>\n",
              "  </tbody>\n",
              "</table>"
            ],
            "text/plain": [
              "<IPython.core.display.HTML object>"
            ]
          },
          "metadata": {
            "tags": []
          }
        },
        {
          "output_type": "display_data",
          "data": {
            "text/html": [
              "<table border=\"1\" class=\"dataframe\">\n",
              "  <thead>\n",
              "    <tr style=\"text-align: left;\">\n",
              "      <th>epoch</th>\n",
              "      <th>train_loss</th>\n",
              "      <th>valid_loss</th>\n",
              "      <th>accuracy</th>\n",
              "      <th>time</th>\n",
              "    </tr>\n",
              "  </thead>\n",
              "  <tbody>\n",
              "    <tr>\n",
              "      <td>0</td>\n",
              "      <td>1.240077</td>\n",
              "      <td>1.247108</td>\n",
              "      <td>0.515651</td>\n",
              "      <td>00:09</td>\n",
              "    </tr>\n",
              "    <tr>\n",
              "      <td>1</td>\n",
              "      <td>1.171072</td>\n",
              "      <td>1.102494</td>\n",
              "      <td>0.607908</td>\n",
              "      <td>00:09</td>\n",
              "    </tr>\n",
              "    <tr>\n",
              "      <td>2</td>\n",
              "      <td>1.124320</td>\n",
              "      <td>1.147660</td>\n",
              "      <td>0.537068</td>\n",
              "      <td>00:09</td>\n",
              "    </tr>\n",
              "    <tr>\n",
              "      <td>3</td>\n",
              "      <td>1.055442</td>\n",
              "      <td>1.141671</td>\n",
              "      <td>0.560132</td>\n",
              "      <td>00:09</td>\n",
              "    </tr>\n",
              "    <tr>\n",
              "      <td>4</td>\n",
              "      <td>0.982529</td>\n",
              "      <td>1.269052</td>\n",
              "      <td>0.542010</td>\n",
              "      <td>00:09</td>\n",
              "    </tr>\n",
              "    <tr>\n",
              "      <td>5</td>\n",
              "      <td>0.892246</td>\n",
              "      <td>1.218387</td>\n",
              "      <td>0.558484</td>\n",
              "      <td>00:09</td>\n",
              "    </tr>\n",
              "    <tr>\n",
              "      <td>6</td>\n",
              "      <td>0.806667</td>\n",
              "      <td>1.207285</td>\n",
              "      <td>0.565074</td>\n",
              "      <td>00:09</td>\n",
              "    </tr>\n",
              "    <tr>\n",
              "      <td>7</td>\n",
              "      <td>0.735402</td>\n",
              "      <td>1.162404</td>\n",
              "      <td>0.584844</td>\n",
              "      <td>00:09</td>\n",
              "    </tr>\n",
              "    <tr>\n",
              "      <td>8</td>\n",
              "      <td>0.675453</td>\n",
              "      <td>1.127523</td>\n",
              "      <td>0.584844</td>\n",
              "      <td>00:09</td>\n",
              "    </tr>\n",
              "    <tr>\n",
              "      <td>9</td>\n",
              "      <td>0.621444</td>\n",
              "      <td>1.143513</td>\n",
              "      <td>0.583196</td>\n",
              "      <td>00:09</td>\n",
              "    </tr>\n",
              "  </tbody>\n",
              "</table>"
            ],
            "text/plain": [
              "<IPython.core.display.HTML object>"
            ]
          },
          "metadata": {
            "tags": []
          }
        }
      ]
    },
    {
      "cell_type": "markdown",
      "metadata": {
        "id": "84wwCKzZDgZ1"
      },
      "source": [
        "- validation set을 따로 안쓰고 그냥 train에서 valid split한게 performance가 좋은데..?"
      ]
    },
    {
      "cell_type": "markdown",
      "metadata": {
        "id": "LA6QIXGs18NX"
      },
      "source": [
        "## Emotions"
      ]
    },
    {
      "cell_type": "code",
      "metadata": {
        "id": "mN5LU__f2JEu"
      },
      "source": [
        "emo_path = data_path/'emotions/isear'"
      ],
      "execution_count": 36,
      "outputs": []
    },
    {
      "cell_type": "code",
      "metadata": {
        "colab": {
          "base_uri": "https://localhost:8080/"
        },
        "id": "KEFTROYuCdwo",
        "outputId": "84eb582e-34d6-4fa0-ab91-598c78fcd31b"
      },
      "source": [
        "for f in emo_path.iterdir():\n",
        "    !wc {f}"
      ],
      "execution_count": 63,
      "outputs": [
        {
          "output_type": "stream",
          "text": [
            "  1150  18272 100209 /content/tl2021/emotions/isear/isear-val-prediction.csv\n",
            "  1150  25264 139578 /content/tl2021/emotions/isear/isear-val.csv\n",
            "  5365 116896 648269 /content/tl2021/emotions/isear/isear-train.csv\n",
            "  1150  25451 140511 /content/tl2021/emotions/isear/isear-test.csv\n"
          ],
          "name": "stdout"
        }
      ]
    },
    {
      "cell_type": "markdown",
      "metadata": {
        "id": "hPYD7YBVF1ot"
      },
      "source": [
        "- datasets are not clearly seperated"
      ]
    },
    {
      "cell_type": "code",
      "metadata": {
        "colab": {
          "base_uri": "https://localhost:8080/"
        },
        "id": "McHtwwPSEf67",
        "outputId": "631cdce3-a056-477d-ccf2-f9a28319a4d7"
      },
      "source": [
        "labels = ['joy', 'fear', 'shame', 'disgust', 'guilt', 'anger', 'sadness']\n",
        "with open(emo_path/'isear-train.csv') as f:\n",
        "    for num, line in enumerate(f):\n",
        "        if line.split(',', maxsplit=1)[0] not in labels:\n",
        "            print(num, line, end ='')"
      ],
      "execution_count": 55,
      "outputs": [
        {
          "output_type": "stream",
          "text": [
            "118 \"\n",
            "311 Note: for GUILT go to record n¦231\"\n",
            "1771 but I felt that I was not able to express myself very well - I felt ashamed and blushed.\"\n",
            "2325 \"\n",
            "2601 B) Description of a disfigured orphaned child in Hiroshima calling for her mother.\"\n",
            "2660 \"\n",
            "4368 \"\n",
            "5069 NB: In Bulgarian schools \"\"a three\"\" is the second worst mark.\"\n",
            "5176 \n",
            "5263 \"\n"
          ],
          "name": "stdout"
        }
      ]
    },
    {
      "cell_type": "code",
      "metadata": {
        "id": "9IQ_VcWgEHxh"
      },
      "source": [
        "def get_df(path, fname, sep='\\t'):\n",
        "    with open(path/fname) as f:\n",
        "        lines = []\n",
        "        for line in f.readlines():\n",
        "            if line.split(sep, maxsplit=1)[0] in labels:\n",
        "                lines += [line.strip().split(sep, maxsplit=1)]\n",
        "    return pd.DataFrame(lines)"
      ],
      "execution_count": 82,
      "outputs": []
    },
    {
      "cell_type": "code",
      "metadata": {
        "colab": {
          "base_uri": "https://localhost:8080/",
          "height": 198
        },
        "id": "n3PXhQLuD5HV",
        "outputId": "68726d4b-fbce-4b41-c2b3-5a7147ec035a"
      },
      "source": [
        "train_df = get_df(emo_path,'isear-train.csv', sep=','); train_df.head()"
      ],
      "execution_count": 83,
      "outputs": [
        {
          "output_type": "execute_result",
          "data": {
            "text/html": [
              "<div>\n",
              "<style scoped>\n",
              "    .dataframe tbody tr th:only-of-type {\n",
              "        vertical-align: middle;\n",
              "    }\n",
              "\n",
              "    .dataframe tbody tr th {\n",
              "        vertical-align: top;\n",
              "    }\n",
              "\n",
              "    .dataframe thead th {\n",
              "        text-align: right;\n",
              "    }\n",
              "</style>\n",
              "<table border=\"1\" class=\"dataframe\">\n",
              "  <thead>\n",
              "    <tr style=\"text-align: right;\">\n",
              "      <th></th>\n",
              "      <th>0</th>\n",
              "      <th>1</th>\n",
              "    </tr>\n",
              "  </thead>\n",
              "  <tbody>\n",
              "    <tr>\n",
              "      <th>0</th>\n",
              "      <td>joy</td>\n",
              "      <td>When I understood that I was admitted to the University.</td>\n",
              "    </tr>\n",
              "    <tr>\n",
              "      <th>1</th>\n",
              "      <td>fear</td>\n",
              "      <td>\"I broke a window of a neighbouring house and I feared my mother's judgement and action on what I had done.\"</td>\n",
              "    </tr>\n",
              "    <tr>\n",
              "      <th>2</th>\n",
              "      <td>joy</td>\n",
              "      <td>Got a big fish in fishing.</td>\n",
              "    </tr>\n",
              "    <tr>\n",
              "      <th>3</th>\n",
              "      <td>fear</td>\n",
              "      <td>\"Whenever I am alone in a dark room, walk alone on the street, sleep alone in the room at night or see something which is only partly visible.  This emotion was very strong when as an 8 year   old child I saw something horrible.  \"</td>\n",
              "    </tr>\n",
              "    <tr>\n",
              "      <th>4</th>\n",
              "      <td>shame</td>\n",
              "      <td>\"I bought a possible answer to a homework problem which was completely inapplicable to the question due to my not having read about the subject matter.\"</td>\n",
              "    </tr>\n",
              "  </tbody>\n",
              "</table>\n",
              "</div>"
            ],
            "text/plain": [
              "       0                                                                                                                                                                                                                                        1\n",
              "0    joy                                                                                                                                                                                 When I understood that I was admitted to the University.\n",
              "1   fear                                                                                                                             \"I broke a window of a neighbouring house and I feared my mother's judgement and action on what I had done.\"\n",
              "2    joy                                                                                                                                                                                                               Got a big fish in fishing.\n",
              "3   fear  \"Whenever I am alone in a dark room, walk alone on the street, sleep alone in the room at night or see something which is only partly visible.  This emotion was very strong when as an 8 year   old child I saw something horrible.  \"\n",
              "4  shame                                                                                 \"I bought a possible answer to a homework problem which was completely inapplicable to the question due to my not having read about the subject matter.\""
            ]
          },
          "metadata": {
            "tags": []
          },
          "execution_count": 83
        }
      ]
    },
    {
      "cell_type": "code",
      "metadata": {
        "colab": {
          "base_uri": "https://localhost:8080/"
        },
        "id": "gV4vGUiFGWZU",
        "outputId": "111cbc65-73a2-440c-9031-72b84b809094"
      },
      "source": [
        "train_df.info()"
      ],
      "execution_count": 76,
      "outputs": [
        {
          "output_type": "stream",
          "text": [
            "<class 'pandas.core.frame.DataFrame'>\n",
            "RangeIndex: 5355 entries, 0 to 5354\n",
            "Data columns (total 2 columns):\n",
            " #   Column  Non-Null Count  Dtype \n",
            "---  ------  --------------  ----- \n",
            " 0   0       5355 non-null   object\n",
            " 1   1       5355 non-null   object\n",
            "dtypes: object(2)\n",
            "memory usage: 83.8+ KB\n"
          ],
          "name": "stdout"
        }
      ]
    },
    {
      "cell_type": "code",
      "metadata": {
        "colab": {
          "base_uri": "https://localhost:8080/",
          "height": 78
        },
        "id": "AGWp1_y1Cf9c",
        "outputId": "6e405af0-f488-4d4e-9206-0afb7b05041c"
      },
      "source": [
        "valid_df = get_df(emo_path,'isear-val.csv', sep=','); valid_df.head(1)"
      ],
      "execution_count": 89,
      "outputs": [
        {
          "output_type": "execute_result",
          "data": {
            "text/html": [
              "<div>\n",
              "<style scoped>\n",
              "    .dataframe tbody tr th:only-of-type {\n",
              "        vertical-align: middle;\n",
              "    }\n",
              "\n",
              "    .dataframe tbody tr th {\n",
              "        vertical-align: top;\n",
              "    }\n",
              "\n",
              "    .dataframe thead th {\n",
              "        text-align: right;\n",
              "    }\n",
              "</style>\n",
              "<table border=\"1\" class=\"dataframe\">\n",
              "  <thead>\n",
              "    <tr style=\"text-align: right;\">\n",
              "      <th></th>\n",
              "      <th>0</th>\n",
              "      <th>1</th>\n",
              "    </tr>\n",
              "  </thead>\n",
              "  <tbody>\n",
              "    <tr>\n",
              "      <th>0</th>\n",
              "      <td>joy</td>\n",
              "      <td>\"On holiday, seeing the lanscape in Gerona.\"</td>\n",
              "    </tr>\n",
              "  </tbody>\n",
              "</table>\n",
              "</div>"
            ],
            "text/plain": [
              "     0                                             1\n",
              "0  joy  \"On holiday, seeing the lanscape in Gerona.\""
            ]
          },
          "metadata": {
            "tags": []
          },
          "execution_count": 89
        }
      ]
    },
    {
      "cell_type": "code",
      "metadata": {
        "id": "Mga9X6EvHDtq"
      },
      "source": [
        "train_df['is_valid'], valid_df['is_valid'] = False, True"
      ],
      "execution_count": 90,
      "outputs": []
    },
    {
      "cell_type": "code",
      "metadata": {
        "colab": {
          "base_uri": "https://localhost:8080/",
          "height": 78
        },
        "id": "BX9r5HoQHpe-",
        "outputId": "b468f6fd-481f-464d-955c-b153f7aa0079"
      },
      "source": [
        "df = train_df.append(valid_df); df.head(1)"
      ],
      "execution_count": 93,
      "outputs": [
        {
          "output_type": "execute_result",
          "data": {
            "text/html": [
              "<div>\n",
              "<style scoped>\n",
              "    .dataframe tbody tr th:only-of-type {\n",
              "        vertical-align: middle;\n",
              "    }\n",
              "\n",
              "    .dataframe tbody tr th {\n",
              "        vertical-align: top;\n",
              "    }\n",
              "\n",
              "    .dataframe thead th {\n",
              "        text-align: right;\n",
              "    }\n",
              "</style>\n",
              "<table border=\"1\" class=\"dataframe\">\n",
              "  <thead>\n",
              "    <tr style=\"text-align: right;\">\n",
              "      <th></th>\n",
              "      <th>0</th>\n",
              "      <th>1</th>\n",
              "      <th>is_valid</th>\n",
              "    </tr>\n",
              "  </thead>\n",
              "  <tbody>\n",
              "    <tr>\n",
              "      <th>0</th>\n",
              "      <td>joy</td>\n",
              "      <td>When I understood that I was admitted to the University.</td>\n",
              "      <td>False</td>\n",
              "    </tr>\n",
              "  </tbody>\n",
              "</table>\n",
              "</div>"
            ],
            "text/plain": [
              "     0                                                         1  is_valid\n",
              "0  joy  When I understood that I was admitted to the University.     False"
            ]
          },
          "metadata": {
            "tags": []
          },
          "execution_count": 93
        }
      ]
    },
    {
      "cell_type": "code",
      "metadata": {
        "colab": {
          "base_uri": "https://localhost:8080/",
          "height": 72
        },
        "id": "HpMv-MF9HSE7",
        "outputId": "a8b6f0a8-c76e-4738-a7cc-a45dd470e982"
      },
      "source": [
        "dls = TextDataLoaders.from_df(df, path='.', text_col = 1, label_col = 0, valid_col='is_valid')"
      ],
      "execution_count": 94,
      "outputs": [
        {
          "output_type": "display_data",
          "data": {
            "text/html": [
              ""
            ],
            "text/plain": [
              "<IPython.core.display.HTML object>"
            ]
          },
          "metadata": {
            "tags": []
          }
        },
        {
          "output_type": "stream",
          "text": [
            "/usr/local/lib/python3.7/dist-packages/numpy/core/_asarray.py:83: VisibleDeprecationWarning: Creating an ndarray from ragged nested sequences (which is a list-or-tuple of lists-or-tuples-or ndarrays with different lengths or shapes) is deprecated. If you meant to do this, you must specify 'dtype=object' when creating the ndarray\n",
            "  return array(a, dtype, copy=False, order=order)\n"
          ],
          "name": "stderr"
        }
      ]
    },
    {
      "cell_type": "code",
      "metadata": {
        "id": "HR_cFeVIHSE-"
      },
      "source": [
        "learn = text_classifier_learner(dls, AWD_LSTM, drop_mult=0.5, metrics=accuracy)"
      ],
      "execution_count": 95,
      "outputs": []
    },
    {
      "cell_type": "code",
      "metadata": {
        "colab": {
          "base_uri": "https://localhost:8080/",
          "height": 229
        },
        "id": "UvflxBBhHSE-",
        "outputId": "15624b39-3e2b-43fc-c640-6a62bbef0330"
      },
      "source": [
        "learn.fine_tune(4, 1e-2)"
      ],
      "execution_count": 96,
      "outputs": [
        {
          "output_type": "display_data",
          "data": {
            "text/html": [
              "<table border=\"1\" class=\"dataframe\">\n",
              "  <thead>\n",
              "    <tr style=\"text-align: left;\">\n",
              "      <th>epoch</th>\n",
              "      <th>train_loss</th>\n",
              "      <th>valid_loss</th>\n",
              "      <th>accuracy</th>\n",
              "      <th>time</th>\n",
              "    </tr>\n",
              "  </thead>\n",
              "  <tbody>\n",
              "    <tr>\n",
              "      <td>0</td>\n",
              "      <td>1.699388</td>\n",
              "      <td>1.493616</td>\n",
              "      <td>0.432056</td>\n",
              "      <td>00:04</td>\n",
              "    </tr>\n",
              "  </tbody>\n",
              "</table>"
            ],
            "text/plain": [
              "<IPython.core.display.HTML object>"
            ]
          },
          "metadata": {
            "tags": []
          }
        },
        {
          "output_type": "display_data",
          "data": {
            "text/html": [
              "<table border=\"1\" class=\"dataframe\">\n",
              "  <thead>\n",
              "    <tr style=\"text-align: left;\">\n",
              "      <th>epoch</th>\n",
              "      <th>train_loss</th>\n",
              "      <th>valid_loss</th>\n",
              "      <th>accuracy</th>\n",
              "      <th>time</th>\n",
              "    </tr>\n",
              "  </thead>\n",
              "  <tbody>\n",
              "    <tr>\n",
              "      <td>0</td>\n",
              "      <td>1.471859</td>\n",
              "      <td>1.311871</td>\n",
              "      <td>0.503484</td>\n",
              "      <td>00:05</td>\n",
              "    </tr>\n",
              "    <tr>\n",
              "      <td>1</td>\n",
              "      <td>1.283499</td>\n",
              "      <td>1.183593</td>\n",
              "      <td>0.572300</td>\n",
              "      <td>00:05</td>\n",
              "    </tr>\n",
              "    <tr>\n",
              "      <td>2</td>\n",
              "      <td>1.090551</td>\n",
              "      <td>1.100471</td>\n",
              "      <td>0.606272</td>\n",
              "      <td>00:05</td>\n",
              "    </tr>\n",
              "    <tr>\n",
              "      <td>3</td>\n",
              "      <td>0.902725</td>\n",
              "      <td>1.092146</td>\n",
              "      <td>0.613240</td>\n",
              "      <td>00:05</td>\n",
              "    </tr>\n",
              "  </tbody>\n",
              "</table>"
            ],
            "text/plain": [
              "<IPython.core.display.HTML object>"
            ]
          },
          "metadata": {
            "tags": []
          }
        }
      ]
    },
    {
      "cell_type": "markdown",
      "metadata": {
        "id": "rLpj1VXhJEWB"
      },
      "source": [
        "- less dropout, more epochs"
      ]
    },
    {
      "cell_type": "code",
      "metadata": {
        "id": "t8ovxt37JD0H"
      },
      "source": [
        "learn = text_classifier_learner(dls, AWD_LSTM, drop_mult=0.2, metrics=accuracy)"
      ],
      "execution_count": 97,
      "outputs": []
    },
    {
      "cell_type": "code",
      "metadata": {
        "colab": {
          "base_uri": "https://localhost:8080/",
          "height": 300
        },
        "id": "c3RAyhnCJKLZ",
        "outputId": "4f72107c-c64e-4512-e9b3-af24954783a1"
      },
      "source": [
        "learn.lr_find()"
      ],
      "execution_count": 99,
      "outputs": [
        {
          "output_type": "display_data",
          "data": {
            "text/html": [
              ""
            ],
            "text/plain": [
              "<IPython.core.display.HTML object>"
            ]
          },
          "metadata": {
            "tags": []
          }
        },
        {
          "output_type": "execute_result",
          "data": {
            "text/plain": [
              "SuggestedLRs(lr_min=0.03630780577659607, lr_steep=0.002511886414140463)"
            ]
          },
          "metadata": {
            "tags": []
          },
          "execution_count": 99
        },
        {
          "output_type": "display_data",
          "data": {
            "image/png": "[encoded data removed]",
            "text/plain": [
              "<Figure size 432x288 with 1 Axes>"
            ]
          },
          "metadata": {
            "tags": [],
            "needs_background": "light"
          }
        }
      ]
    },
    {
      "cell_type": "code",
      "metadata": {
        "colab": {
          "base_uri": "https://localhost:8080/",
          "height": 409
        },
        "id": "EhTwIPKQKRsN",
        "outputId": "649c1630-5580-4d13-ba53-bcb9adc7ee9b"
      },
      "source": [
        "learn.fine_tune(10)"
      ],
      "execution_count": 100,
      "outputs": [
        {
          "output_type": "display_data",
          "data": {
            "text/html": [
              "<table border=\"1\" class=\"dataframe\">\n",
              "  <thead>\n",
              "    <tr style=\"text-align: left;\">\n",
              "      <th>epoch</th>\n",
              "      <th>train_loss</th>\n",
              "      <th>valid_loss</th>\n",
              "      <th>accuracy</th>\n",
              "      <th>time</th>\n",
              "    </tr>\n",
              "  </thead>\n",
              "  <tbody>\n",
              "    <tr>\n",
              "      <td>0</td>\n",
              "      <td>1.680050</td>\n",
              "      <td>1.522598</td>\n",
              "      <td>0.434669</td>\n",
              "      <td>00:04</td>\n",
              "    </tr>\n",
              "  </tbody>\n",
              "</table>"
            ],
            "text/plain": [
              "<IPython.core.display.HTML object>"
            ]
          },
          "metadata": {
            "tags": []
          }
        },
        {
          "output_type": "display_data",
          "data": {
            "text/html": [
              "<table border=\"1\" class=\"dataframe\">\n",
              "  <thead>\n",
              "    <tr style=\"text-align: left;\">\n",
              "      <th>epoch</th>\n",
              "      <th>train_loss</th>\n",
              "      <th>valid_loss</th>\n",
              "      <th>accuracy</th>\n",
              "      <th>time</th>\n",
              "    </tr>\n",
              "  </thead>\n",
              "  <tbody>\n",
              "    <tr>\n",
              "      <td>0</td>\n",
              "      <td>1.401870</td>\n",
              "      <td>1.416720</td>\n",
              "      <td>0.480836</td>\n",
              "      <td>00:05</td>\n",
              "    </tr>\n",
              "    <tr>\n",
              "      <td>1</td>\n",
              "      <td>1.317879</td>\n",
              "      <td>1.328008</td>\n",
              "      <td>0.522648</td>\n",
              "      <td>00:05</td>\n",
              "    </tr>\n",
              "    <tr>\n",
              "      <td>2</td>\n",
              "      <td>1.181824</td>\n",
              "      <td>1.312565</td>\n",
              "      <td>0.512195</td>\n",
              "      <td>00:05</td>\n",
              "    </tr>\n",
              "    <tr>\n",
              "      <td>3</td>\n",
              "      <td>1.047814</td>\n",
              "      <td>1.212164</td>\n",
              "      <td>0.555749</td>\n",
              "      <td>00:05</td>\n",
              "    </tr>\n",
              "    <tr>\n",
              "      <td>4</td>\n",
              "      <td>0.873537</td>\n",
              "      <td>1.231705</td>\n",
              "      <td>0.567944</td>\n",
              "      <td>00:05</td>\n",
              "    </tr>\n",
              "    <tr>\n",
              "      <td>5</td>\n",
              "      <td>0.710695</td>\n",
              "      <td>1.221622</td>\n",
              "      <td>0.581010</td>\n",
              "      <td>00:05</td>\n",
              "    </tr>\n",
              "    <tr>\n",
              "      <td>6</td>\n",
              "      <td>0.572784</td>\n",
              "      <td>1.252100</td>\n",
              "      <td>0.581010</td>\n",
              "      <td>00:05</td>\n",
              "    </tr>\n",
              "    <tr>\n",
              "      <td>7</td>\n",
              "      <td>0.482449</td>\n",
              "      <td>1.263863</td>\n",
              "      <td>0.581010</td>\n",
              "      <td>00:05</td>\n",
              "    </tr>\n",
              "    <tr>\n",
              "      <td>8</td>\n",
              "      <td>0.395472</td>\n",
              "      <td>1.271905</td>\n",
              "      <td>0.581010</td>\n",
              "      <td>00:05</td>\n",
              "    </tr>\n",
              "    <tr>\n",
              "      <td>9</td>\n",
              "      <td>0.376280</td>\n",
              "      <td>1.254811</td>\n",
              "      <td>0.578397</td>\n",
              "      <td>00:05</td>\n",
              "    </tr>\n",
              "  </tbody>\n",
              "</table>"
            ],
            "text/plain": [
              "<IPython.core.display.HTML object>"
            ]
          },
          "metadata": {
            "tags": []
          }
        }
      ]
    },
    {
      "cell_type": "markdown",
      "metadata": {
        "id": "fK-WCQa7Mepe"
      },
      "source": [
        "## check vocab"
      ]
    },
    {
      "cell_type": "code",
      "metadata": {
        "colab": {
          "base_uri": "https://localhost:8080/"
        },
        "id": "kwbCP6RTMivZ",
        "outputId": "f5121a1f-84b6-4572-a087-401329e69307"
      },
      "source": [
        "df.columns"
      ],
      "execution_count": 101,
      "outputs": [
        {
          "output_type": "execute_result",
          "data": {
            "text/plain": [
              "Index([0, 1, 'is_valid'], dtype='object')"
            ]
          },
          "metadata": {
            "tags": []
          },
          "execution_count": 101
        }
      ]
    },
    {
      "cell_type": "code",
      "metadata": {
        "colab": {
          "base_uri": "https://localhost:8080/"
        },
        "id": "ywyNSU-VMoEZ",
        "outputId": "4c2823a8-f669-43c8-d1f5-443cf62cb52f"
      },
      "source": [
        "len(set(' '.join(df[1].to_list()).split()))"
      ],
      "execution_count": 106,
      "outputs": [
        {
          "output_type": "execute_result",
          "data": {
            "text/plain": [
              "14210"
            ]
          },
          "metadata": {
            "tags": []
          },
          "execution_count": 106
        }
      ]
    }
  ]
}