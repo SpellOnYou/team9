{
  "nbformat": 4,
  "nbformat_minor": 0,
  "metadata": {
    "colab": {
      "name": "batch-training.ipynb",
      "provenance": [],
      "authorship_tag": "ABX9TyP4P7SErilLMQcOPBxioPrU",
      "include_colab_link": true
    },
    "kernelspec": {
      "name": "python3",
      "display_name": "Python 3"
    },
    "language_info": {
      "name": "python"
    }
  },
  "cells": [
    {
      "cell_type": "markdown",
      "metadata": {
        "id": "view-in-github",
        "colab_type": "text"
      },
      "source": [
        "<a href=\"https://colab.research.google.com/github/SpellOnYou/CLab21/blob/main/dummymodule/2021-05-10-batch_training.ipynb\" target=\"_parent\"><img src=\"https://colab.research.google.com/assets/colab-badge.svg\" alt=\"Open In Colab\"/></a>"
      ]
    },
    {
      "cell_type": "code",
      "metadata": {
        "id": "51j3XgaEX4XH",
        "collapsed": true
      },
      "source": [
        "import random, torch, math\n",
        "# !pip install -q ipdb\n",
        "# import ipdb"
      ],
      "execution_count": 1,
      "outputs": []
    },
    {
      "cell_type": "code",
      "metadata": {
        "id": "hC7ipD8ANVmV"
      },
      "source": [
        "class Linear():\n",
        "    def __init__(self, w, b):\n",
        "        self.w, self.b = w, b\n",
        "    def forward(self, x): \n",
        "        self.inp = x\n",
        "        self.out = self.inp@self.w + self.b\n",
        "        return self.out\n",
        "    \n",
        "    def backward(self):\n",
        "        self.inp.g = self.out.g @ self.w.t()\n",
        "        self.w.g = (self.inp.unsqueeze(-1) * self.out.g.unsqueeze(1)).sum(0)\n",
        "        self.b.g = self.out.g.sum(0)"
      ],
      "execution_count": 2,
      "outputs": []
    },
    {
      "cell_type": "code",
      "metadata": {
        "id": "0-W4_imuNzhq"
      },
      "source": [
        "class Relu():\n",
        "    def forward(self, x):\n",
        "        self.inp = x\n",
        "        self.out = x.clamp_min(0.) - 0.5\n",
        "        return self.out\n",
        "\n",
        "    def backward(self):\n",
        "        self.inp.g = self.out.g* (self.inp>0).float()"
      ],
      "execution_count": 3,
      "outputs": []
    },
    {
      "cell_type": "code",
      "metadata": {
        "id": "oOuL51A7KY2k"
      },
      "source": [
        "class Mse():\n",
        "    def __call__(self, yhat, y):\n",
        "        self.yhat, self.y = yhat, y\n",
        "        self.out = (yhat.squeeze(-1) - y).pow(2).mean()\n",
        "        return self.out\n",
        "    \n",
        "    def backward(self):\n",
        "        self.yhat.g = 2. * (self.yhat.squeeze() - self.y).unsqueeze(-1) / self.y.shape[0]"
      ],
      "execution_count": 27,
      "outputs": []
    },
    {
      "cell_type": "code",
      "metadata": {
        "id": "MrXxOqhbS1Nx",
        "cellView": "form"
      },
      "source": [
        "#@title\n",
        "class Softmax():\n",
        "    def forward(self, x):\n",
        "        self.inp = x\n",
        "        self.out = (x.exp()/ x.exp().sum(-1, keepdim=True))\n",
        "        return self.out\n",
        "\n",
        "    def backward(self):\n",
        "        self.inp.g = (1-self.out.g)*self.out.g\n",
        "\n",
        "class CrossEntropy():\n",
        "    def __call__(self, y, yhat):\n",
        "        self.yhat = yhat\n",
        "        self.y = y\n",
        "        return (-yhat.log()[range(yhat.shape[0]), y.max(dim=1).indices]).mean()\n",
        "    \n",
        "    def backward(self):\n",
        "        self.yhat.g = self.yhat - self.y"
      ],
      "execution_count": null,
      "outputs": []
    },
    {
      "cell_type": "code",
      "metadata": {
        "id": "8cbpa37JU1sM"
      },
      "source": [
        "class DummyModel():\n",
        "    def __init__(self, w1, b1, w2, b2):\n",
        "        self._loss = Mse()\n",
        "        self.layers = [Linear(w1,b1), Relu(), Linear(w2, b2)]\n",
        "    \n",
        "    def forward(self, x, y):\n",
        "        self.x, self.y = x, y\n",
        "\n",
        "        for layer in self.layers:\n",
        "            # ipdb.set_trace()\n",
        "            x = layer.forward(x)\n",
        "        self.out = self._loss(x, self.y)\n",
        "        return self.out\n",
        "\n",
        "    def backward(self):\n",
        "        self._loss.backward()\n",
        "        for layer in reversed(self.layers):\n",
        "            # ipdb.set_trace()\n",
        "            layer.backward()"
      ],
      "execution_count": 28,
      "outputs": []
    },
    {
      "cell_type": "code",
      "metadata": {
        "id": "H72eAdlkXyVH"
      },
      "source": [
        "def init_data():\n",
        "    x = torch.randn(n, m)\n",
        "    y = torch.tensor(random.choices(range(6), k=n))\n",
        "    # y = torch.zeros(n, c)\n",
        "    # y[range(n), random.choices(range(c), k=n)] =1     \n",
        "    return x, y    "
      ],
      "execution_count": 29,
      "outputs": []
    },
    {
      "cell_type": "code",
      "metadata": {
        "id": "1hOfX_SQT4zF"
      },
      "source": [
        "n,m, h, c = 5000, 100, 50, 1\n",
        "w1 = torch.randn(m, h) / math.sqrt(h)\n",
        "w2 = torch.randn(h, c)\n",
        "b1 = torch.randn(h)\n",
        "b2 = torch.randn(c)"
      ],
      "execution_count": 57,
      "outputs": []
    },
    {
      "cell_type": "code",
      "metadata": {
        "id": "3Wk8_ynjYX4x"
      },
      "source": [
        "dummy_x, dummy_y = init_data()"
      ],
      "execution_count": 58,
      "outputs": []
    },
    {
      "cell_type": "code",
      "metadata": {
        "id": "VJqAESbyLKTK",
        "outputId": "4c779e1f-eb5b-4077-b53a-546f8dd35b46",
        "colab": {
          "base_uri": "https://localhost:8080/"
        }
      },
      "source": [
        "dummy_x.shape, dummy_y.shape"
      ],
      "execution_count": 59,
      "outputs": [
        {
          "output_type": "execute_result",
          "data": {
            "text/plain": [
              "(torch.Size([5000, 100]), torch.Size([5000]))"
            ]
          },
          "metadata": {
            "tags": []
          },
          "execution_count": 59
        }
      ]
    },
    {
      "cell_type": "code",
      "metadata": {
        "id": "dqUNJ2XdVnk3"
      },
      "source": [
        "model = DummyModel(w1, b1, w2, b2)"
      ],
      "execution_count": 60,
      "outputs": []
    },
    {
      "cell_type": "code",
      "metadata": {
        "id": "DPRwAKD_VsED"
      },
      "source": [
        "loss = model.forward(dummy_x, dummy_y)"
      ],
      "execution_count": 61,
      "outputs": []
    },
    {
      "cell_type": "code",
      "metadata": {
        "id": "sPqfnZiFMilu",
        "outputId": "dc68d64c-2de5-4b67-8fe5-49cce60ccb72",
        "colab": {
          "base_uri": "https://localhost:8080/"
        }
      },
      "source": [
        "loss"
      ],
      "execution_count": 62,
      "outputs": [
        {
          "output_type": "execute_result",
          "data": {
            "text/plain": [
              "tensor(20.7741)"
            ]
          },
          "metadata": {
            "tags": []
          },
          "execution_count": 62
        }
      ]
    },
    {
      "cell_type": "code",
      "metadata": {
        "id": "L7Z8gCYcZMME"
      },
      "source": [
        "model.backward()"
      ],
      "execution_count": 63,
      "outputs": []
    },
    {
      "cell_type": "code",
      "metadata": {
        "colab": {
          "base_uri": "https://localhost:8080/"
        },
        "id": "0UGeSzWCo_Tm",
        "outputId": "87743b49-c0ab-45db-9d59-24a162caafd7"
      },
      "source": [
        "[hasattr(l, 'w') for l in model.layers]"
      ],
      "execution_count": 64,
      "outputs": [
        {
          "output_type": "execute_result",
          "data": {
            "text/plain": [
              "[True, False, True]"
            ]
          },
          "metadata": {
            "tags": []
          },
          "execution_count": 64
        }
      ]
    },
    {
      "cell_type": "markdown",
      "metadata": {
        "id": "_-xIT02JbaNn"
      },
      "source": [
        "## Training process"
      ]
    },
    {
      "cell_type": "code",
      "metadata": {
        "id": "oTLoTunJlBhX"
      },
      "source": [
        "def train(epochs, bs, lr):\n",
        "    for e in range(epochs):\n",
        "        for bs_i in range((n-1)//bs + 1):\n",
        "            str_idx, end_idx = bs_i*bs, (bs_i+1)*bs\n",
        "            x_batch, y_batch = dummy_x[str_idx:end_idx], dummy_y[str_idx:end_idx]\n",
        "            loss = model.forward(x_batch, y_batch)\n",
        "            model.backward()\n",
        "            with torch.no_grad():\n",
        "                for layer in model.layers:\n",
        "                    if hasattr(layer, 'w'): #if they have parameter attribute\n",
        "                        print(f\"{layer.w.mean(), layer.w.std()}\")\n",
        "                        layer.w -= layer.w.g * lr\n",
        "                        layer.b -= layer.b.g * lr\n",
        "                        layer.w.g.zero_() #initialize them to zero\n",
        "                        layer.b.g.zero_()"
      ],
      "execution_count": 65,
      "outputs": []
    },
    {
      "cell_type": "code",
      "metadata": {
        "id": "jw1GQrXipi8O",
        "outputId": "bb617298-5c43-4c91-995d-24be63b95162",
        "colab": {
          "base_uri": "https://localhost:8080/"
        }
      },
      "source": [
        "train(1, 32, 0.01)"
      ],
      "execution_count": 66,
      "outputs": [
        {
          "output_type": "stream",
          "text": [
            "(tensor(-0.0028), tensor(0.1404))\n",
            "(tensor(-0.0303), tensor(0.9379))\n",
            "(tensor(-0.0029), tensor(0.1402))\n",
            "(tensor(-0.0276), tensor(0.9332))\n",
            "(tensor(-0.0029), tensor(0.1400))\n",
            "(tensor(-0.0270), tensor(0.9295))\n",
            "(tensor(-0.0027), tensor(0.1398))\n",
            "(tensor(-0.0278), tensor(0.9225))\n",
            "(tensor(-0.0025), tensor(0.1396))\n",
            "(tensor(-0.0260), tensor(0.9168))\n",
            "(tensor(-0.0025), tensor(0.1394))\n",
            "(tensor(-0.0267), tensor(0.9113))\n",
            "(tensor(-0.0027), tensor(0.1391))\n",
            "(tensor(-0.0291), tensor(0.9063))\n",
            "(tensor(-0.0026), tensor(0.1390))\n",
            "(tensor(-0.0274), tensor(0.9024))\n",
            "(tensor(-0.0026), tensor(0.1389))\n",
            "(tensor(-0.0287), tensor(0.8982))\n",
            "(tensor(-0.0027), tensor(0.1388))\n",
            "(tensor(-0.0274), tensor(0.8939))\n",
            "(tensor(-0.0027), tensor(0.1386))\n",
            "(tensor(-0.0264), tensor(0.8916))\n",
            "(tensor(-0.0026), tensor(0.1385))\n",
            "(tensor(-0.0241), tensor(0.8890))\n",
            "(tensor(-0.0027), tensor(0.1382))\n",
            "(tensor(-0.0274), tensor(0.8827))\n",
            "(tensor(-0.0028), tensor(0.1380))\n",
            "(tensor(-0.0266), tensor(0.8794))\n",
            "(tensor(-0.0026), tensor(0.1379))\n",
            "(tensor(-0.0265), tensor(0.8769))\n",
            "(tensor(-0.0026), tensor(0.1379))\n",
            "(tensor(-0.0272), tensor(0.8741))\n",
            "(tensor(-0.0027), tensor(0.1377))\n",
            "(tensor(-0.0277), tensor(0.8714))\n",
            "(tensor(-0.0026), tensor(0.1376))\n",
            "(tensor(-0.0292), tensor(0.8692))\n",
            "(tensor(-0.0026), tensor(0.1375))\n",
            "(tensor(-0.0315), tensor(0.8653))\n",
            "(tensor(-0.0026), tensor(0.1374))\n",
            "(tensor(-0.0313), tensor(0.8617))\n",
            "(tensor(-0.0026), tensor(0.1373))\n",
            "(tensor(-0.0315), tensor(0.8598))\n",
            "(tensor(-0.0026), tensor(0.1372))\n",
            "(tensor(-0.0327), tensor(0.8573))\n",
            "(tensor(-0.0026), tensor(0.1371))\n",
            "(tensor(-0.0336), tensor(0.8557))\n",
            "(tensor(-0.0026), tensor(0.1369))\n",
            "(tensor(-0.0342), tensor(0.8528))\n",
            "(tensor(-0.0026), tensor(0.1368))\n",
            "(tensor(-0.0350), tensor(0.8505))\n",
            "(tensor(-0.0025), tensor(0.1367))\n",
            "(tensor(-0.0343), tensor(0.8493))\n",
            "(tensor(-0.0024), tensor(0.1366))\n",
            "(tensor(-0.0336), tensor(0.8454))\n",
            "(tensor(-0.0025), tensor(0.1365))\n",
            "(tensor(-0.0334), tensor(0.8434))\n",
            "(tensor(-0.0024), tensor(0.1363))\n",
            "(tensor(-0.0345), tensor(0.8396))\n",
            "(tensor(-0.0024), tensor(0.1362))\n",
            "(tensor(-0.0343), tensor(0.8377))\n",
            "(tensor(-0.0025), tensor(0.1361))\n",
            "(tensor(-0.0340), tensor(0.8361))\n",
            "(tensor(-0.0025), tensor(0.1360))\n",
            "(tensor(-0.0344), tensor(0.8348))\n",
            "(tensor(-0.0025), tensor(0.1359))\n",
            "(tensor(-0.0346), tensor(0.8309))\n",
            "(tensor(-0.0025), tensor(0.1358))\n",
            "(tensor(-0.0344), tensor(0.8293))\n",
            "(tensor(-0.0025), tensor(0.1357))\n",
            "(tensor(-0.0343), tensor(0.8271))\n",
            "(tensor(-0.0026), tensor(0.1356))\n",
            "(tensor(-0.0340), tensor(0.8250))\n",
            "(tensor(-0.0026), tensor(0.1355))\n",
            "(tensor(-0.0348), tensor(0.8235))\n",
            "(tensor(-0.0026), tensor(0.1354))\n",
            "(tensor(-0.0355), tensor(0.8212))\n",
            "(tensor(-0.0027), tensor(0.1353))\n",
            "(tensor(-0.0368), tensor(0.8189))\n",
            "(tensor(-0.0027), tensor(0.1352))\n",
            "(tensor(-0.0351), tensor(0.8175))\n",
            "(tensor(-0.0027), tensor(0.1351))\n",
            "(tensor(-0.0339), tensor(0.8161))\n",
            "(tensor(-0.0027), tensor(0.1350))\n",
            "(tensor(-0.0377), tensor(0.8125))\n",
            "(tensor(-0.0027), tensor(0.1349))\n",
            "(tensor(-0.0380), tensor(0.8117))\n",
            "(tensor(-0.0027), tensor(0.1348))\n",
            "(tensor(-0.0352), tensor(0.8105))\n",
            "(tensor(-0.0027), tensor(0.1347))\n",
            "(tensor(-0.0357), tensor(0.8088))\n",
            "(tensor(-0.0027), tensor(0.1347))\n",
            "(tensor(-0.0339), tensor(0.8088))\n",
            "(tensor(-0.0026), tensor(0.1347))\n",
            "(tensor(-0.0342), tensor(0.8071))\n",
            "(tensor(-0.0026), tensor(0.1346))\n",
            "(tensor(-0.0328), tensor(0.8069))\n",
            "(tensor(-0.0027), tensor(0.1346))\n",
            "(tensor(-0.0327), tensor(0.8044))\n",
            "(tensor(-0.0026), tensor(0.1344))\n",
            "(tensor(-0.0341), tensor(0.8025))\n",
            "(tensor(-0.0027), tensor(0.1343))\n",
            "(tensor(-0.0343), tensor(0.8009))\n",
            "(tensor(-0.0026), tensor(0.1342))\n",
            "(tensor(-0.0333), tensor(0.7998))\n",
            "(tensor(-0.0027), tensor(0.1342))\n",
            "(tensor(-0.0338), tensor(0.7984))\n",
            "(tensor(-0.0027), tensor(0.1341))\n",
            "(tensor(-0.0342), tensor(0.7967))\n",
            "(tensor(-0.0026), tensor(0.1340))\n",
            "(tensor(-0.0369), tensor(0.7938))\n",
            "(tensor(-0.0026), tensor(0.1339))\n",
            "(tensor(-0.0366), tensor(0.7917))\n",
            "(tensor(-0.0025), tensor(0.1338))\n",
            "(tensor(-0.0358), tensor(0.7919))\n",
            "(tensor(-0.0025), tensor(0.1337))\n",
            "(tensor(-0.0372), tensor(0.7896))\n",
            "(tensor(-0.0024), tensor(0.1336))\n",
            "(tensor(-0.0384), tensor(0.7881))\n",
            "(tensor(-0.0024), tensor(0.1336))\n",
            "(tensor(-0.0389), tensor(0.7868))\n",
            "(tensor(-0.0024), tensor(0.1335))\n",
            "(tensor(-0.0397), tensor(0.7859))\n",
            "(tensor(-0.0024), tensor(0.1335))\n",
            "(tensor(-0.0397), tensor(0.7842))\n",
            "(tensor(-0.0024), tensor(0.1334))\n",
            "(tensor(-0.0384), tensor(0.7837))\n",
            "(tensor(-0.0025), tensor(0.1333))\n",
            "(tensor(-0.0389), tensor(0.7821))\n",
            "(tensor(-0.0024), tensor(0.1332))\n",
            "(tensor(-0.0394), tensor(0.7810))\n",
            "(tensor(-0.0024), tensor(0.1332))\n",
            "(tensor(-0.0399), tensor(0.7794))\n",
            "(tensor(-0.0024), tensor(0.1331))\n",
            "(tensor(-0.0407), tensor(0.7780))\n",
            "(tensor(-0.0024), tensor(0.1330))\n",
            "(tensor(-0.0399), tensor(0.7767))\n",
            "(tensor(-0.0024), tensor(0.1329))\n",
            "(tensor(-0.0404), tensor(0.7748))\n",
            "(tensor(-0.0025), tensor(0.1329))\n",
            "(tensor(-0.0422), tensor(0.7732))\n",
            "(tensor(-0.0025), tensor(0.1328))\n",
            "(tensor(-0.0434), tensor(0.7727))\n",
            "(tensor(-0.0025), tensor(0.1327))\n",
            "(tensor(-0.0430), tensor(0.7704))\n",
            "(tensor(-0.0025), tensor(0.1327))\n",
            "(tensor(-0.0406), tensor(0.7697))\n",
            "(tensor(-0.0026), tensor(0.1326))\n",
            "(tensor(-0.0409), tensor(0.7687))\n",
            "(tensor(-0.0025), tensor(0.1326))\n",
            "(tensor(-0.0411), tensor(0.7679))\n",
            "(tensor(-0.0025), tensor(0.1325))\n",
            "(tensor(-0.0419), tensor(0.7665))\n",
            "(tensor(-0.0025), tensor(0.1325))\n",
            "(tensor(-0.0412), tensor(0.7659))\n",
            "(tensor(-0.0025), tensor(0.1323))\n",
            "(tensor(-0.0426), tensor(0.7639))\n",
            "(tensor(-0.0025), tensor(0.1323))\n",
            "(tensor(-0.0415), tensor(0.7633))\n",
            "(tensor(-0.0026), tensor(0.1322))\n",
            "(tensor(-0.0431), tensor(0.7621))\n",
            "(tensor(-0.0026), tensor(0.1321))\n",
            "(tensor(-0.0426), tensor(0.7609))\n",
            "(tensor(-0.0026), tensor(0.1320))\n",
            "(tensor(-0.0432), tensor(0.7589))\n",
            "(tensor(-0.0026), tensor(0.1319))\n",
            "(tensor(-0.0424), tensor(0.7564))\n",
            "(tensor(-0.0026), tensor(0.1319))\n",
            "(tensor(-0.0424), tensor(0.7555))\n",
            "(tensor(-0.0025), tensor(0.1319))\n",
            "(tensor(-0.0426), tensor(0.7547))\n",
            "(tensor(-0.0026), tensor(0.1318))\n",
            "(tensor(-0.0433), tensor(0.7532))\n",
            "(tensor(-0.0026), tensor(0.1318))\n",
            "(tensor(-0.0443), tensor(0.7521))\n",
            "(tensor(-0.0026), tensor(0.1316))\n",
            "(tensor(-0.0438), tensor(0.7512))\n",
            "(tensor(-0.0026), tensor(0.1316))\n",
            "(tensor(-0.0442), tensor(0.7492))\n",
            "(tensor(-0.0027), tensor(0.1316))\n",
            "(tensor(-0.0433), tensor(0.7494))\n",
            "(tensor(-0.0027), tensor(0.1315))\n",
            "(tensor(-0.0463), tensor(0.7469))\n",
            "(tensor(-0.0027), tensor(0.1315))\n",
            "(tensor(-0.0453), tensor(0.7461))\n",
            "(tensor(-0.0027), tensor(0.1314))\n",
            "(tensor(-0.0466), tensor(0.7433))\n",
            "(tensor(-0.0027), tensor(0.1313))\n",
            "(tensor(-0.0475), tensor(0.7415))\n",
            "(tensor(-0.0027), tensor(0.1313))\n",
            "(tensor(-0.0476), tensor(0.7416))\n",
            "(tensor(-0.0026), tensor(0.1312))\n",
            "(tensor(-0.0460), tensor(0.7411))\n",
            "(tensor(-0.0026), tensor(0.1312))\n",
            "(tensor(-0.0470), tensor(0.7409))\n",
            "(tensor(-0.0027), tensor(0.1312))\n",
            "(tensor(-0.0470), tensor(0.7401))\n",
            "(tensor(-0.0027), tensor(0.1312))\n",
            "(tensor(-0.0464), tensor(0.7396))\n",
            "(tensor(-0.0027), tensor(0.1312))\n",
            "(tensor(-0.0461), tensor(0.7394))\n",
            "(tensor(-0.0027), tensor(0.1311))\n",
            "(tensor(-0.0476), tensor(0.7378))\n",
            "(tensor(-0.0027), tensor(0.1311))\n",
            "(tensor(-0.0484), tensor(0.7364))\n",
            "(tensor(-0.0027), tensor(0.1310))\n",
            "(tensor(-0.0471), tensor(0.7360))\n",
            "(tensor(-0.0027), tensor(0.1310))\n",
            "(tensor(-0.0477), tensor(0.7348))\n",
            "(tensor(-0.0027), tensor(0.1310))\n",
            "(tensor(-0.0468), tensor(0.7339))\n",
            "(tensor(-0.0026), tensor(0.1309))\n",
            "(tensor(-0.0476), tensor(0.7329))\n",
            "(tensor(-0.0028), tensor(0.1307))\n",
            "(tensor(-0.0445), tensor(0.7318))\n",
            "(tensor(-0.0028), tensor(0.1306))\n",
            "(tensor(-0.0452), tensor(0.7294))\n",
            "(tensor(-0.0028), tensor(0.1305))\n",
            "(tensor(-0.0462), tensor(0.7279))\n",
            "(tensor(-0.0028), tensor(0.1305))\n",
            "(tensor(-0.0462), tensor(0.7275))\n",
            "(tensor(-0.0027), tensor(0.1304))\n",
            "(tensor(-0.0467), tensor(0.7262))\n",
            "(tensor(-0.0027), tensor(0.1304))\n",
            "(tensor(-0.0465), tensor(0.7254))\n",
            "(tensor(-0.0027), tensor(0.1303))\n",
            "(tensor(-0.0469), tensor(0.7247))\n",
            "(tensor(-0.0027), tensor(0.1303))\n",
            "(tensor(-0.0468), tensor(0.7245))\n",
            "(tensor(-0.0027), tensor(0.1303))\n",
            "(tensor(-0.0482), tensor(0.7240))\n",
            "(tensor(-0.0027), tensor(0.1302))\n",
            "(tensor(-0.0477), tensor(0.7237))\n",
            "(tensor(-0.0027), tensor(0.1302))\n",
            "(tensor(-0.0489), tensor(0.7232))\n",
            "(tensor(-0.0027), tensor(0.1302))\n",
            "(tensor(-0.0499), tensor(0.7215))\n",
            "(tensor(-0.0027), tensor(0.1301))\n",
            "(tensor(-0.0500), tensor(0.7206))\n",
            "(tensor(-0.0027), tensor(0.1300))\n",
            "(tensor(-0.0492), tensor(0.7200))\n",
            "(tensor(-0.0027), tensor(0.1300))\n",
            "(tensor(-0.0513), tensor(0.7179))\n",
            "(tensor(-0.0027), tensor(0.1300))\n",
            "(tensor(-0.0506), tensor(0.7182))\n",
            "(tensor(-0.0028), tensor(0.1299))\n",
            "(tensor(-0.0505), tensor(0.7174))\n",
            "(tensor(-0.0028), tensor(0.1299))\n",
            "(tensor(-0.0494), tensor(0.7171))\n",
            "(tensor(-0.0028), tensor(0.1298))\n",
            "(tensor(-0.0494), tensor(0.7157))\n",
            "(tensor(-0.0028), tensor(0.1298))\n",
            "(tensor(-0.0507), tensor(0.7152))\n",
            "(tensor(-0.0028), tensor(0.1298))\n",
            "(tensor(-0.0511), tensor(0.7147))\n",
            "(tensor(-0.0028), tensor(0.1297))\n",
            "(tensor(-0.0517), tensor(0.7139))\n",
            "(tensor(-0.0028), tensor(0.1297))\n",
            "(tensor(-0.0520), tensor(0.7135))\n",
            "(tensor(-0.0029), tensor(0.1297))\n",
            "(tensor(-0.0522), tensor(0.7128))\n",
            "(tensor(-0.0029), tensor(0.1297))\n",
            "(tensor(-0.0538), tensor(0.7115))\n",
            "(tensor(-0.0029), tensor(0.1296))\n",
            "(tensor(-0.0535), tensor(0.7111))\n",
            "(tensor(-0.0029), tensor(0.1296))\n",
            "(tensor(-0.0537), tensor(0.7111))\n",
            "(tensor(-0.0030), tensor(0.1295))\n",
            "(tensor(-0.0532), tensor(0.7100))\n",
            "(tensor(-0.0030), tensor(0.1295))\n",
            "(tensor(-0.0530), tensor(0.7090))\n",
            "(tensor(-0.0030), tensor(0.1295))\n",
            "(tensor(-0.0530), tensor(0.7087))\n",
            "(tensor(-0.0030), tensor(0.1294))\n",
            "(tensor(-0.0535), tensor(0.7078))\n",
            "(tensor(-0.0030), tensor(0.1294))\n",
            "(tensor(-0.0534), tensor(0.7075))\n",
            "(tensor(-0.0030), tensor(0.1294))\n",
            "(tensor(-0.0524), tensor(0.7074))\n",
            "(tensor(-0.0030), tensor(0.1293))\n",
            "(tensor(-0.0540), tensor(0.7064))\n",
            "(tensor(-0.0030), tensor(0.1293))\n",
            "(tensor(-0.0549), tensor(0.7052))\n",
            "(tensor(-0.0030), tensor(0.1293))\n",
            "(tensor(-0.0560), tensor(0.7045))\n",
            "(tensor(-0.0030), tensor(0.1293))\n",
            "(tensor(-0.0543), tensor(0.7044))\n",
            "(tensor(-0.0030), tensor(0.1292))\n",
            "(tensor(-0.0539), tensor(0.7038))\n",
            "(tensor(-0.0030), tensor(0.1292))\n",
            "(tensor(-0.0539), tensor(0.7030))\n",
            "(tensor(-0.0030), tensor(0.1291))\n",
            "(tensor(-0.0542), tensor(0.7022))\n",
            "(tensor(-0.0031), tensor(0.1291))\n",
            "(tensor(-0.0542), tensor(0.7015))\n",
            "(tensor(-0.0031), tensor(0.1291))\n",
            "(tensor(-0.0545), tensor(0.7009))\n",
            "(tensor(-0.0030), tensor(0.1291))\n",
            "(tensor(-0.0544), tensor(0.7008))\n",
            "(tensor(-0.0031), tensor(0.1290))\n",
            "(tensor(-0.0546), tensor(0.6998))\n",
            "(tensor(-0.0031), tensor(0.1290))\n",
            "(tensor(-0.0544), tensor(0.6995))\n",
            "(tensor(-0.0030), tensor(0.1289))\n",
            "(tensor(-0.0550), tensor(0.6980))\n",
            "(tensor(-0.0030), tensor(0.1289))\n",
            "(tensor(-0.0538), tensor(0.6987))\n",
            "(tensor(-0.0030), tensor(0.1289))\n",
            "(tensor(-0.0532), tensor(0.6975))\n",
            "(tensor(-0.0030), tensor(0.1288))\n",
            "(tensor(-0.0529), tensor(0.6967))\n",
            "(tensor(-0.0030), tensor(0.1288))\n",
            "(tensor(-0.0542), tensor(0.6961))\n",
            "(tensor(-0.0030), tensor(0.1288))\n",
            "(tensor(-0.0556), tensor(0.6952))\n"
          ],
          "name": "stdout"
        }
      ]
    },
    {
      "cell_type": "code",
      "metadata": {
        "colab": {
          "base_uri": "https://localhost:8080/"
        },
        "id": "EiDcdaTnpmQS",
        "outputId": "66ff3e5a-4623-41b9-963a-59911a5029de"
      },
      "source": [
        "loss = model.forward(dummy_x, dummy_y); loss"
      ],
      "execution_count": 67,
      "outputs": [
        {
          "output_type": "execute_result",
          "data": {
            "text/plain": [
              "tensor(3.0660)"
            ]
          },
          "metadata": {
            "tags": []
          },
          "execution_count": 67
        }
      ]
    },
    {
      "cell_type": "markdown",
      "metadata": {
        "id": "goBTC4LtqnDi"
      },
      "source": [
        "- learning rate 0.1 None -> 0.01 -> cool!"
      ]
    }
  ]
}