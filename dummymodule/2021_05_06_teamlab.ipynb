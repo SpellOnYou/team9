{
  "nbformat": 4,
  "nbformat_minor": 0,
  "metadata": {
    "colab": {
      "name": "2021-05-06-teamlab.ipynb",
      "provenance": [],
      "collapsed_sections": [],
      "authorship_tag": "ABX9TyNfXK22l+Qfr+U+EUgG35lh",
      "include_colab_link": true
    },
    "kernelspec": {
      "name": "python3",
      "display_name": "Python 3"
    },
    "language_info": {
      "name": "python"
    }
  },
  "cells": [
    {
      "cell_type": "markdown",
      "metadata": {
        "id": "view-in-github",
        "colab_type": "text"
      },
      "source": [
        "<a href=\"https://colab.research.google.com/github/SpellOnYou/CLab21/blob/main/dummymodule/2021_05_06_teamlab.ipynb\" target=\"_parent\"><img src=\"https://colab.research.google.com/assets/colab-badge.svg\" alt=\"Open In Colab\"/></a>"
      ]
    },
    {
      "cell_type": "code",
      "metadata": {
        "id": "PCtVyeGenZeg"
      },
      "source": [
        "# suppose we have (n=inputdata, m=maxlength) / traub 5000 vakd=ud 1159\n",
        "n, m = 5000, 100\n",
        "h = 50\n",
        "c = 10"
      ],
      "execution_count": 3,
      "outputs": []
    },
    {
      "cell_type": "markdown",
      "metadata": {
        "id": "eYrPdL9ep4Jv"
      },
      "source": [
        "for now will not use any initialization methods like\n",
        "- [xavier](http://proceedings.mlr.press/v9/glorot10a/glorot10a.pdf)\n",
        "- [kaiming](https://arxiv.org/pdf/1502.01852.pdf)"
      ]
    },
    {
      "cell_type": "code",
      "metadata": {
        "id": "4ZrjrzlXnyjQ"
      },
      "source": [
        "import torch\n",
        "w1 = torch.randn(m, h)\n",
        "w2 = torch.randn(h, c)\n",
        "b1 = torch.randn(h)\n",
        "b2 = torch.randn(c)"
      ],
      "execution_count": 4,
      "outputs": []
    },
    {
      "cell_type": "markdown",
      "metadata": {
        "id": "D6WbmW3JNCp3"
      },
      "source": [
        "## without normalization/init method"
      ]
    },
    {
      "cell_type": "markdown",
      "metadata": {
        "id": "mJbva1MYqK6X"
      },
      "source": [
        "- make dummy data"
      ]
    },
    {
      "cell_type": "code",
      "metadata": {
        "id": "1WXlQIS3qfFz"
      },
      "source": [
        "import random"
      ],
      "execution_count": 5,
      "outputs": []
    },
    {
      "cell_type": "code",
      "metadata": {
        "id": "H4041ratqMEs"
      },
      "source": [
        "dummy_x = torch.randn(n, m)\n",
        "dummy_y = torch.zeros(n, c)\n",
        "dummy_y[range(n), random.choices(range(10), k=n)] =1"
      ],
      "execution_count": 6,
      "outputs": []
    },
    {
      "cell_type": "code",
      "metadata": {
        "colab": {
          "base_uri": "https://localhost:8080/"
        },
        "id": "L-ESlf6Hv7qx",
        "outputId": "402e72d0-c9a4-45f8-f444-fcf4b6fd350f"
      },
      "source": [
        "dummy_x.mean(), dummy_x.std()"
      ],
      "execution_count": 7,
      "outputs": [
        {
          "output_type": "execute_result",
          "data": {
            "text/plain": [
              "(tensor(-0.0015), tensor(0.9985))"
            ]
          },
          "metadata": {
            "tags": []
          },
          "execution_count": 7
        }
      ]
    },
    {
      "cell_type": "code",
      "metadata": {
        "colab": {
          "base_uri": "https://localhost:8080/"
        },
        "id": "ebWm1XX5rgJv",
        "outputId": "e0ef5556-4176-4557-c574-e9e7f379c35e"
      },
      "source": [
        "dummy_x.shape, dummy_y.shape"
      ],
      "execution_count": 8,
      "outputs": [
        {
          "output_type": "execute_result",
          "data": {
            "text/plain": [
              "(torch.Size([5000, 100]), torch.Size([5000, 10]))"
            ]
          },
          "metadata": {
            "tags": []
          },
          "execution_count": 8
        }
      ]
    },
    {
      "cell_type": "code",
      "metadata": {
        "colab": {
          "base_uri": "https://localhost:8080/"
        },
        "id": "pDuQlahPrbqg",
        "outputId": "79d5f90d-18be-4fc4-f730-7275278cee22"
      },
      "source": [
        "#see the sample\n",
        "dummy_x[:2], dummy_y[:2]"
      ],
      "execution_count": 9,
      "outputs": [
        {
          "output_type": "execute_result",
          "data": {
            "text/plain": [
              "(tensor([[ 1.7072e+00, -1.5670e+00, -1.3663e+00, -7.8767e-01,  4.2144e-01,\n",
              "          -1.5878e-01, -4.6477e-01, -2.6849e-01,  7.2228e-01, -1.2552e+00,\n",
              "           4.9191e-02, -1.4516e+00, -5.2243e-01,  7.2120e-02,  1.6832e+00,\n",
              "           6.3907e-01,  6.4258e-01, -1.2559e+00, -3.2130e-01, -1.0986e+00,\n",
              "          -6.3865e-01, -1.0188e-01, -7.7652e-01,  4.9091e-01,  2.0244e+00,\n",
              "           1.2449e-02,  8.0138e-01,  7.5497e-02, -1.2243e-01, -1.3913e+00,\n",
              "           1.0774e+00, -2.5654e-01,  1.4311e+00, -1.3952e+00,  1.9716e+00,\n",
              "           1.5850e-01, -1.1022e+00, -9.5781e-01, -5.8858e-02,  9.2348e-01,\n",
              "           2.7748e-01,  1.0486e+00, -1.7238e+00, -1.7909e+00, -7.6187e-01,\n",
              "           1.1606e+00,  2.9815e-01, -4.4967e-01,  1.1932e+00, -1.8211e-01,\n",
              "           6.5096e-01, -9.0922e-01, -6.9057e-01, -7.3239e-01,  1.1684e+00,\n",
              "          -2.7499e-01,  1.0999e+00, -9.9993e-01,  9.1430e-01, -7.2204e-02,\n",
              "           6.4324e-01,  1.5330e+00, -1.2818e+00, -2.7243e-01, -7.1434e-01,\n",
              "          -1.1578e+00,  3.1427e+00,  1.0565e-02, -1.1677e+00,  6.1753e-01,\n",
              "           6.4989e-02, -1.7990e+00, -4.5912e-01,  4.0964e-01, -6.2033e-01,\n",
              "          -1.8502e-01, -1.6401e+00, -7.2752e-01,  2.5715e-01, -4.3822e-01,\n",
              "          -8.6011e-01, -8.3489e-01,  1.3488e+00, -7.2862e-01, -1.4660e-01,\n",
              "          -2.1901e+00,  1.6182e+00, -1.1447e+00, -3.9970e-01, -6.2257e-01,\n",
              "          -6.3960e-02, -5.9786e-01, -3.9108e-01, -6.5076e-01, -5.3552e-01,\n",
              "           3.0472e-01,  1.5503e+00,  4.3555e-01, -9.3011e-01,  3.0889e-01],\n",
              "         [ 1.7943e+00,  7.5065e-01,  1.2481e-01,  4.1643e-01,  1.4122e+00,\n",
              "          -1.0325e-01,  9.6015e-01, -5.0073e-01,  9.8252e-01, -6.7506e-01,\n",
              "          -1.0821e+00, -7.2484e-01,  2.8877e-01, -1.0418e+00,  1.5879e+00,\n",
              "          -7.9180e-01, -1.6511e+00,  1.2345e+00,  5.7986e-02, -1.0248e+00,\n",
              "          -2.2586e-01, -7.8909e-01,  2.3791e-01, -7.4546e-01,  1.8027e+00,\n",
              "           1.1760e-01,  2.8697e-01, -1.7776e+00,  1.5526e-01, -3.6597e-01,\n",
              "           2.8461e-01, -8.4189e-01, -2.6759e-01, -3.9199e-01,  1.6733e-01,\n",
              "          -3.9740e-01,  1.3299e+00,  8.9219e-02,  3.9540e-01, -1.1674e+00,\n",
              "          -1.6972e+00,  3.5182e-01, -4.9657e-01, -1.6808e+00, -2.4624e-01,\n",
              "          -6.6797e-01, -3.7308e-01, -2.1946e+00,  6.5731e-01,  1.4613e+00,\n",
              "          -7.1687e-01,  9.5826e-01, -7.7116e-01, -1.6844e+00,  6.9376e-02,\n",
              "           9.6168e-02, -1.5526e-01, -5.3481e-01,  1.2844e+00, -6.6800e-02,\n",
              "           7.8577e-01,  5.8858e-01,  6.3598e-01, -2.1886e+00, -1.2997e+00,\n",
              "          -1.3204e+00,  2.2834e-01,  7.7985e-01, -2.5857e-01, -8.6889e-01,\n",
              "           8.6011e-01, -1.7733e+00,  1.5926e+00, -2.6659e-01, -4.5930e-01,\n",
              "           1.3740e+00, -3.1093e-01,  1.0274e+00,  2.1810e-01, -3.0889e-01,\n",
              "           1.7255e-02,  3.0779e-01, -1.8413e-01,  1.4164e+00,  5.1936e-02,\n",
              "           2.7483e-01, -9.5270e-01,  3.3948e-01,  8.8651e-04,  2.9471e-01,\n",
              "           1.7200e+00,  1.6812e+00, -1.0246e+00, -1.5200e+00,  2.1983e+00,\n",
              "          -1.8020e-01, -1.2251e-01, -4.8398e-01, -1.1107e+00,  8.5874e-02]]),\n",
              " tensor([[0., 0., 0., 0., 0., 0., 0., 0., 1., 0.],\n",
              "         [0., 0., 0., 0., 0., 0., 0., 0., 1., 0.]]))"
            ]
          },
          "metadata": {
            "tags": []
          },
          "execution_count": 9
        }
      ]
    },
    {
      "cell_type": "markdown",
      "metadata": {
        "id": "hW05APOOxPFl"
      },
      "source": [
        "- make this as function"
      ]
    },
    {
      "cell_type": "code",
      "metadata": {
        "id": "QgSU8UT0xQ3i"
      },
      "source": [
        "def init_data():\n",
        "    x = torch.randn(n, m)\n",
        "    y = torch.zeros(n, c)\n",
        "    y[range(n), random.choices(range(10), k=n)] =1    \n",
        "    return x, y"
      ],
      "execution_count": 10,
      "outputs": []
    },
    {
      "cell_type": "markdown",
      "metadata": {
        "id": "acmCqQM6nZiu"
      },
      "source": [
        "keep this for later\n",
        "```\n",
        "class Linear():\n",
        "    def __init__(self, w, b):\n",
        "        self.w, self.b = w, b\n",
        "    def forward(self, x):\n",
        "        self.out = x@w+b\n",
        "class Relu():\n",
        "    def forward(self, x):\n",
        "        self.out = self.clamp_min(x)\n",
        "class CrossEntropy():\n",
        "    pass    \n",
        "```"
      ]
    },
    {
      "cell_type": "code",
      "metadata": {
        "id": "tenbFz0FtASq"
      },
      "source": [
        "def linear(x, w, b):\n",
        "    return x@w +b\n",
        "def relu(x, mu=0):\n",
        "    return x.clamp_min(0.) -mu\n",
        "def softmax(x):\n",
        "    return (x.exp()/ x.exp().sum(-1, keepdim=True))"
      ],
      "execution_count": 11,
      "outputs": []
    },
    {
      "cell_type": "code",
      "metadata": {
        "id": "Gw9gsBNJtL0h"
      },
      "source": [
        "lin1 = linear(dummy_x, w1, b1)"
      ],
      "execution_count": 12,
      "outputs": []
    },
    {
      "cell_type": "code",
      "metadata": {
        "colab": {
          "base_uri": "https://localhost:8080/"
        },
        "id": "V84POQBHtOqS",
        "outputId": "14af8f7f-0ac7-44ce-fe05-7a92510ba894"
      },
      "source": [
        "lin1.shape"
      ],
      "execution_count": 13,
      "outputs": [
        {
          "output_type": "execute_result",
          "data": {
            "text/plain": [
              "torch.Size([5000, 50])"
            ]
          },
          "metadata": {
            "tags": []
          },
          "execution_count": 13
        }
      ]
    },
    {
      "cell_type": "code",
      "metadata": {
        "id": "SuY-rGb5ttH1"
      },
      "source": [
        "a1 = relu(lin1)\n",
        "lin2 = linear(a1, w2, b2)"
      ],
      "execution_count": 14,
      "outputs": []
    },
    {
      "cell_type": "code",
      "metadata": {
        "colab": {
          "base_uri": "https://localhost:8080/"
        },
        "id": "BsPQh83Dt6N0",
        "outputId": "b0cc33e0-3d73-4e93-fc13-c021a47b12f2"
      },
      "source": [
        "a1.mean(), a1.std() #quite big T.T.. we need to introduce norm method.. lalter"
      ],
      "execution_count": 15,
      "outputs": [
        {
          "output_type": "execute_result",
          "data": {
            "text/plain": [
              "(tensor(3.9064), tensor(5.8161))"
            ]
          },
          "metadata": {
            "tags": []
          },
          "execution_count": 15
        }
      ]
    },
    {
      "cell_type": "code",
      "metadata": {
        "colab": {
          "base_uri": "https://localhost:8080/"
        },
        "id": "k6SOEP9utQIM",
        "outputId": "25d43760-6f8d-45a1-b1b6-1de95d892326"
      },
      "source": [
        "lin2.shape"
      ],
      "execution_count": 16,
      "outputs": [
        {
          "output_type": "execute_result",
          "data": {
            "text/plain": [
              "torch.Size([5000, 10])"
            ]
          },
          "metadata": {
            "tags": []
          },
          "execution_count": 16
        }
      ]
    },
    {
      "cell_type": "code",
      "metadata": {
        "id": "oVpX-4RFuDqh"
      },
      "source": [
        "out = softmax(lin2)"
      ],
      "execution_count": 17,
      "outputs": []
    },
    {
      "cell_type": "code",
      "metadata": {
        "colab": {
          "base_uri": "https://localhost:8080/"
        },
        "id": "Y3zsLnZCvVPZ",
        "outputId": "50137e8b-08dc-4c1b-f486-72d3d3530968"
      },
      "source": [
        "out[:10]"
      ],
      "execution_count": 18,
      "outputs": [
        {
          "output_type": "execute_result",
          "data": {
            "text/plain": [
              "tensor([[4.6825e-26, 0.0000e+00, 0.0000e+00, 2.0833e-14, 5.4882e-25, 3.0740e-32,\n",
              "         2.5673e-34, 7.7257e-01, 2.8270e-41, 2.2743e-01],\n",
              "        [1.1176e-02, 2.1977e-41, 0.0000e+00, 1.5835e-43, 7.3346e-21, 9.1683e-29,\n",
              "         6.1376e-10, 9.8882e-01, 3.2384e-36, 4.3025e-10],\n",
              "        [0.0000e+00, 0.0000e+00, 0.0000e+00, 0.0000e+00, 0.0000e+00, 0.0000e+00,\n",
              "         0.0000e+00,        nan, 0.0000e+00, 0.0000e+00],\n",
              "        [0.0000e+00, 0.0000e+00, 0.0000e+00, 0.0000e+00, 0.0000e+00, 0.0000e+00,\n",
              "         0.0000e+00,        nan, 0.0000e+00, 0.0000e+00],\n",
              "        [4.9987e-40, 0.0000e+00, 0.0000e+00, 5.7263e-20, 0.0000e+00, 2.1633e-22,\n",
              "         0.0000e+00, 1.0000e+00, 0.0000e+00, 1.8492e-17],\n",
              "        [1.0666e-34, 0.0000e+00, 0.0000e+00, 1.0000e+00, 8.0386e-24, 0.0000e+00,\n",
              "         1.4253e-32, 1.7550e-14, 5.7872e-41, 2.8909e-08],\n",
              "        [2.0190e-40, 0.0000e+00, 0.0000e+00, 2.1542e-32, 4.2039e-45, 0.0000e+00,\n",
              "         7.7887e-09, 1.0000e+00, 6.0531e-40, 5.6373e-35],\n",
              "        [1.7516e-43, 0.0000e+00, 5.4419e-28, 3.9669e-12, 1.0000e+00, 0.0000e+00,\n",
              "         8.7583e-12, 8.5464e-09, 6.5674e-32, 6.3232e-19],\n",
              "        [4.3411e-08, 0.0000e+00, 1.8581e-39, 5.4095e-27, 4.3423e-12, 0.0000e+00,\n",
              "         3.7847e-09, 1.0000e+00, 8.6745e-14, 1.2884e-16],\n",
              "        [1.0208e-01, 0.0000e+00, 1.8195e-36, 1.1022e-32, 2.6792e-02, 2.6555e-12,\n",
              "         1.5943e-04, 1.1911e-16, 2.1919e-17, 8.7097e-01]])"
            ]
          },
          "metadata": {
            "tags": []
          },
          "execution_count": 18
        }
      ]
    },
    {
      "cell_type": "code",
      "metadata": {
        "colab": {
          "base_uri": "https://localhost:8080/"
        },
        "id": "g2vQHjDfu5Yd",
        "outputId": "5a943302-e4c7-4342-efdd-eb7c71a2e656"
      },
      "source": [
        "dummy_y.max(dim=1).indices #label"
      ],
      "execution_count": 19,
      "outputs": [
        {
          "output_type": "execute_result",
          "data": {
            "text/plain": [
              "tensor([8, 8, 7,  ..., 4, 5, 6])"
            ]
          },
          "metadata": {
            "tags": []
          },
          "execution_count": 19
        }
      ]
    },
    {
      "cell_type": "code",
      "metadata": {
        "colab": {
          "base_uri": "https://localhost:8080/"
        },
        "id": "_hSWnWjTuie1",
        "outputId": "3a843dac-2c55-4ae9-f7fa-cedb14ca0740"
      },
      "source": [
        "out[range(out.shape[0]), dummy_y.max(dim=1).indices]"
      ],
      "execution_count": 20,
      "outputs": [
        {
          "output_type": "execute_result",
          "data": {
            "text/plain": [
              "tensor([2.8270e-41, 3.2384e-36,        nan,  ..., 0.0000e+00, 0.0000e+00,\n",
              "        2.7962e-22])"
            ]
          },
          "metadata": {
            "tags": []
          },
          "execution_count": 20
        }
      ]
    },
    {
      "cell_type": "code",
      "metadata": {
        "id": "u8E-bDyiuHke"
      },
      "source": [
        "def cross_entropy(y, yhat):\n",
        "    return (yhat.log()[range(yhat.shape[0]), y.max(dim=1).indices]).mean()"
      ],
      "execution_count": 21,
      "outputs": []
    },
    {
      "cell_type": "code",
      "metadata": {
        "id": "VWxM2LODwW3K"
      },
      "source": [
        "loss = cross_entropy(out, dummy_y)"
      ],
      "execution_count": 22,
      "outputs": []
    },
    {
      "cell_type": "code",
      "metadata": {
        "colab": {
          "base_uri": "https://localhost:8080/"
        },
        "id": "Rf6eSUH4wbTN",
        "outputId": "441ca80c-597b-437e-8d51-ea4ec126ffab"
      },
      "source": [
        "loss"
      ],
      "execution_count": 23,
      "outputs": [
        {
          "output_type": "execute_result",
          "data": {
            "text/plain": [
              "tensor(-inf)"
            ]
          },
          "metadata": {
            "tags": []
          },
          "execution_count": 23
        }
      ]
    },
    {
      "cell_type": "markdown",
      "metadata": {
        "id": "2w1lP8JFwjgR"
      },
      "source": [
        "---"
      ]
    },
    {
      "cell_type": "markdown",
      "metadata": {
        "id": "-DaTvQvmNLTv"
      },
      "source": [
        "## with normalization (kaiming) / relu - 0.5"
      ]
    },
    {
      "cell_type": "markdown",
      "metadata": {
        "id": "SsF1Xbjcwslj"
      },
      "source": [
        "- I got -inf loss...... let me try kaiming init + relu mean modification"
      ]
    },
    {
      "cell_type": "code",
      "metadata": {
        "id": "cGVPpaqcw6Xz"
      },
      "source": [
        "import math"
      ],
      "execution_count": 24,
      "outputs": []
    },
    {
      "cell_type": "code",
      "metadata": {
        "id": "biY4hxQow3F4"
      },
      "source": [
        "w1 = torch.randn(m, h) / math.sqrt(h)\n",
        "w2 = torch.randn(h, c) / math.sqrt(c)\n",
        "b1 = torch.randn(h)\n",
        "b2 = torch.randn(c)"
      ],
      "execution_count": 25,
      "outputs": []
    },
    {
      "cell_type": "code",
      "metadata": {
        "id": "sQg-2FvaxCyw"
      },
      "source": [
        "from functools import partial\n",
        "relu2 = partial(relu, mu=0.5)"
      ],
      "execution_count": 26,
      "outputs": []
    },
    {
      "cell_type": "code",
      "metadata": {
        "id": "ihYsAwFvw60f"
      },
      "source": [
        "dummy_x2, dummy_y2 = init_data()"
      ],
      "execution_count": 53,
      "outputs": []
    },
    {
      "cell_type": "code",
      "metadata": {
        "id": "r217JX2-xhRZ"
      },
      "source": [
        "lin1_2 = linear(dummy_x2, w1, b1)\n",
        "a2 = relu2(lin1_2)\n",
        "lin2_2 = linear(a2, w2, b2)\n",
        "out2 = softmax(lin2_2)"
      ],
      "execution_count": 54,
      "outputs": []
    },
    {
      "cell_type": "code",
      "metadata": {
        "id": "iPn_7Pr5yAKU"
      },
      "source": [
        "loss = cross_entropy(dummy_y2, out2)"
      ],
      "execution_count": 55,
      "outputs": []
    },
    {
      "cell_type": "markdown",
      "metadata": {
        "id": "8HeulbP9yF65"
      },
      "source": [
        "- fair enough"
      ]
    },
    {
      "cell_type": "markdown",
      "metadata": {
        "id": "K37y1_ldOYvA"
      },
      "source": [
        "## backward"
      ]
    },
    {
      "cell_type": "code",
      "metadata": {
        "id": "7DFhbGVfOYYP"
      },
      "source": [
        "def mse_grad(inp, trg): inp.g= (inp.squeeze(-1)-trg).unsqueeze(-1)*(2/inp.shape[0])"
      ],
      "execution_count": 34,
      "outputs": []
    },
    {
      "cell_type": "code",
      "metadata": {
        "id": "LPIlXnCuOdmz"
      },
      "source": [
        "def lin_grad(inp, out, w, b):\n",
        "    inp.g = out.g @ w.t()\n",
        "    w.g = (inp.unsqueeze(-1) * out.g.unsqueeze(1)).sum(0) # / inp.shape[0] -> why we don't need this?\n",
        "    b.g = out.g.sum(0)"
      ],
      "execution_count": 35,
      "outputs": []
    },
    {
      "cell_type": "code",
      "metadata": {
        "id": "fgNBr8oOOsMS"
      },
      "source": [
        "def relu_grad(inp, out): inp.g = out.g* (inp>0).float()"
      ],
      "execution_count": 36,
      "outputs": []
    },
    {
      "cell_type": "code",
      "metadata": {
        "id": "POiEtbqUQMlX"
      },
      "source": [
        "def softmax_grad(inp, out): inp.g = (1-out.g)*out.g"
      ],
      "execution_count": 37,
      "outputs": []
    },
    {
      "cell_type": "code",
      "metadata": {
        "id": "t3oyV5fYQX4D"
      },
      "source": [
        "def ce_grad(y, yhat, out): yhat.g = yhat - y"
      ],
      "execution_count": 51,
      "outputs": []
    },
    {
      "cell_type": "code",
      "metadata": {
        "id": "kTVbwu0WRr4f"
      },
      "source": [
        "ce_grad(dummy_y2, out2, loss)\n",
        "softmax_grad(lin2_2, out2)\n",
        "lin_grad(a2, lin2_2, w2, b2)\n",
        "relu_grad(lin1_2, a2)\n",
        "lin_grad(dummy_x2, lin1_2, w1, b1)"
      ],
      "execution_count": 56,
      "outputs": []
    },
    {
      "cell_type": "markdown",
      "metadata": {
        "id": "CzT9HGu_T6Tv"
      },
      "source": [
        "----"
      ]
    },
    {
      "cell_type": "markdown",
      "metadata": {
        "id": "PglV9at8yHNo"
      },
      "source": [
        "## refactoring"
      ]
    },
    {
      "cell_type": "code",
      "metadata": {
        "id": "hC7ipD8ANVmV"
      },
      "source": [
        "class Linear():\n",
        "    def __init__(w, b):\n",
        "        self.w, self.b = w, b\n",
        "    def forward(x): \n",
        "        self.out = x@self.w + self.b\n",
        "        return self.out"
      ],
      "execution_count": 32,
      "outputs": []
    },
    {
      "cell_type": "code",
      "metadata": {
        "id": "0-W4_imuNzhq"
      },
      "source": [
        "class Relu():\n",
        "    def forward(x):\n",
        "        "
      ],
      "execution_count": null,
      "outputs": []
    }
  ]
}