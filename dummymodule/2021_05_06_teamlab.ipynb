{
  "nbformat": 4,
  "nbformat_minor": 0,
  "metadata": {
    "colab": {
      "name": "2021-05-06-teamlab.ipynb",
      "provenance": [],
      "collapsed_sections": [],
      "authorship_tag": "ABX9TyNvfR7Xx0ETlfvwTGbTniuM",
      "include_colab_link": true
    },
    "kernelspec": {
      "name": "python3",
      "display_name": "Python 3"
    },
    "language_info": {
      "name": "python"
    }
  },
  "cells": [
    {
      "cell_type": "markdown",
      "metadata": {
        "id": "view-in-github",
        "colab_type": "text"
      },
      "source": [
        "<a href=\"https://colab.research.google.com/github/SpellOnYou/CLab21/blob/main/dummymodule/2021_05_06_teamlab.ipynb\" target=\"_parent\"><img src=\"https://colab.research.google.com/assets/colab-badge.svg\" alt=\"Open In Colab\"/></a>"
      ]
    },
    {
      "cell_type": "markdown",
      "metadata": {
        "id": "ZQRraYnRlkqG"
      },
      "source": [
        "1. forward \n",
        "2. backward\n",
        "3. "
      ]
    },
    {
      "cell_type": "code",
      "metadata": {
        "colab": {
          "base_uri": "https://localhost:8080/"
        },
        "id": "hKaCo7PTnZZ9",
        "outputId": "a4f49e3a-ec5d-4750-e90e-6870cb3c0eff"
      },
      "source": [
        "!wc /content/CLab21/data/emotions/isear/isear-val.csv"
      ],
      "execution_count": 1,
      "outputs": [
        {
          "output_type": "stream",
          "text": [
            "  1150  25264 139578 /content/CLab21/data/emotions/isear/isear-val.csv\n"
          ],
          "name": "stdout"
        }
      ]
    },
    {
      "cell_type": "code",
      "metadata": {
        "id": "PCtVyeGenZeg"
      },
      "source": [
        "# suppose we have (n=inputdata, m=maxlength) / traub 5000 vakd=ud 1159\n",
        "n, m = 5000, 100\n",
        "h = 50\n",
        "c = 10"
      ],
      "execution_count": 32,
      "outputs": []
    },
    {
      "cell_type": "markdown",
      "metadata": {
        "id": "eYrPdL9ep4Jv"
      },
      "source": [
        "for now will not use any initialization methods like\n",
        "- [xavier](http://proceedings.mlr.press/v9/glorot10a/glorot10a.pdf)\n",
        "- [kaiming](https://arxiv.org/pdf/1502.01852.pdf)"
      ]
    },
    {
      "cell_type": "code",
      "metadata": {
        "id": "4ZrjrzlXnyjQ"
      },
      "source": [
        "import torch\n",
        "w1 = torch.randn(m, h)\n",
        "w2 = torch.randn(h, c)\n",
        "b1 = torch.randn(h)\n",
        "b2 = torch.randn(c)"
      ],
      "execution_count": 33,
      "outputs": []
    },
    {
      "cell_type": "markdown",
      "metadata": {
        "id": "mJbva1MYqK6X"
      },
      "source": [
        "- make dummy data"
      ]
    },
    {
      "cell_type": "code",
      "metadata": {
        "id": "1WXlQIS3qfFz"
      },
      "source": [
        "import random"
      ],
      "execution_count": 34,
      "outputs": []
    },
    {
      "cell_type": "code",
      "metadata": {
        "id": "H4041ratqMEs"
      },
      "source": [
        "dummy_x = torch.randn(n, m)\n",
        "dummy_y = torch.zeros(n, c)\n",
        "dummy_y[range(n), random.choices(range(10), k=n)] =1"
      ],
      "execution_count": 35,
      "outputs": []
    },
    {
      "cell_type": "code",
      "metadata": {
        "colab": {
          "base_uri": "https://localhost:8080/"
        },
        "id": "L-ESlf6Hv7qx",
        "outputId": "52705d5d-d105-49c8-892b-5d75309f5bca"
      },
      "source": [
        "dummy_x.mean(), dummy_x.std()"
      ],
      "execution_count": 47,
      "outputs": [
        {
          "output_type": "execute_result",
          "data": {
            "text/plain": [
              "(tensor(0.0002), tensor(1.0007))"
            ]
          },
          "metadata": {
            "tags": []
          },
          "execution_count": 47
        }
      ]
    },
    {
      "cell_type": "code",
      "metadata": {
        "colab": {
          "base_uri": "https://localhost:8080/"
        },
        "id": "ebWm1XX5rgJv",
        "outputId": "c3ec27e3-fd5a-4f65-9350-b686781ae6a9"
      },
      "source": [
        "dummy_x.shape, dummy_y.shape"
      ],
      "execution_count": 36,
      "outputs": [
        {
          "output_type": "execute_result",
          "data": {
            "text/plain": [
              "(torch.Size([5000, 100]), torch.Size([5000, 10]))"
            ]
          },
          "metadata": {
            "tags": []
          },
          "execution_count": 36
        }
      ]
    },
    {
      "cell_type": "code",
      "metadata": {
        "colab": {
          "base_uri": "https://localhost:8080/"
        },
        "id": "pDuQlahPrbqg",
        "outputId": "450c69d8-ff85-41f7-9d03-7b3a00be8c09"
      },
      "source": [
        "#see the sample\n",
        "dummy_x[:2], dummy_y[:2]"
      ],
      "execution_count": 37,
      "outputs": [
        {
          "output_type": "execute_result",
          "data": {
            "text/plain": [
              "(tensor([[-5.0657e-01, -1.8019e+00, -9.4913e-02, -3.1061e+00,  1.5904e+00,\n",
              "           8.9199e-01,  3.0894e-01, -2.4862e-01,  7.1875e-01,  5.8834e-02,\n",
              "          -3.1210e-01, -1.4977e-01,  1.0126e+00, -3.7097e-01, -2.6162e-01,\n",
              "           9.8891e-02,  2.3136e-02,  1.4616e-02, -4.3619e-01, -3.4526e-01,\n",
              "          -7.5891e-01, -2.6761e-03,  1.4875e-02, -7.9154e-02, -9.0084e-01,\n",
              "          -1.1934e+00,  1.1234e+00,  6.7298e-02,  6.4309e-01, -9.7637e-01,\n",
              "           1.2800e+00,  4.8565e-01, -1.6111e-01, -1.7781e+00, -1.2607e+00,\n",
              "          -7.7666e-01, -2.7573e-01,  6.7721e-01,  4.5730e-01,  3.4407e-01,\n",
              "           4.1272e-01, -3.3337e-01, -3.3374e-01, -1.3198e-01,  2.3816e-02,\n",
              "           7.7659e-01,  7.4477e-01, -3.7002e-01,  2.2400e-01,  2.9074e-01,\n",
              "          -1.1658e+00, -4.2135e-01,  4.7339e-01, -1.5727e-02, -9.4095e-02,\n",
              "          -7.1008e-01, -1.2635e+00,  4.8978e-02,  2.6873e-01,  9.0145e-01,\n",
              "           1.3043e+00, -5.6530e-01,  1.1302e-01,  2.3972e-02, -1.2756e+00,\n",
              "           1.2655e+00, -6.8918e-01,  1.5077e+00, -5.5673e-01,  1.5134e+00,\n",
              "           1.4461e-01, -1.5894e-01, -1.6078e-01, -5.2841e-02, -7.9072e-01,\n",
              "          -1.0340e+00,  7.9681e-01,  1.5540e+00, -4.3096e-01,  1.1357e+00,\n",
              "          -7.7358e-01, -4.5179e-01,  1.0759e+00, -2.3173e-01, -5.0776e-01,\n",
              "           9.0491e-01, -9.1461e-01, -1.5047e+00,  1.1754e+00,  1.3233e+00,\n",
              "           1.5825e-01, -6.2843e-01,  1.3503e+00, -5.2375e-01, -1.5160e+00,\n",
              "           7.4419e-01,  6.8509e-02,  7.2335e-01, -1.6265e-01,  1.9195e+00],\n",
              "         [-1.0239e+00, -3.7187e-01, -2.0857e-01,  7.0144e-01, -2.9124e-01,\n",
              "          -1.9543e-01, -1.6696e+00, -1.7291e-01,  5.4372e-01, -1.6581e-01,\n",
              "          -5.2877e-01,  3.2828e-01, -8.7193e-01,  3.5107e-02, -6.3799e-01,\n",
              "           2.3210e+00,  1.3801e+00, -1.8200e+00,  7.1863e-01, -1.7387e+00,\n",
              "          -5.0763e-01,  1.6392e-01,  7.9084e-01,  1.3743e+00, -1.1814e+00,\n",
              "          -3.3975e-01, -2.5627e-01, -1.1918e+00,  6.6785e-01, -1.2494e-01,\n",
              "           2.1921e-01,  2.1626e+00,  6.0570e-02, -4.0739e-01,  8.3984e-01,\n",
              "          -2.4425e-01,  5.1741e-01, -9.7214e-01,  7.3175e-01, -8.0387e-01,\n",
              "          -5.8973e-01, -4.1078e-02,  3.0713e-01,  5.4939e-01,  2.2462e-01,\n",
              "           1.2938e+00,  3.6014e-02,  7.1064e-01, -8.6218e-01,  9.1648e-01,\n",
              "           8.8148e-01,  1.1954e+00, -1.8683e-01, -4.0932e-01,  8.6889e-01,\n",
              "           1.3503e+00, -3.3775e-01,  5.7282e-01,  1.0304e+00,  8.6765e-01,\n",
              "          -1.3771e+00,  5.6051e-03, -1.3229e+00,  1.7073e+00, -5.2398e-01,\n",
              "          -3.9107e-01,  1.5967e+00, -6.2324e-01, -9.3112e-01,  1.0399e+00,\n",
              "           8.1570e-01,  1.4540e+00,  6.2157e-01, -5.9653e-01, -3.7842e-01,\n",
              "          -2.6116e-01, -5.9038e-01,  9.0611e-02, -4.6101e-01, -1.1148e+00,\n",
              "           1.1150e+00, -1.5212e+00,  8.5807e-01, -4.2014e-02, -2.8114e-01,\n",
              "           1.2223e+00,  1.4268e-01, -6.0148e-01, -2.4449e+00, -1.1055e-01,\n",
              "           2.4346e+00,  9.2910e-01, -1.0314e+00,  1.2590e+00, -6.2636e-01,\n",
              "          -7.4908e-01,  1.0346e+00, -1.0062e+00,  1.2997e+00,  3.5954e-01]]),\n",
              " tensor([[0., 0., 0., 0., 1., 0., 0., 0., 0., 0.],\n",
              "         [0., 0., 0., 0., 0., 0., 0., 0., 1., 0.]]))"
            ]
          },
          "metadata": {
            "tags": []
          },
          "execution_count": 37
        }
      ]
    },
    {
      "cell_type": "markdown",
      "metadata": {
        "id": "hW05APOOxPFl"
      },
      "source": [
        "- make this as function"
      ]
    },
    {
      "cell_type": "code",
      "metadata": {
        "id": "QgSU8UT0xQ3i"
      },
      "source": [
        "def init_data():\n",
        "    x = torch.randn(n, m)\n",
        "    y = torch.zeros(n, c)\n",
        "    y[range(n), random.choices(range(10), k=n)] =1    \n",
        "    return x, y"
      ],
      "execution_count": 61,
      "outputs": []
    },
    {
      "cell_type": "markdown",
      "metadata": {
        "id": "acmCqQM6nZiu"
      },
      "source": [
        "keep this for later\n",
        "```\n",
        "class Linear():\n",
        "    def __init__(self, w, b):\n",
        "        self.w, self.b = w, b\n",
        "    def forward(self, x):\n",
        "        self.out = x@w+b\n",
        "class Relu():\n",
        "    def forward(self, x):\n",
        "        self.out = self.clamp_min(x)\n",
        "class CrossEntropy():\n",
        "    pass    \n",
        "```"
      ]
    },
    {
      "cell_type": "code",
      "metadata": {
        "id": "tenbFz0FtASq"
      },
      "source": [
        "def linear(x, w, b):\n",
        "    return x@w +b\n",
        "def relu(x, mu=0):\n",
        "    return x.clamp_min(0.) -mu\n",
        "def softmax(x):\n",
        "    return (x.exp()/ x.exp().sum(-1, keepdim=True))"
      ],
      "execution_count": 59,
      "outputs": []
    },
    {
      "cell_type": "code",
      "metadata": {
        "id": "Gw9gsBNJtL0h"
      },
      "source": [
        "lin1 = linear(dummy_x, w1, b1)"
      ],
      "execution_count": 39,
      "outputs": []
    },
    {
      "cell_type": "code",
      "metadata": {
        "colab": {
          "base_uri": "https://localhost:8080/"
        },
        "id": "V84POQBHtOqS",
        "outputId": "3f2dfdf0-9666-4dc2-f2b9-cc8e2bd19e8a"
      },
      "source": [
        "lin1.shape"
      ],
      "execution_count": 40,
      "outputs": [
        {
          "output_type": "execute_result",
          "data": {
            "text/plain": [
              "torch.Size([5000, 50])"
            ]
          },
          "metadata": {
            "tags": []
          },
          "execution_count": 40
        }
      ]
    },
    {
      "cell_type": "code",
      "metadata": {
        "id": "SuY-rGb5ttH1"
      },
      "source": [
        "a1 = relu(lin1)\n",
        "lin2 = linear(a1, w2, b2)"
      ],
      "execution_count": 41,
      "outputs": []
    },
    {
      "cell_type": "code",
      "metadata": {
        "colab": {
          "base_uri": "https://localhost:8080/"
        },
        "id": "BsPQh83Dt6N0",
        "outputId": "b190cd19-7d9e-4c6b-a0c1-c9bb676254f0"
      },
      "source": [
        "a1.mean(), a1.std() #quite big T.T.. we need to introduce norm method.. lalter"
      ],
      "execution_count": 42,
      "outputs": [
        {
          "output_type": "execute_result",
          "data": {
            "text/plain": [
              "(tensor(3.9345), tensor(5.7903))"
            ]
          },
          "metadata": {
            "tags": []
          },
          "execution_count": 42
        }
      ]
    },
    {
      "cell_type": "code",
      "metadata": {
        "colab": {
          "base_uri": "https://localhost:8080/"
        },
        "id": "k6SOEP9utQIM",
        "outputId": "640ee1f1-3396-4461-86d5-0cae3e1b1a90"
      },
      "source": [
        "lin2.shape"
      ],
      "execution_count": 43,
      "outputs": [
        {
          "output_type": "execute_result",
          "data": {
            "text/plain": [
              "torch.Size([5000, 10])"
            ]
          },
          "metadata": {
            "tags": []
          },
          "execution_count": 43
        }
      ]
    },
    {
      "cell_type": "code",
      "metadata": {
        "id": "oVpX-4RFuDqh"
      },
      "source": [
        "out = softmax(lin2)"
      ],
      "execution_count": 44,
      "outputs": []
    },
    {
      "cell_type": "code",
      "metadata": {
        "colab": {
          "base_uri": "https://localhost:8080/"
        },
        "id": "Y3zsLnZCvVPZ",
        "outputId": "a5c66853-5d60-429d-db88-e4b9feab1ee8"
      },
      "source": [
        "out[:10]"
      ],
      "execution_count": 45,
      "outputs": [
        {
          "output_type": "execute_result",
          "data": {
            "text/plain": [
              "tensor([[-6.2238e+00, -9.2491e+01, -6.7284e+01, -5.8517e+01, -8.6641e+01,\n",
              "         -6.5940e+01, -1.9836e-03, -8.9085e+01, -6.0520e+01,        -inf],\n",
              "        [        nan,        -inf,        -inf,        -inf,        -inf,\n",
              "                -inf,        -inf,        -inf,        -inf,        -inf],\n",
              "        [-2.5412e+01, -6.3892e+00, -3.9197e-01,        -inf, -2.0100e+01,\n",
              "         -5.9749e+01, -1.1314e+00, -3.2975e+01, -1.8035e+01, -8.0769e+01],\n",
              "        [-3.6956e-05, -4.7363e+01, -1.9230e+01, -1.1031e+01, -6.4294e+01,\n",
              "         -9.2967e+01, -1.0782e+01, -5.9550e+01, -7.4302e+01, -8.6915e+01],\n",
              "        [-4.7989e+01, -2.0606e+01, -1.7268e+01,        -inf,        -inf,\n",
              "         -8.0262e+01, -5.9605e-08, -7.6601e+01, -3.6668e+01, -1.0071e+02],\n",
              "        [-2.4284e+01, -1.0006e+02, -2.3485e-05, -8.7749e+01, -1.0660e+01,\n",
              "         -2.4100e+01, -5.2645e+01, -6.9549e+01, -8.0756e+01,        -inf],\n",
              "        [-1.9809e+01,  0.0000e+00, -1.7215e+01, -5.2763e+01, -9.3995e+01,\n",
              "                -inf, -8.6620e+01, -4.0305e+01,        -inf,        -inf],\n",
              "        [ 0.0000e+00, -4.1039e+01,        -inf,        -inf,        -inf,\n",
              "                -inf,        -inf, -3.5245e+01, -8.7476e+01, -6.9285e+01],\n",
              "        [-2.9398e+01, -6.4771e+01, -7.7055e+00, -4.7383e+01, -4.9069e+01,\n",
              "         -7.6859e+01, -1.1973e-01, -2.1858e+00, -1.8359e+01,        -inf],\n",
              "        [-6.8555e+01, -6.1432e+01,  0.0000e+00,        -inf,        -inf,\n",
              "         -5.6769e+01, -1.9309e+01, -5.2198e+01, -7.9939e+01,        -inf]])"
            ]
          },
          "metadata": {
            "tags": []
          },
          "execution_count": 45
        }
      ]
    },
    {
      "cell_type": "code",
      "metadata": {
        "colab": {
          "base_uri": "https://localhost:8080/"
        },
        "id": "g2vQHjDfu5Yd",
        "outputId": "40704697-1c58-4713-fb3b-af292731510c"
      },
      "source": [
        "dummy_y.max(dim=1).indices #label"
      ],
      "execution_count": 29,
      "outputs": [
        {
          "output_type": "execute_result",
          "data": {
            "text/plain": [
              "tensor([4, 9, 8,  ..., 3, 5, 5])"
            ]
          },
          "metadata": {
            "tags": []
          },
          "execution_count": 29
        }
      ]
    },
    {
      "cell_type": "code",
      "metadata": {
        "colab": {
          "base_uri": "https://localhost:8080/"
        },
        "id": "_hSWnWjTuie1",
        "outputId": "553f80f3-e803-48a8-991d-4fcfe4385dd0"
      },
      "source": [
        "out[range(out.shape[0]), dummy_y.max(dim=1).indices]"
      ],
      "execution_count": 30,
      "outputs": [
        {
          "output_type": "execute_result",
          "data": {
            "text/plain": [
              "tensor([  0.0000,     -inf,     -inf,  ...,     -inf, -36.8967, -36.4830])"
            ]
          },
          "metadata": {
            "tags": []
          },
          "execution_count": 30
        }
      ]
    },
    {
      "cell_type": "code",
      "metadata": {
        "id": "u8E-bDyiuHke"
      },
      "source": [
        "def cross_entropy(y, yhat):\n",
        "    return (yhat.log()[range(yhat.shape[0]), y.max(dim=1).indices]).mean()"
      ],
      "execution_count": 54,
      "outputs": []
    },
    {
      "cell_type": "code",
      "metadata": {
        "id": "VWxM2LODwW3K"
      },
      "source": [
        "loss = cross_entropy(out, dummy_y)"
      ],
      "execution_count": 55,
      "outputs": []
    },
    {
      "cell_type": "code",
      "metadata": {
        "colab": {
          "base_uri": "https://localhost:8080/"
        },
        "id": "Rf6eSUH4wbTN",
        "outputId": "90745766-bd4f-4401-fc0b-1a17d1e69270"
      },
      "source": [
        "loss"
      ],
      "execution_count": 56,
      "outputs": [
        {
          "output_type": "execute_result",
          "data": {
            "text/plain": [
              "tensor(-inf)"
            ]
          },
          "metadata": {
            "tags": []
          },
          "execution_count": 56
        }
      ]
    },
    {
      "cell_type": "markdown",
      "metadata": {
        "id": "2w1lP8JFwjgR"
      },
      "source": [
        "---"
      ]
    },
    {
      "cell_type": "markdown",
      "metadata": {
        "id": "SsF1Xbjcwslj"
      },
      "source": [
        "- I got -inf loss...... let me try kaiming init + relu mean modification"
      ]
    },
    {
      "cell_type": "code",
      "metadata": {
        "id": "cGVPpaqcw6Xz"
      },
      "source": [
        "import math"
      ],
      "execution_count": 57,
      "outputs": []
    },
    {
      "cell_type": "code",
      "metadata": {
        "id": "biY4hxQow3F4"
      },
      "source": [
        "w1 = torch.randn(m, h) / math.sqrt(h)\n",
        "w2 = torch.randn(h, c) / math.sqrt(c)\n",
        "b1 = torch.randn(h)\n",
        "b2 = torch.randn(c)"
      ],
      "execution_count": 58,
      "outputs": []
    },
    {
      "cell_type": "code",
      "metadata": {
        "id": "sQg-2FvaxCyw"
      },
      "source": [
        "from functools import partial\n",
        "relu2 = partial(relu, mu=0.5)"
      ],
      "execution_count": 60,
      "outputs": []
    },
    {
      "cell_type": "code",
      "metadata": {
        "id": "ihYsAwFvw60f"
      },
      "source": [
        "dummy_x2, dummy_y2 = init_data()"
      ],
      "execution_count": 62,
      "outputs": []
    },
    {
      "cell_type": "code",
      "metadata": {
        "id": "r217JX2-xhRZ"
      },
      "source": [
        "lin1_2 = linear(dummy_x2, w1, b1)\n",
        "a2 = relu2(lin1_2)\n",
        "lin2_2 = linear(a2, w2, b2)\n",
        "out2 = softmax(lin2_2)"
      ],
      "execution_count": 65,
      "outputs": []
    },
    {
      "cell_type": "code",
      "metadata": {
        "colab": {
          "base_uri": "https://localhost:8080/"
        },
        "id": "pu-sF1zox5tf",
        "outputId": "207b0c5b-123e-42f4-f430-50c992a620b7"
      },
      "source": [
        "out2[:10] #this seem much better :)"
      ],
      "execution_count": 66,
      "outputs": [
        {
          "output_type": "execute_result",
          "data": {
            "text/plain": [
              "tensor([[3.1497e-01, 4.9887e-02, 3.9724e-03, 7.2713e-02, 2.1319e-01, 3.8921e-02,\n",
              "         2.8901e-02, 2.3906e-01, 2.1904e-02, 1.6479e-02],\n",
              "        [8.6601e-01, 1.2302e-03, 2.2501e-04, 1.0445e-01, 3.2023e-03, 9.3809e-04,\n",
              "         1.4640e-02, 6.9775e-03, 1.0336e-03, 1.2944e-03],\n",
              "        [1.8768e-01, 4.1592e-02, 8.8009e-04, 1.7167e-01, 7.3062e-02, 6.9389e-02,\n",
              "         2.0415e-01, 6.6745e-02, 1.3770e-01, 4.7142e-02],\n",
              "        [5.1205e-02, 8.3358e-04, 1.7003e-03, 3.4740e-01, 8.7307e-02, 6.6863e-02,\n",
              "         2.0067e-01, 2.3603e-03, 1.8758e-01, 5.4083e-02],\n",
              "        [8.5319e-01, 4.4327e-02, 6.6672e-05, 7.3856e-02, 1.1946e-02, 3.1689e-03,\n",
              "         6.4267e-03, 2.1462e-04, 3.4284e-04, 6.4570e-03],\n",
              "        [2.7209e-01, 1.8657e-02, 5.1879e-03, 1.7417e-01, 2.1907e-01, 1.4561e-02,\n",
              "         1.2087e-01, 1.6391e-02, 3.1483e-02, 1.2753e-01],\n",
              "        [3.9201e-02, 3.8379e-03, 5.6551e-04, 3.2937e-01, 4.8916e-01, 6.6830e-02,\n",
              "         3.5940e-03, 4.9645e-02, 9.2131e-03, 8.5757e-03],\n",
              "        [2.7155e-01, 3.6997e-02, 8.5681e-03, 4.3370e-02, 2.5372e-01, 3.0486e-01,\n",
              "         1.0252e-02, 2.1844e-02, 3.8520e-02, 1.0320e-02],\n",
              "        [1.0999e-01, 1.3809e-03, 2.0351e-03, 7.8568e-01, 2.9750e-02, 7.4126e-03,\n",
              "         5.7697e-02, 1.7978e-04, 3.7327e-03, 2.1403e-03],\n",
              "        [8.1012e-02, 1.1097e-01, 8.0559e-04, 3.9755e-01, 2.9295e-02, 4.0415e-02,\n",
              "         1.2750e-01, 9.3808e-03, 1.0318e-01, 9.9886e-02]])"
            ]
          },
          "metadata": {
            "tags": []
          },
          "execution_count": 66
        }
      ]
    },
    {
      "cell_type": "code",
      "metadata": {
        "colab": {
          "base_uri": "https://localhost:8080/"
        },
        "id": "iPn_7Pr5yAKU",
        "outputId": "e3163f9b-c8cc-4943-b8e8-705b5e7371b4"
      },
      "source": [
        "cross_entropy(dummy_y2, out2)"
      ],
      "execution_count": 67,
      "outputs": [
        {
          "output_type": "execute_result",
          "data": {
            "text/plain": [
              "tensor(-4.1377)"
            ]
          },
          "metadata": {
            "tags": []
          },
          "execution_count": 67
        }
      ]
    },
    {
      "cell_type": "markdown",
      "metadata": {
        "id": "8HeulbP9yF65"
      },
      "source": [
        "- fair enough"
      ]
    },
    {
      "cell_type": "code",
      "metadata": {
        "id": "PglV9at8yHNo"
      },
      "source": [
        ""
      ],
      "execution_count": null,
      "outputs": []
    }
  ]
}