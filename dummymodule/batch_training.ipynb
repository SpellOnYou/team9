{
  "nbformat": 4,
  "nbformat_minor": 0,
  "metadata": {
    "colab": {
      "name": "batch-training.ipynb",
      "provenance": [],
      "authorship_tag": "ABX9TyOyUwv0NWnZKofvucbAiUZR",
      "include_colab_link": true
    },
    "kernelspec": {
      "name": "python3",
      "display_name": "Python 3"
    },
    "language_info": {
      "name": "python"
    }
  },
  "cells": [
    {
      "cell_type": "markdown",
      "metadata": {
        "id": "view-in-github",
        "colab_type": "text"
      },
      "source": [
        "<a href=\"https://colab.research.google.com/github/SpellOnYou/CLab21/blob/main/dummymodule/batch_training.ipynb\" target=\"_parent\"><img src=\"https://colab.research.google.com/assets/colab-badge.svg\" alt=\"Open In Colab\"/></a>"
      ]
    },
    {
      "cell_type": "code",
      "metadata": {
        "id": "51j3XgaEX4XH",
        "colab": {
          "base_uri": "https://localhost:8080/"
        },
        "collapsed": true,
        "outputId": "f1fdf8f1-60b2-4a50-c135-d3f08d315e13"
      },
      "source": [
        "import random, torch, math\n",
        "!pip install -q ipdb\n",
        "import ipdb"
      ],
      "execution_count": 1,
      "outputs": [
        {
          "output_type": "stream",
          "text": [
            "\u001b[K     |████████████████████████████████| 788kB 7.2MB/s \n",
            "\u001b[K     |████████████████████████████████| 368kB 11.1MB/s \n",
            "\u001b[?25h  Building wheel for ipdb (setup.py) ... \u001b[?25l\u001b[?25hdone\n",
            "\u001b[31mERROR: jupyter-console 5.2.0 has requirement prompt-toolkit<2.0.0,>=1.0.0, but you'll have prompt-toolkit 3.0.18 which is incompatible.\u001b[0m\n",
            "\u001b[31mERROR: google-colab 1.0.0 has requirement ipython~=5.5.0, but you'll have ipython 7.23.1 which is incompatible.\u001b[0m\n"
          ],
          "name": "stdout"
        }
      ]
    },
    {
      "cell_type": "code",
      "metadata": {
        "id": "hC7ipD8ANVmV"
      },
      "source": [
        "class Linear():\n",
        "    def __init__(self, w, b):\n",
        "        self.w, self.b = w, b\n",
        "    def forward(self, x): \n",
        "        self.inp = x\n",
        "        self.out = self.inp@self.w + self.b\n",
        "        return self.out\n",
        "    \n",
        "    def backward(self):\n",
        "        self.inp.g = self.out.g @ self.w.t()\n",
        "        self.w.g = (self.inp.unsqueeze(-1) * self.out.g.unsqueeze(1)).sum(0)\n",
        "        self.b.g = self.out.g.sum(0)"
      ],
      "execution_count": 2,
      "outputs": []
    },
    {
      "cell_type": "code",
      "metadata": {
        "id": "0-W4_imuNzhq"
      },
      "source": [
        "class Relu():\n",
        "    def forward(self, x):\n",
        "        self.inp = x\n",
        "        self.out = x.clamp_min(0.) - 0.5\n",
        "        return self.out\n",
        "\n",
        "    def backward(self):\n",
        "        self.inp.g = self.out.g* (self.inp>0).float()"
      ],
      "execution_count": 3,
      "outputs": []
    },
    {
      "cell_type": "code",
      "metadata": {
        "id": "MrXxOqhbS1Nx"
      },
      "source": [
        "class Softmax():\n",
        "    def forward(self, x):\n",
        "        self.inp = x\n",
        "        self.out = (x.exp()/ x.exp().sum(-1, keepdim=True))\n",
        "        return self.out\n",
        "\n",
        "    def backward(self):\n",
        "        self.inp.g = (1-self.out.g)*self.out.g\n",
        "\n",
        "class CrossEntropy():\n",
        "    def __call__(self, y, yhat):\n",
        "        self.yhat = yhat\n",
        "        self.y = y\n",
        "        return (-yhat.log()[range(yhat.shape[0]), y.max(dim=1).indices]).mean()\n",
        "    \n",
        "    def backward(self):\n",
        "        self.yhat.g = self.yhat - self.y"
      ],
      "execution_count": 38,
      "outputs": []
    },
    {
      "cell_type": "code",
      "metadata": {
        "id": "8cbpa37JU1sM"
      },
      "source": [
        "class DummyModel():\n",
        "    def __init__(self, w1, b1, w2, b2):\n",
        "        self.loss = CrossEntropy()\n",
        "        self.layers = [Linear(w1,b1), Relu(), Linear(w2, b2), Softmax()]\n",
        "    \n",
        "    def forward(self, x, y):\n",
        "        for layer in self.layers:\n",
        "            # ipdb.set_trace()\n",
        "            x = layer.forward(x)\n",
        "        self.out = x\n",
        "        return self.out\n",
        "\n",
        "    def backward(self):\n",
        "        self.loss.backward()\n",
        "        for layer in reversed(self.layers):\n",
        "            layer.backward()"
      ],
      "execution_count": 40,
      "outputs": []
    },
    {
      "cell_type": "code",
      "metadata": {
        "id": "1hOfX_SQT4zF"
      },
      "source": [
        "m, n, h, c = 5000, 100, 50, 6\n",
        "w1 = torch.randn(m, h) / math.sqrt(h)\n",
        "w2 = torch.randn(h, c) / math.sqrt(c)\n",
        "b1 = torch.randn(h)\n",
        "b2 = torch.randn(c)"
      ],
      "execution_count": 41,
      "outputs": []
    },
    {
      "cell_type": "code",
      "metadata": {
        "id": "3Wk8_ynjYX4x"
      },
      "source": [
        "dummy_x, dummy_y = init_data()"
      ],
      "execution_count": 42,
      "outputs": []
    },
    {
      "cell_type": "code",
      "metadata": {
        "id": "dqUNJ2XdVnk3"
      },
      "source": [
        "model = DummyModel(w1, b1, w2, b2)"
      ],
      "execution_count": 43,
      "outputs": []
    },
    {
      "cell_type": "code",
      "metadata": {
        "id": "DPRwAKD_VsED"
      },
      "source": [
        "out = model.forward(dummy_x, dummy_y)"
      ],
      "execution_count": 44,
      "outputs": []
    },
    {
      "cell_type": "code",
      "metadata": {
        "id": "ooZxHujXYAdf"
      },
      "source": [
        "loss = model.loss(dummy_y, out)"
      ],
      "execution_count": 45,
      "outputs": []
    },
    {
      "cell_type": "code",
      "metadata": {
        "id": "L7Z8gCYcZMME"
      },
      "source": [
        "model.backward()"
      ],
      "execution_count": 46,
      "outputs": []
    },
    {
      "cell_type": "code",
      "metadata": {
        "colab": {
          "base_uri": "https://localhost:8080/"
        },
        "id": "0UGeSzWCo_Tm",
        "outputId": "332ced22-2d55-4cf5-8bad-7f0e91247737"
      },
      "source": [
        "[hasattr(l, 'w') for l in model.layers]"
      ],
      "execution_count": 55,
      "outputs": [
        {
          "output_type": "execute_result",
          "data": {
            "text/plain": [
              "[True, False, True, False]"
            ]
          },
          "metadata": {
            "tags": []
          },
          "execution_count": 55
        }
      ]
    },
    {
      "cell_type": "markdown",
      "metadata": {
        "id": "_-xIT02JbaNn"
      },
      "source": [
        "## Training process"
      ]
    },
    {
      "cell_type": "code",
      "metadata": {
        "id": "H72eAdlkXyVH"
      },
      "source": [
        "def init_data():\n",
        "    x = torch.randn(n, m)\n",
        "    y = torch.zeros(n, c)\n",
        "    y[range(n), random.choices(range(c), k=n)] =1    \n",
        "    return x, y"
      ],
      "execution_count": 82,
      "outputs": []
    },
    {
      "cell_type": "code",
      "metadata": {
        "id": "hmAIaa_lndtu"
      },
      "source": [
        "n, m, h, c = 50000, 100, 50, 6\n",
        "w1 = torch.randn(m, h) / math.sqrt(h)\n",
        "w2 = torch.randn(h, c) / math.sqrt(c)\n",
        "b1 = torch.randn(h)\n",
        "b2 = torch.randn(c)"
      ],
      "execution_count": 87,
      "outputs": []
    },
    {
      "cell_type": "code",
      "metadata": {
        "id": "giSnuilinfku"
      },
      "source": [
        "dummy_x, dummy_y = init_data()"
      ],
      "execution_count": 88,
      "outputs": []
    },
    {
      "cell_type": "code",
      "metadata": {
        "id": "L0GBB_MFnbYp"
      },
      "source": [
        "model = DummyModel(w1, b1, w2, b2)"
      ],
      "execution_count": 89,
      "outputs": []
    },
    {
      "cell_type": "code",
      "metadata": {
        "colab": {
          "base_uri": "https://localhost:8080/"
        },
        "id": "GiDEtTNRqP9T",
        "outputId": "8473afce-9e9f-4924-a80c-ca57647288e5"
      },
      "source": [
        "res = model.forward(dummy_x, dummy_y)\n",
        "model.loss(dummy_y, res)"
      ],
      "execution_count": 90,
      "outputs": [
        {
          "output_type": "execute_result",
          "data": {
            "text/plain": [
              "tensor(4.2179)"
            ]
          },
          "metadata": {
            "tags": []
          },
          "execution_count": 90
        }
      ]
    },
    {
      "cell_type": "code",
      "metadata": {
        "id": "oTLoTunJlBhX"
      },
      "source": [
        "def train(epochs, bs, lr):\n",
        "    for e in range(epochs):\n",
        "        for bs_i in range((n-1)//bs + 1):\n",
        "            str_idx, end_idx = bs_i*bs, (bs_i+1)*bs\n",
        "            x_batch, y_batch = dummy_x[str_idx:end_idx], dummy_y[str_idx:end_idx]\n",
        "            res = model.forward(x_batch, y_batch)\n",
        "            loss = model.loss(y_batch, res)\n",
        "            model.backward()\n",
        "            with torch.no_grad():\n",
        "                for layer in model.layers:\n",
        "                    if hasattr(layer, 'w'): #if they have parameter attribute\n",
        "                        layer.w -= layer.w.g * lr\n",
        "                        layer.b -= layer.b.g * lr\n",
        "                        layer.w.g.zero_() #initialize them to zero\n",
        "                        layer.b.g.zero_()"
      ],
      "execution_count": 91,
      "outputs": []
    },
    {
      "cell_type": "code",
      "metadata": {
        "id": "jw1GQrXipi8O"
      },
      "source": [
        "train(1, 32, 0.1)"
      ],
      "execution_count": 92,
      "outputs": []
    },
    {
      "cell_type": "code",
      "metadata": {
        "colab": {
          "base_uri": "https://localhost:8080/"
        },
        "id": "EiDcdaTnpmQS",
        "outputId": "1d4504bd-e949-400f-f362-68502ab51a6e"
      },
      "source": [
        "res = model.forward(dummy_x, dummy_y)\n",
        "model.loss(dummy_y, res)"
      ],
      "execution_count": 93,
      "outputs": [
        {
          "output_type": "execute_result",
          "data": {
            "text/plain": [
              "tensor(nan)"
            ]
          },
          "metadata": {
            "tags": []
          },
          "execution_count": 93
        }
      ]
    },
    {
      "cell_type": "code",
      "metadata": {
        "id": "goBTC4LtqnDi"
      },
      "source": [
        ""
      ],
      "execution_count": null,
      "outputs": []
    }
  ]
}